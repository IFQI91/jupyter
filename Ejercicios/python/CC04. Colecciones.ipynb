{
 "cells": [
  {
   "cell_type": "markdown",
   "id": "2a50f8f1",
   "metadata": {},
   "source": [
    "# **<span style=\"color:red\">Taller: Introducción a la programación en Python</span>**\n",
    "\n",
    "    \"Los lenguajes de programación son duros porque antes de hacer cosas    interesantes estamos obligados a conocer la sintáxis\" (Juan Días, 2017)\n",
    "\n",
    "#  **<span style=\"color:blue\">Colecciones</span>**"
   ]
  },
  {
   "cell_type": "markdown",
   "id": "ebef02f4",
   "metadata": {},
   "source": [
    "En el archivo anterior vimos algunos tipos básicos, como los números, las cadenas de texto y los booleanos. En este archivo veremos algunos tipos de colecciones de datos: *listas, tuplas y diccionarios*."
   ]
  },
  {
   "cell_type": "markdown",
   "id": "6031841d",
   "metadata": {},
   "source": [
    "##  **<span style=\"color:blue\">Listas</span>**"
   ]
  },
  {
   "cell_type": "markdown",
   "id": "4e0dc535",
   "metadata": {},
   "source": [
    "La **lista** es un *tipo de colección ordenada*. Sería equivalente a lo que en otros lenguajes se conoce por *arrays*, o *vectores*."
   ]
  },
  {
   "cell_type": "markdown",
   "id": "40908481",
   "metadata": {},
   "source": [
    "Las *listas* pueden contener cualquier tipo de dato: *números*, *cadenas*, *booleanos*, y también *listas*."
   ]
  },
  {
   "cell_type": "markdown",
   "id": "749a542f",
   "metadata": {},
   "source": [
    "Crear una *lista* es tan sencillo como indicar entre corchetes, y separados por comas, los valores que queremos incluir en la lista:"
   ]
  },
  {
   "cell_type": "code",
   "execution_count": null,
   "id": "538b7bd3",
   "metadata": {},
   "outputs": [],
   "source": []
  },
  {
   "cell_type": "markdown",
   "id": "cb804b6b",
   "metadata": {},
   "source": [
    "Podemos **acceder** a cada uno de los elementos de la lista escribiendo el *nombre de la lista* e *indicando el índice del elemento* entre corchetes. \n",
    "\n",
    "Es importante tener en cuenta que el *índice del primer elemento* de la lista es $0$, y no $1$:"
   ]
  },
  {
   "cell_type": "code",
   "execution_count": null,
   "id": "9fb64de1",
   "metadata": {},
   "outputs": [],
   "source": []
  },
  {
   "cell_type": "markdown",
   "id": "d0be896b",
   "metadata": {},
   "source": [
    "Si queremos **acceder** a un *elemento* de una *lista incluida dentro de otra lista* tendremos que utilizar **dos veces** este operador, primero para indicar a qué posición de la lista exterior queremos acceder, y el segundo para seleccionar el elemento de la lista interior:"
   ]
  },
  {
   "cell_type": "code",
   "execution_count": null,
   "id": "ff550929",
   "metadata": {},
   "outputs": [],
   "source": []
  },
  {
   "cell_type": "markdown",
   "id": "dce25aa4",
   "metadata": {},
   "source": [
    "También podemos utilizar este operador para **modificar** un elemento de la lista si lo colocamos en la parte *izquierda de una asignación*:"
   ]
  },
  {
   "cell_type": "code",
   "execution_count": null,
   "id": "e7c4a035",
   "metadata": {},
   "outputs": [],
   "source": []
  },
  {
   "cell_type": "markdown",
   "id": "7df7d8f4",
   "metadata": {},
   "source": [
    "El uso de los corchetes para acceder y modificar los elementos de una lista es común en muchos lenguajes, pero Python nos depara varias sorpresas muy agradables."
   ]
  },
  {
   "cell_type": "markdown",
   "id": "88ff7e93",
   "metadata": {},
   "source": [
    "Una *curiosidad* sobre el operador *[]* de *Python* es que podemos utilizar también números negativos. Si se utiliza un número negativo como índice, esto se traduce en que el índice empieza a contar desde el final, hacia la izquierda; es decir, con *[-1]* accederíamos al último elemento de la lista, con *[-2]* al penúltimo, con *[-3]*, al antepenúltimo, y así sucesivamente."
   ]
  },
  {
   "cell_type": "code",
   "execution_count": null,
   "id": "91b0c1e4",
   "metadata": {},
   "outputs": [],
   "source": []
  },
  {
   "cell_type": "markdown",
   "id": "5426b3ff",
   "metadata": {},
   "source": [
    "Otra *cosa inusual* es lo que en Python se conoce como **slicing** o *particionado*, y que consiste en ampliar este mecanismo para permitir seleccionar **porciones de la lista**. Si en lugar de un número escribimos dos números *inicio* y *fin* *separados por dos puntos* $(inicio:fin)$ *Python* interpretará que queremos una lista que vaya desde la posición inicio a la posición fin, **sin incluir este último**. \n",
    "\n",
    "Si escribimos tres números $(inicio:fin:salto)$ en lugar de dos, el tercero se utiliza para determinar cada cuantas posiciones añadir un elemento a la lista."
   ]
  },
  {
   "cell_type": "code",
   "execution_count": null,
   "id": "fe99d5c2",
   "metadata": {},
   "outputs": [],
   "source": []
  },
  {
   "cell_type": "markdown",
   "id": "f2d4d406",
   "metadata": {},
   "source": [
    "Los *números negativos* también se pueden utilizar en un *slicing*, con el mismo comportamiento que se comentó anteriormente."
   ]
  },
  {
   "cell_type": "markdown",
   "id": "0f283e4d",
   "metadata": {},
   "source": [
    "Hay que mencionar así mismo que no es necesario indicar el *principio* y el *final* del *slicing*, sino que, si estos se omiten, se usarán por defecto las posiciones de inicio y fin de la lista, respectivamente:"
   ]
  },
  {
   "cell_type": "code",
   "execution_count": null,
   "id": "de1826f8",
   "metadata": {},
   "outputs": [],
   "source": []
  },
  {
   "cell_type": "markdown",
   "id": "ff6dfc66",
   "metadata": {},
   "source": [
    "También podemos utilizar este mecanismo para *modificar* la *lista*:"
   ]
  },
  {
   "cell_type": "code",
   "execution_count": null,
   "id": "7fd4d71d",
   "metadata": {},
   "outputs": [],
   "source": []
  },
  {
   "cell_type": "markdown",
   "id": "d3eec2fc",
   "metadata": {},
   "source": [
    "pudiendo incluso *modificar el tamaño* de la lista si la lista de la parte derecha de la asignación tiene un tamaño menor o mayor que el de la selección de la parte izquierda de la asignación:"
   ]
  },
  {
   "cell_type": "code",
   "execution_count": null,
   "id": "45115009",
   "metadata": {},
   "outputs": [],
   "source": []
  },
  {
   "cell_type": "markdown",
   "id": "0e1b062e",
   "metadata": {},
   "source": [
    "Para **agregar** elementos a una lista debemos usar el método **append()**. Creemos una lista con nombre de personas:"
   ]
  },
  {
   "cell_type": "code",
   "execution_count": null,
   "id": "62cb7b12",
   "metadata": {},
   "outputs": [],
   "source": []
  },
  {
   "cell_type": "markdown",
   "id": "78584c59",
   "metadata": {},
   "source": [
    "Si queremos, por ejemplo, agregar \"Sandra\" a nuestra lista, usamos este método:"
   ]
  },
  {
   "cell_type": "code",
   "execution_count": null,
   "id": "cb5d9950",
   "metadata": {},
   "outputs": [],
   "source": []
  },
  {
   "cell_type": "markdown",
   "id": "55f93317",
   "metadata": {},
   "source": [
    "Notamos que *append()* agrega el elemento al final de la lista, en el caso en que quisieramos que el elemento fuera agregado en punto intermedio entonces *append()* no nos sirve.\n",
    "\n",
    "Debemos utilizar otro **método**: **insert()**. Este método tiene dos argumentos, el segundo es el elemento que queremos introducir y el primero la posición en la que deseamos introducirlo. "
   ]
  },
  {
   "cell_type": "code",
   "execution_count": null,
   "id": "4a7e8faf",
   "metadata": {
    "scrolled": true
   },
   "outputs": [],
   "source": []
  },
  {
   "cell_type": "markdown",
   "id": "764f39e0",
   "metadata": {},
   "source": [
    "Ahora, si quisieramos agregar no uno, sino varios alementos a una lista, podemos utilizar el **método** **extend()**, como argumento ponemos una lista, i.e. entre corchetes, los elementos que queremos agregar.\n",
    "\n",
    "*Lo anterior es como si estuvieramos concatenando o uniendo dos lista.*"
   ]
  },
  {
   "cell_type": "code",
   "execution_count": null,
   "id": "84828351",
   "metadata": {},
   "outputs": [],
   "source": []
  },
  {
   "cell_type": "markdown",
   "id": "2e9ffb99",
   "metadata": {},
   "source": [
    "Es muy probable que más adelante estemos interesados que el Python nos devuelva el *índice de un elemento* dentro de una lista. Sería cómo hacernos la pregunta: *¿En qué índice está Matha?*, *¿En qué índice está Antonio?*\n",
    "\n",
    "Esto lo conseguimos con el **método** **index()**, cuyo argumento es el elemento del que queremos saber el índice. Por ejemplo, si queremos saber el índice en que está Martha, usamos:"
   ]
  },
  {
   "cell_type": "code",
   "execution_count": null,
   "id": "fc688c48",
   "metadata": {},
   "outputs": [],
   "source": []
  },
  {
   "cell_type": "markdown",
   "id": "3757cf05",
   "metadata": {},
   "source": [
    "**Nota:** en caso de que haya elementos repetidos en la lista, el método $index()$ simpre nos devolverá el índice del primer elemento."
   ]
  },
  {
   "cell_type": "markdown",
   "id": "93be4d45",
   "metadata": {},
   "source": [
    "Si queremos comprobar si un elemento se encuentra o no se encuetra en una lista usamos el operador **in**, que devolverá True si el elemento se encuentra en la lista, y False si no se encuentra."
   ]
  },
  {
   "cell_type": "code",
   "execution_count": null,
   "id": "729d5588",
   "metadata": {},
   "outputs": [],
   "source": []
  },
  {
   "cell_type": "markdown",
   "id": "4a1c6552",
   "metadata": {},
   "source": [
    "Hemos estado trabajando con el mismo tipo de dato, pero recordemos que podemos combinarlos."
   ]
  },
  {
   "cell_type": "code",
   "execution_count": null,
   "id": "390fc766",
   "metadata": {},
   "outputs": [],
   "source": []
  },
  {
   "cell_type": "markdown",
   "id": "f8d9a9de",
   "metadata": {},
   "source": [
    "Para **eliminar** elementos utilizamos el **método** **remove()**, cuyo argumento es el elemento que queremos eliminar. Por ejemplo si de la lista anterior queremos el elemento \"Maria\", utilizamos:"
   ]
  },
  {
   "cell_type": "code",
   "execution_count": null,
   "id": "b99b3178",
   "metadata": {
    "scrolled": true
   },
   "outputs": [],
   "source": []
  },
  {
   "cell_type": "markdown",
   "id": "aaee9ac0",
   "metadata": {},
   "source": [
    "Similar a $append()$ que agrega un elemento al final de una lista, existe el **método** **pop()** que lo que hace es eliminar el último elemento de una lista."
   ]
  },
  {
   "cell_type": "code",
   "execution_count": null,
   "id": "026ddc3a",
   "metadata": {},
   "outputs": [],
   "source": []
  },
  {
   "cell_type": "markdown",
   "id": "716b0323",
   "metadata": {},
   "source": [
    "Finalmente, es importante mencionar que el operador suma $+$ cuando se trabaja con listas funciona como **concatenador**. Por ejemplo:"
   ]
  },
  {
   "cell_type": "code",
   "execution_count": null,
   "id": "df10f294",
   "metadata": {
    "scrolled": true
   },
   "outputs": [],
   "source": []
  },
  {
   "cell_type": "markdown",
   "id": "789be3a2",
   "metadata": {},
   "source": [
    "**¿Cuál es la diferencia entre el método .extend() y el operador + al trabajar con lista?**."
   ]
  },
  {
   "cell_type": "markdown",
   "id": "febc71ca",
   "metadata": {},
   "source": [
    "*Respuesta:* "
   ]
  },
  {
   "cell_type": "markdown",
   "id": "03ea582e",
   "metadata": {},
   "source": [
    "**Nota:** al trabajar con lista el operador $*$ funciona como repetidor."
   ]
  },
  {
   "cell_type": "code",
   "execution_count": null,
   "id": "4f4f3e9b",
   "metadata": {},
   "outputs": [],
   "source": []
  },
  {
   "cell_type": "markdown",
   "id": "45d693e6",
   "metadata": {},
   "source": [
    "##  **<span style=\"color:blue\">Tuplas</span>**"
   ]
  },
  {
   "cell_type": "markdown",
   "id": "d6ac0f52",
   "metadata": {},
   "source": [
    "Las **tuplas** son *listas inmutables*, es decir, no se pueden modificar después de su creación:\n",
    " * No permiten añadir, eliminar, mover elementos, etc (no append, extend, remove).\n",
    " * Sí permiten extraer porciones, pero el resultado de la extracción es una tupla nueva.\n",
    " * Sí permiten busquedas (sí index()).\n",
    " * Sí permiten comprobar si un elemento se encuentra en la tupla (sí in)"
   ]
  },
  {
   "cell_type": "markdown",
   "id": "764a2661",
   "metadata": {},
   "source": [
    "¿Qué utilidad o ventaja tienen respecto a las listas?\n",
    " * Más rápidas\n",
    " * Menos espacio (mayor optimización)\n",
    " * Pueden utilizarse cómo llaves en un diccionario (las listas no)"
   ]
  },
  {
   "cell_type": "markdown",
   "id": "afda21d5",
   "metadata": {},
   "source": [
    "Otra cosa que diferencia las **tuplas** de las *listas* es la forma de definirlas, para lo que se utilizan **paréntesis** en lugar de *corchetes*."
   ]
  },
  {
   "cell_type": "code",
   "execution_count": null,
   "id": "680496d3",
   "metadata": {},
   "outputs": [],
   "source": []
  },
  {
   "cell_type": "markdown",
   "id": "2ba2475e",
   "metadata": {},
   "source": [
    "En realidad el constructor de la tupla es la **coma, no el paréntesis**, pero el intérprete muestra los paréntesis, y nosotros deberíamos utilizarlos, por claridad."
   ]
  },
  {
   "cell_type": "code",
   "execution_count": null,
   "id": "7eebe677",
   "metadata": {
    "scrolled": true
   },
   "outputs": [],
   "source": []
  },
  {
   "cell_type": "markdown",
   "id": "8d94ebed",
   "metadata": {},
   "source": [
    "Además hay que tener en cuenta que es necesario **añadir una coma para tuplas de un solo elemento**, para diferenciarlo de un elemento entre paréntesis."
   ]
  },
  {
   "cell_type": "code",
   "execution_count": null,
   "id": "0a322bd0",
   "metadata": {},
   "outputs": [],
   "source": []
  },
  {
   "cell_type": "markdown",
   "id": "e5fb9825",
   "metadata": {},
   "source": [
    "Para referirnos a *elementos de una tupla*, como en una lista, se usa el operador []:"
   ]
  },
  {
   "cell_type": "code",
   "execution_count": null,
   "id": "c2f0c5f4",
   "metadata": {},
   "outputs": [],
   "source": []
  },
  {
   "cell_type": "markdown",
   "id": "0001c4a3",
   "metadata": {},
   "source": [
    "Podemos utilizar el operador $[]$ debido a que las tuplas, al igual que las listas, forman parte de un tipo de objetos llamados **secuencias**. "
   ]
  },
  {
   "cell_type": "markdown",
   "id": "2751155c",
   "metadata": {},
   "source": [
    "**Nota**: Las **cadenas de texto** también son **secuencias**, por lo que no debe de extrañarnos que podamos hacer cosas como estas:"
   ]
  },
  {
   "cell_type": "code",
   "execution_count": null,
   "id": "e71941e9",
   "metadata": {},
   "outputs": [],
   "source": []
  },
  {
   "cell_type": "markdown",
   "id": "504ae9bd",
   "metadata": {},
   "source": [
    "No hay que olvidar que la diferencia de las *tuplas* con las *listas* estriba en que las **tuplas no poseen estos mecanismos de modificación a través de funciones tan útiles** de las que hablábamos al final de la anterior sección."
   ]
  },
  {
   "cell_type": "markdown",
   "id": "cfa0e12d",
   "metadata": {},
   "source": [
    "Además que son **inmutables**, es decir, sus valores no se pueden modificar una vez creada; y tienen un tamaño fijo."
   ]
  },
  {
   "cell_type": "markdown",
   "id": "d65f88c6",
   "metadata": {},
   "source": [
    "A que a cambio de estas limitaciones las tuplas son **más \"ligeras\"** que las listas, por lo que si el uso que le vamos a dar a una colección es muy básico, podemos utilizar *tuplas* en lugar de *listas* y ahorrar memoria."
   ]
  },
  {
   "cell_type": "markdown",
   "id": "e888b6ae",
   "metadata": {},
   "source": [
    "Ya que hemos visto qué es una lista y que es una tupla conviene saber que tenemos dos métodos que permiten **convertir tuplas en listas, y viceversa**. "
   ]
  },
  {
   "cell_type": "markdown",
   "id": "4a928519",
   "metadata": {},
   "source": [
    "Para convertir una tupla en una lista contamos con el método **list**:"
   ]
  },
  {
   "cell_type": "code",
   "execution_count": null,
   "id": "898180aa",
   "metadata": {},
   "outputs": [],
   "source": []
  },
  {
   "cell_type": "markdown",
   "id": "a9396fca",
   "metadata": {},
   "source": [
    "Para convertir una tupla en una lista contamos con el método **tuple**:"
   ]
  },
  {
   "cell_type": "code",
   "execution_count": null,
   "id": "2b757973",
   "metadata": {
    "scrolled": true
   },
   "outputs": [],
   "source": []
  },
  {
   "cell_type": "markdown",
   "id": "66072c8a",
   "metadata": {},
   "source": [
    "Las tuplas sí permiten comprobar si hay elementos dentro de la tupla:"
   ]
  },
  {
   "cell_type": "code",
   "execution_count": null,
   "id": "662eee70",
   "metadata": {},
   "outputs": [],
   "source": []
  },
  {
   "cell_type": "markdown",
   "id": "779bb2ea",
   "metadata": {},
   "source": [
    "Existe un método que nos permite averiguar cuántas veces se encuentra un elemento dentro de una tupla, el método **count** (también funciona para listas)"
   ]
  },
  {
   "cell_type": "code",
   "execution_count": null,
   "id": "1f94ffc1",
   "metadata": {},
   "outputs": [],
   "source": []
  },
  {
   "cell_type": "markdown",
   "id": "553acb59",
   "metadata": {},
   "source": [
    "Otro método que nos va a ser de mucha utilidad en los bucles es el método **len** nos permite averiguar la longitud de una tupla (también funciona para listas)"
   ]
  },
  {
   "cell_type": "code",
   "execution_count": null,
   "id": "287f1929",
   "metadata": {},
   "outputs": [],
   "source": []
  },
  {
   "cell_type": "markdown",
   "id": "ac36ab10",
   "metadata": {},
   "source": [
    "Una **cosa interesante** es que podemos asignar todos los elementos que formar parte de una tupla a diferentes variables (también funciona con listas):"
   ]
  },
  {
   "cell_type": "code",
   "execution_count": null,
   "id": "b2128ee4",
   "metadata": {},
   "outputs": [],
   "source": []
  },
  {
   "cell_type": "markdown",
   "id": "a2f8d9a4",
   "metadata": {},
   "source": [
    "##  **<span style=\"color:blue\">Diccionarios</span>**"
   ]
  },
  {
   "cell_type": "markdown",
   "id": "67039d9c",
   "metadata": {},
   "source": [
    "Los **diccionarios**, también llamados **matrices asociativas**, deben su nombre a que son colecciones que **relacionan una clave y un valor**. Por ejemplo, veamos un diccionario de países y capítales:"
   ]
  },
  {
   "cell_type": "code",
   "execution_count": null,
   "id": "afde5c74",
   "metadata": {
    "scrolled": true
   },
   "outputs": [],
   "source": []
  },
  {
   "cell_type": "markdown",
   "id": "48c5cc1e",
   "metadata": {},
   "source": [
    "El *primer valor* se trata de la **clave** y el *segundo* del **valor asociado a la clave**. Como *clave* podemos utilizar cualquier valor inmutable: podríamos usar *números*, *cadenas*, *booleanos*, *tuplas*, *pero no listas o diccionarios*, dado que son *mutables*. "
   ]
  },
  {
   "cell_type": "markdown",
   "id": "58f7e039",
   "metadata": {},
   "source": [
    "La diferencia principal entre los *diccionarios* y las *listas* o las *tuplas* es que a los valores almacenados en un diccionario se les accede *no por su índice*, porque de hecho no tienen orden, *sino por su clave*, utilizando de nuevo el operador $[]$."
   ]
  },
  {
   "cell_type": "markdown",
   "id": "8fd25fe4",
   "metadata": {},
   "source": [
    "Para **acceder** a un elemento de un diccionario debemos preguntarle por la **clave**. Por ejemplo, si queremos saber cuál es la capital de *México*"
   ]
  },
  {
   "cell_type": "code",
   "execution_count": null,
   "id": "0075d5d6",
   "metadata": {
    "scrolled": true
   },
   "outputs": [],
   "source": []
  },
  {
   "cell_type": "markdown",
   "id": "784f9fea",
   "metadata": {},
   "source": [
    "Y así de sencillo es, no tiene mayor misterio."
   ]
  },
  {
   "cell_type": "markdown",
   "id": "cd934006",
   "metadata": {},
   "source": [
    "Y a partir de aquí se pueden hacer muchisimas cosas con un diccionario."
   ]
  },
  {
   "cell_type": "markdown",
   "id": "2c9abcde",
   "metadata": {},
   "source": [
    "Por ejemplo, cómo **agregar** más elementos a un diccionario ya construido. (Agreguemos un elemnto erroneo)"
   ]
  },
  {
   "cell_type": "code",
   "execution_count": null,
   "id": "67982ed7",
   "metadata": {},
   "outputs": [],
   "source": []
  },
  {
   "cell_type": "markdown",
   "id": "d983a181",
   "metadata": {},
   "source": [
    "Pero este nuevo elemento que hemos añadido es erroneo. ¿Cómo podemos **modificar** este valor?"
   ]
  },
  {
   "cell_type": "code",
   "execution_count": null,
   "id": "fcdad09c",
   "metadata": {
    "scrolled": true
   },
   "outputs": [],
   "source": []
  },
  {
   "cell_type": "markdown",
   "id": "734d1eed",
   "metadata": {},
   "source": [
    "Notamos que cuando asignamos un valor a una clave que ya existía en el diccionario, el valor se sobreescribe. Lo que no va a ocurrir nunca dentro de un diccionario haya dos claves iguales. "
   ]
  },
  {
   "cell_type": "markdown",
   "id": "ab5421a7",
   "metadata": {},
   "source": [
    "Para **eliminar** un elemento de nuestro diccionario vamos a utilizar el método **del**, escribiendo *del* después el nombre del diccionario y dentro de corchetes la **clave** cuyo **valor queremos eliminar**. "
   ]
  },
  {
   "cell_type": "code",
   "execution_count": null,
   "id": "fd6bcb5f",
   "metadata": {
    "scrolled": true
   },
   "outputs": [],
   "source": []
  },
  {
   "cell_type": "markdown",
   "id": "f3d88e94",
   "metadata": {},
   "source": [
    "Ahora vamos a ver un diccionario donde haya una mezcla en cuanto a tipos"
   ]
  },
  {
   "cell_type": "code",
   "execution_count": null,
   "id": "bab41c48",
   "metadata": {
    "scrolled": true
   },
   "outputs": [],
   "source": []
  },
  {
   "cell_type": "markdown",
   "id": "59c10aa2",
   "metadata": {},
   "source": [
    "Otra cosa que se puede hacer es utilizar una **tupla** para asignar las claves a cada uno de los valores:"
   ]
  },
  {
   "cell_type": "code",
   "execution_count": null,
   "id": "aa593fd5",
   "metadata": {},
   "outputs": [],
   "source": []
  },
  {
   "cell_type": "markdown",
   "id": "99580dd5",
   "metadata": {},
   "source": [
    "¿Cómo hacemos para que un diccionario almacene una tupla?"
   ]
  },
  {
   "cell_type": "code",
   "execution_count": null,
   "id": "357c681e",
   "metadata": {
    "scrolled": false
   },
   "outputs": [],
   "source": []
  },
  {
   "cell_type": "markdown",
   "id": "5efa5a06",
   "metadata": {},
   "source": [
    "Finalmente, también podemos guardar un **diccionario dentro de otro diccionario**. "
   ]
  },
  {
   "cell_type": "code",
   "execution_count": null,
   "id": "b2fe6995",
   "metadata": {},
   "outputs": [],
   "source": []
  },
  {
   "cell_type": "markdown",
   "id": "26f48d89",
   "metadata": {},
   "source": [
    "**Pregunta: ¿Cómo podemos acceder al elemento 2014?**"
   ]
  },
  {
   "cell_type": "markdown",
   "id": "026d9ada",
   "metadata": {},
   "source": [
    "*Respuesta:* "
   ]
  },
  {
   "cell_type": "code",
   "execution_count": null,
   "id": "85b40998",
   "metadata": {},
   "outputs": [],
   "source": []
  },
  {
   "cell_type": "markdown",
   "id": "fa2a8c38",
   "metadata": {},
   "source": [
    "Existen 3 **métodos** que nos pueden ser útiles a la hora de trabajar con un diccionario:\n",
    "+ keys(): nos devuelve las claves de un diccionario.\n",
    "+ values(): nos devuelve los valores de un diccionario\n",
    "+ len(): nos devuelve la longitud de un diccionario"
   ]
  },
  {
   "cell_type": "code",
   "execution_count": null,
   "id": "5b556cbb",
   "metadata": {},
   "outputs": [],
   "source": []
  },
  {
   "cell_type": "markdown",
   "id": "6c738d06",
   "metadata": {},
   "source": [
    "**Ejercicio: ¿Cómo podemos acceder al elemento 3.1416 del siguiente diccionario?**"
   ]
  },
  {
   "cell_type": "code",
   "execution_count": null,
   "id": "bf9ef919",
   "metadata": {},
   "outputs": [],
   "source": [
    "diccionario = {23:\"José\", \"Nombre\":\"Eva\", \"Región\":\"Kansas\", \n",
    "               \"balón\":{\"año\":(2008, 2013, 2014, 2016, 2017), \n",
    "                        \"días\":{1:\"A\",\"V\":(0,1,2,3,3.1416)}}}"
   ]
  },
  {
   "cell_type": "code",
   "execution_count": null,
   "id": "a89c30b5",
   "metadata": {},
   "outputs": [],
   "source": []
  }
 ],
 "metadata": {
  "kernelspec": {
   "display_name": "Python 3",
   "language": "python",
   "name": "python3"
  },
  "language_info": {
   "codemirror_mode": {
    "name": "ipython",
    "version": 3
   },
   "file_extension": ".py",
   "mimetype": "text/x-python",
   "name": "python",
   "nbconvert_exporter": "python",
   "pygments_lexer": "ipython3",
   "version": "3.8.8"
  }
 },
 "nbformat": 4,
 "nbformat_minor": 5
}

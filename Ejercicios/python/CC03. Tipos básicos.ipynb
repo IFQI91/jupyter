{
 "cells": [
  {
   "cell_type": "markdown",
   "id": "2a50f8f1",
   "metadata": {},
   "source": [
    "# **<span style=\"color:red\">Taller: Introducción a la programación en Python</span>**\n",
    "\n",
    "##  **<span style=\"color:blue\">Tipos básicos</span>**"
   ]
  },
  {
   "cell_type": "markdown",
   "id": "2c919b48",
   "metadata": {},
   "source": [
    "En python los tipos básicos se dividen en: \n",
    "* numéricos    \n",
    "    * 3 (enteros: int) \n",
    "    * 15.57 (de coma flotante: float) \n",
    "    * 7+5j (complejos)\n",
    "* cadenas de texto, como \"Hola mundo\"\n",
    "* booleanos \n",
    "    * True (cierto)\n",
    "    * False (falso)"
   ]
  },
  {
   "cell_type": "markdown",
   "id": "70459627",
   "metadata": {},
   "source": [
    "Vamos a crear un par de variables a modo de ejemplo. Una de tipo *cadena* y una de tipo *entero*:"
   ]
  },
  {
   "cell_type": "code",
   "execution_count": null,
   "id": "ca9048fb",
   "metadata": {},
   "outputs": [],
   "source": []
  },
  {
   "cell_type": "markdown",
   "id": "bf119b54",
   "metadata": {},
   "source": [
    "Podemos notar que en Python, a diferencia de muchos otros lenguajes, no se declara el tipo de la variable al crearla. En Java, por ejemplo, escribiríamos: "
   ]
  },
  {
   "cell_type": "code",
   "execution_count": null,
   "id": "654a8d65",
   "metadata": {
    "scrolled": true
   },
   "outputs": [],
   "source": []
  },
  {
   "cell_type": "markdown",
   "id": "e1cd38af",
   "metadata": {},
   "source": [
    "**¿Por qué en python no declaramos el tipo de variable al crearla?**"
   ]
  },
  {
   "cell_type": "markdown",
   "id": "a5f23060",
   "metadata": {},
   "source": [
    "*Respuesta:*"
   ]
  },
  {
   "cell_type": "markdown",
   "id": "6031841d",
   "metadata": {},
   "source": [
    "##  **<span style=\"color:blue\">Números</span>**"
   ]
  },
  {
   "cell_type": "markdown",
   "id": "6d577324",
   "metadata": {},
   "source": [
    "Como decíamos, en Python se pueden representar números enteros, reales y complejos."
   ]
  },
  {
   "cell_type": "markdown",
   "id": "45d693e6",
   "metadata": {},
   "source": [
    "###  **<span style=\"color:blue\">Enteros</span>**"
   ]
  },
  {
   "cell_type": "markdown",
   "id": "2ea3bf1d",
   "metadata": {},
   "source": [
    "Los *números entero*s son aquellos números positivos o negativos que no tienen decimales (además del cero). En Python se podían representar mediante el tipo *int* (de integer, entero) o el tipo *long* (largo). La única diferencia era que el tipo *long* permitía almacenar números más grandes. "
   ]
  },
  {
   "cell_type": "markdown",
   "id": "4a94a772",
   "metadata": {},
   "source": [
    "Mediante el uso de una variable de tipo *int* de Python era posible almacenar números de $-2^{31}$ a $2^{31}-1$, o lo que es lo mismo, de $-2,147,483,648$ a $2,147,483,647$. En plataformas de $64\\ bits$, el rango iba de $-9,223,372,036,854,775,808$ hasta $9,223,372,036,854,775,807$."
   ]
  },
  {
   "cell_type": "markdown",
   "id": "4847ccab",
   "metadata": {},
   "source": [
    "El tipo *long* de Python permitía almacenar números de cualquier precisión, estando limitados solo por la memoria disponible en la máquina."
   ]
  },
  {
   "cell_type": "markdown",
   "id": "6f658452",
   "metadata": {},
   "source": [
    "Una gran ventaja de Python es que ya no nos tenemos que preocupar de esto, ya que por debajo se encarga de asignar más o menos memoria al número, y podemos representar prácticamente cualquier número."
   ]
  },
  {
   "cell_type": "code",
   "execution_count": null,
   "id": "e7a5c1f6",
   "metadata": {
    "scrolled": true
   },
   "outputs": [],
   "source": []
  },
  {
   "cell_type": "markdown",
   "id": "13592dac",
   "metadata": {},
   "source": [
    "###  **<span style=\"color:blue\">Reales</span>**"
   ]
  },
  {
   "cell_type": "markdown",
   "id": "0a2aec68",
   "metadata": {},
   "source": [
    "Los *números reales* son los que tienen decimales. En Python se expresan mediante el tipo *float*. "
   ]
  },
  {
   "cell_type": "markdown",
   "id": "c07664aa",
   "metadata": {},
   "source": [
    "Para representar un *número real* en Python se escribe primero la parte entera, seguido de un punto y por último la parte decimal."
   ]
  },
  {
   "cell_type": "code",
   "execution_count": null,
   "id": "01bad1f9",
   "metadata": {
    "scrolled": true
   },
   "outputs": [],
   "source": []
  },
  {
   "cell_type": "markdown",
   "id": "5cc659e2",
   "metadata": {},
   "source": [
    "También se puede utilizar *notación científica*, y añadir una *e* (de exponente) para indicar un exponente en base *10*. Por ejemplo\n",
    "$$0.1\\times 10^{-3}=0.1x0.001 = 0.0001$$\n",
    "en Python sería"
   ]
  },
  {
   "cell_type": "code",
   "execution_count": null,
   "id": "fd91cd5c",
   "metadata": {},
   "outputs": [],
   "source": []
  },
  {
   "cell_type": "markdown",
   "id": "6462cab9",
   "metadata": {},
   "source": [
    "###  **<span style=\"color:blue\">Complejos</span>**"
   ]
  },
  {
   "cell_type": "markdown",
   "id": "cb3c78b0",
   "metadata": {},
   "source": [
    "Los *números complejos* son aquellos que tienen parte *imaginaria*. En este taller rara vez los vamos a necesitar. "
   ]
  },
  {
   "cell_type": "markdown",
   "id": "9fb25f08",
   "metadata": {},
   "source": [
    "Este tipo, llamado complex en Python, también se almacena usando coma flotante, debido a que estos números son una extensión de los números reales. "
   ]
  },
  {
   "cell_type": "markdown",
   "id": "336a1718",
   "metadata": {},
   "source": [
    "Los números complejos en Python se representan de la siguiente forma:"
   ]
  },
  {
   "cell_type": "code",
   "execution_count": null,
   "id": "1c4e59fd",
   "metadata": {},
   "outputs": [],
   "source": []
  },
  {
   "cell_type": "markdown",
   "id": "69ead5c8",
   "metadata": {},
   "source": [
    "##  **<span style=\"color:black\">Operadores</span>**"
   ]
  },
  {
   "cell_type": "markdown",
   "id": "685fa02d",
   "metadata": {},
   "source": [
    "Veamos ahora qué podemos hacer con nuestros números usando los operadores por defecto. Para operaciones más complejas podemos recurrir al *módulo math*."
   ]
  },
  {
   "cell_type": "markdown",
   "id": "ae412374",
   "metadata": {},
   "source": [
    "###  **<span style=\"color:black\">Operadores aritméticos</span>**"
   ]
  },
  {
   "cell_type": "markdown",
   "id": "295acec6",
   "metadata": {},
   "source": [
    "| **Operador** | **Decripción** | **Ejemplo**|\n",
    " :--: | :--: | -- \n",
    "| *+* | Suma | r = 3+2 # r es 5 |\n",
    "| *-* | Resta | r = 4 - 7 # r es -3 |\n",
    "| *-* | Negación | r = -7 # r es -7 |\n",
    "| *\\** | Multiplicación | r = 2 * 6 # r es 12 |\n",
    "| *\\*** | Exponente | r = 2 ** 6 # r es 64 |\n",
    "| */* | División | r = 3.5 / 2 # r es 1.75 |\n",
    "| // | División entera | r = 3.5 // 2 # r es 1.0 |\n",
    "| % | Módulo | r = 7 % 2 # r es 1 |"
   ]
  },
  {
   "cell_type": "markdown",
   "id": "320ad5da",
   "metadata": {},
   "source": [
    "**Nota 1:** El operador de módulo no hace otra cosa que devolvernos el resto de la división entre los dos operandos. En el ejemplo, 7/2 sería 3, con 1 de resto, luego el módulo es 1.\n",
    "\n",
    "**Nota 2:** En versiones anteriores de Python, al trabajar con la división, si utilizabamos dos operandos enteros, Python determinaba que queriamos que la variable resultado también fuera un entero, por lo que el resultado de, por ejemplo, $3/2$ y $3//2$ era el mismo: $1$. \n",
    "Por lo que si queriamos obtener los decimales necesitabamos que al menos uno de los operandos fuera un número real, bien indicando los decimales: r = 3.0 / 2\n",
    "o bien utilizando la función $float$: r = float(3) / 2"
   ]
  },
  {
   "cell_type": "markdown",
   "id": "69c9e51b",
   "metadata": {},
   "source": [
    "**¿Cuánto vale 6%7 y 60%7?**"
   ]
  },
  {
   "cell_type": "markdown",
   "id": "266f7a98",
   "metadata": {},
   "source": [
    "*Respuesta:* "
   ]
  },
  {
   "cell_type": "code",
   "execution_count": null,
   "id": "a53cfa31",
   "metadata": {},
   "outputs": [],
   "source": []
  },
  {
   "cell_type": "code",
   "execution_count": null,
   "id": "06892a8c",
   "metadata": {},
   "outputs": [],
   "source": []
  },
  {
   "cell_type": "markdown",
   "id": "1eb98ce4",
   "metadata": {},
   "source": [
    "###  **<span style=\"color:black\">Operadores a nivel de bit</span>**"
   ]
  },
  {
   "cell_type": "markdown",
   "id": "f340333b",
   "metadata": {},
   "source": [
    "Rara vez vamos a necesitar el uso de estos operadores, aún así vamos a verlos."
   ]
  },
  {
   "cell_type": "markdown",
   "id": "131f921f",
   "metadata": {},
   "source": [
    "| **Operador** | **Decripción** | **Ejemplo**|\n",
    " :--: | :--: | -- \n",
    "| $\\&$ | and | r = 3 & 2 # r es 2 |\n",
    "| or | r = 3 | 2 # r es 3 |\n",
    "| ^ | xor | r = 3 ^ 2 # r es 1 |\n",
    "| $\\sim$ | not | r = $\\sim$3 # r es -4 |\n",
    "| << | Desplazamiento izq. | r = 3 << 1 # r es 6 |\n",
    "| >> | Desplazamiento der. | r = 3 >> 1 # r es 1 |"
   ]
  },
  {
   "cell_type": "markdown",
   "id": "36b52b04",
   "metadata": {},
   "source": [
    "Estos son operadores que actúan sobre las representaciones en binario de los operandos.\n",
    "* El operador $and$ $(\\&)$, del inglés $\"y\"$, devuelve $1$ si el primer $bit$ operando es $1$ y el segundo bit operando es $1$. Se devuelve $0$ en caso contrario.\n",
    "\n",
    "* El operador $or$ $(|)$, del inglés $\"o\"$, devuelve $1$ si el primer operando es $1$ o el segundo operando es $1$. Para el resto de casos se devuelve $0$.\n",
    "\n",
    "* El operador $xor$ u \"or exclusivo\" $($^$)$ devuelve $1$ si uno de los operandos es $1$ y el otro no lo es.\n",
    "\n",
    "* El operador $not$ $(\\sim)$, del inglés \"no\", sirve para negar uno a uno cada bit; es decir, si el operando es $0$, cambia a $1$ y si es $1$, cambia a $0$.\n",
    "\n",
    "* Por último los operadores de desplazamiento ($<<$ y $>>$) sirven para desplazar los bits $n$ posiciones hacia la izquierda o la derecha."
   ]
  },
  {
   "cell_type": "markdown",
   "id": "cfc2b642",
   "metadata": {},
   "source": [
    "**¿Por qué $3\\&2$ es igual a 2?** "
   ]
  },
  {
   "cell_type": "code",
   "execution_count": null,
   "id": "a08b017a",
   "metadata": {
    "scrolled": true
   },
   "outputs": [],
   "source": []
  },
  {
   "cell_type": "markdown",
   "id": "5847ce81",
   "metadata": {},
   "source": [
    "*Respuesta:* "
   ]
  },
  {
   "cell_type": "markdown",
   "id": "af0307b4",
   "metadata": {},
   "source": [
    "**¿Por qué 2^5 es igual a 7 y no a 32?**"
   ]
  },
  {
   "cell_type": "code",
   "execution_count": null,
   "id": "8371d74a",
   "metadata": {},
   "outputs": [],
   "source": []
  },
  {
   "cell_type": "markdown",
   "id": "7d0ce3c5",
   "metadata": {},
   "source": [
    "*Respuesta:* "
   ]
  },
  {
   "cell_type": "markdown",
   "id": "7ac8b3f6",
   "metadata": {},
   "source": [
    "##  **<span style=\"color:blue\">Cadenas</span>**"
   ]
  },
  {
   "cell_type": "markdown",
   "id": "1f8f9dcb",
   "metadata": {},
   "source": [
    "Las cadenas no son más que \"texto encerrado entre comillas simples\" ('*cadena*') o dobles (\"*cadena*\"). Dentro de las comillas se pueden añadir caracteres especiales escapándolos con la barra invertida, como $\\n$, el carácter de nueva línea, o $\\t$, el de tabulación."
   ]
  },
  {
   "cell_type": "markdown",
   "id": "fb026e35",
   "metadata": {},
   "source": [
    "También es posible encerrar una cadena entre triples comillas (simples o dobles). De esta forma podremos escribir el texto en varias líneas, y al imprimir la cadena, se respetarán los saltos de línea que introducimos sin tener que recurrir al carácter \\n, así como las comillas sin tener que escaparlas."
   ]
  },
  {
   "cell_type": "code",
   "execution_count": null,
   "id": "9bc75d16",
   "metadata": {
    "scrolled": true
   },
   "outputs": [],
   "source": []
  },
  {
   "cell_type": "markdown",
   "id": "469a080d",
   "metadata": {},
   "source": [
    "Para escribir lo anterior utilizando comillas simples o dobles sería:"
   ]
  },
  {
   "cell_type": "code",
   "execution_count": null,
   "id": "44c04bba",
   "metadata": {
    "scrolled": true
   },
   "outputs": [],
   "source": []
  },
  {
   "cell_type": "markdown",
   "id": "14297853",
   "metadata": {},
   "source": [
    "Las cadenas también admiten operadores como $+$, que funciona realizando una concatenación de las cadenas utilizadas como operandos y $*$, en la que se repite la cadena tantas veces como lo indique el número utilizado como segundo operando."
   ]
  },
  {
   "cell_type": "code",
   "execution_count": null,
   "id": "9b86f416",
   "metadata": {},
   "outputs": [],
   "source": []
  },
  {
   "cell_type": "markdown",
   "id": "4c5f926a",
   "metadata": {},
   "source": [
    "Al crear un programa esto es util para darle un aspecto más amigable, separando cualquier impresión de la pantalla con muchas líneas -"
   ]
  },
  {
   "cell_type": "code",
   "execution_count": null,
   "id": "2175d2c5",
   "metadata": {},
   "outputs": [],
   "source": []
  },
  {
   "cell_type": "markdown",
   "id": "033df59b",
   "metadata": {},
   "source": [
    "##  **<span style=\"color:blue\">Booleanos</span>**"
   ]
  },
  {
   "cell_type": "markdown",
   "id": "a5a8ca65",
   "metadata": {},
   "source": [
    "Una variable de *tipo booleano* sólo puede tener dos valores: $True$ (cierto) y $False$ (falso). Estos valores son especialmente importantes para las expresiones condicionales y los bucles, como veremos más adelante.\n",
    "\n",
    "Nota: El \"tipo bool\" (el tipo de los booleanos) es una subclase del tipo $int$."
   ]
  },
  {
   "cell_type": "markdown",
   "id": "cde33ad7",
   "metadata": {},
   "source": [
    "Estos son los distintos **tipos de operadores** con los que podemos trabajar con valores booleanos, los llamados **operadores lógicos o condicionales**:"
   ]
  },
  {
   "cell_type": "markdown",
   "id": "2ead335c",
   "metadata": {},
   "source": [
    "| **Operador** | **Decripción** | **Ejemplo**|\n",
    " :--: | :--: | -- \n",
    "| and | ¿se cumple a y b? | r = True and False # r es False |\n",
    "| or | ¿se cumple a o b? | r = True or False # r es True |\n",
    "| not | No a | r = not True # r es False |"
   ]
  },
  {
   "cell_type": "markdown",
   "id": "ff822a98",
   "metadata": {},
   "source": [
    "**Nota:** es importante no confundir los operadores a nivel de bit con los operadores lógicos. Por ejemplo, se podría confundir & con \"and\", ya que la descripción de & es precisamenete \"and\" en la tabla de operadores a nivel de bit."
   ]
  },
  {
   "cell_type": "markdown",
   "id": "1bdb4d9a",
   "metadata": {},
   "source": [
    "Los valores booleanos son además el resultado de expresiones que utilizan operadores relacionales (comparaciones entre valores):"
   ]
  },
  {
   "cell_type": "markdown",
   "id": "1e4e4988",
   "metadata": {},
   "source": [
    "| **Operador** | **Decripción** | **Ejemplo**|\n",
    " :--: | :--: | -- \n",
    "| == | ¿son iguales a y b? | r = 5 == 3 # r es False |\n",
    "| != | ¿son distintos a y b? | r = 5 != 3 # r es True |\n",
    "| < | ¿es a menor que b? | r = 5 < 3 # r es False |\n",
    "| > | ¿es a mayor que b? | r = 5 > 3 # r es True |\n",
    "| <= | ¿es a menor o igual que b? | r = 5 <= 5 # r es True |\n",
    "| >= | ¿es a mayor o igual que b? | r = 5 >= 3 # r es True |"
   ]
  },
  {
   "cell_type": "markdown",
   "id": "2a7160d2",
   "metadata": {},
   "source": [
    "**¿Por qué 6<<2 es igual a 24 y no a False?**"
   ]
  },
  {
   "cell_type": "markdown",
   "id": "74ee3dd4",
   "metadata": {},
   "source": [
    "*Respuesta:* "
   ]
  },
  {
   "cell_type": "markdown",
   "id": "1e3deca7",
   "metadata": {},
   "source": [
    "**¿Cuál es la diferencia entre el simbolo $==$ e $=$?**"
   ]
  },
  {
   "cell_type": "markdown",
   "id": "40964bb5",
   "metadata": {},
   "source": [
    "*Respuesta:* "
   ]
  },
  {
   "cell_type": "code",
   "execution_count": null,
   "id": "a87a6343",
   "metadata": {},
   "outputs": [],
   "source": []
  }
 ],
 "metadata": {
  "kernelspec": {
   "display_name": "Python 3 (ipykernel)",
   "language": "python",
   "name": "python3"
  },
  "language_info": {
   "codemirror_mode": {
    "name": "ipython",
    "version": 3
   },
   "file_extension": ".py",
   "mimetype": "text/x-python",
   "name": "python",
   "nbconvert_exporter": "python",
   "pygments_lexer": "ipython3",
   "version": "3.10.6"
  }
 },
 "nbformat": 4,
 "nbformat_minor": 5
}

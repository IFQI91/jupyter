{
 "cells": [
  {
   "cell_type": "markdown",
   "id": "6e52e7dd",
   "metadata": {},
   "source": [
    "# **<span style=\"color:red\">Taller: Introducción a la programación en Python</span>**\n",
    "\n",
    "#  **<span style=\"color:blue\">Ejercicios</span>**"
   ]
  },
  {
   "cell_type": "markdown",
   "id": "9f634609",
   "metadata": {},
   "source": [
    "##  **<span style=\"color:blue\">Parte 1: sentencias condicionales</span>**"
   ]
  },
  {
   "cell_type": "markdown",
   "id": "52870f65",
   "metadata": {},
   "source": [
    "**<span style=\"color:blue\">Ejercicio 1</span>**.\n",
    "\n",
    "Solicitar al usuario un número de boleto. Si el número es el 1000, imprimir \"Ganaste un premio\"."
   ]
  },
  {
   "cell_type": "code",
   "execution_count": null,
   "id": "76f3559a",
   "metadata": {
    "scrolled": true
   },
   "outputs": [],
   "source": []
  },
  {
   "cell_type": "markdown",
   "id": "f95b8bf6",
   "metadata": {},
   "source": [
    "**<span style=\"color:blue\">Ejercicio 2</span>**.\n",
    "\n",
    "Solicitar al usuario que ingrese dos números y mostrar cuál de los dos es menor. No considerar el caso en que ambos números son iguales."
   ]
  },
  {
   "cell_type": "code",
   "execution_count": null,
   "id": "0ee6ab98",
   "metadata": {
    "scrolled": true
   },
   "outputs": [],
   "source": []
  },
  {
   "cell_type": "markdown",
   "id": "a6cd691f",
   "metadata": {},
   "source": [
    "**<span style=\"color:blue\">Ejercicio 3</span>**.\n",
    "\n",
    "Solicitar al usuario que ingrese dos números y mostrar cuál de los dos es menor. Considerar el caso en que ambos números son iguales."
   ]
  },
  {
   "cell_type": "code",
   "execution_count": null,
   "id": "6e9cd667",
   "metadata": {},
   "outputs": [],
   "source": []
  },
  {
   "cell_type": "markdown",
   "id": "b2274ef0",
   "metadata": {},
   "source": [
    "**<span style=\"color:blue\">Ejercicio 4</span>**.\n",
    "\n",
    "Solicitar al usuario que ingrese un día de la semana e imprimir un mensaje si es lunes, otro mensaje diferente si es viernes, otro mensaje diferente si es sábado o domingo. Si el día ingresado no es ninguno de esos, imprimir otro mensaje."
   ]
  },
  {
   "cell_type": "code",
   "execution_count": null,
   "id": "072b208b",
   "metadata": {
    "scrolled": true
   },
   "outputs": [],
   "source": []
  },
  {
   "cell_type": "markdown",
   "id": "c52c1c02",
   "metadata": {},
   "source": [
    "**<span style=\"color:blue\">Ejercicio 5</span>**.\n",
    "\n",
    "Escribir un programa que, dado un número entero, muestre su valor absoluto. "
   ]
  },
  {
   "cell_type": "code",
   "execution_count": null,
   "id": "30f81ace",
   "metadata": {},
   "outputs": [],
   "source": []
  },
  {
   "cell_type": "markdown",
   "id": "c17e7afb",
   "metadata": {},
   "source": [
    "**<span style=\"color:blue\">Ejercicio 6</span>**.\n",
    "\n",
    "Solicitar al usuario que ingrese los nombres de dos personas, los cuales se almacenarán en dos variables. A continuación, imprimir \"Coincidencia\" si los nombres de ambas personas comienzan con la misma letra ó si terminan con la misma letra. Si no es así, imprimir \"No hay coincidencia\"."
   ]
  },
  {
   "cell_type": "code",
   "execution_count": null,
   "id": "99c03572",
   "metadata": {},
   "outputs": [],
   "source": []
  },
  {
   "cell_type": "markdown",
   "id": "11869db9",
   "metadata": {},
   "source": [
    "**<span style=\"color:blue\">Ejercicio 7</span>**.\n",
    "\n",
    "Escribir un programa que solicite al usuario una letra y, si es una vocal, muestre el mensaje \"es vocal\". Se debe validar que el usuario ingrese sólo un carácter. Si ingresa un *string* de más de un carácter, informarle que no se puede procesar el dato."
   ]
  },
  {
   "cell_type": "code",
   "execution_count": null,
   "id": "089b2401",
   "metadata": {
    "scrolled": true
   },
   "outputs": [],
   "source": []
  },
  {
   "cell_type": "markdown",
   "id": "07c11bef",
   "metadata": {},
   "source": [
    "**<span style=\"color:blue\">Ejercicio 8</span>**.\n",
    "\n",
    "Hacer un programa que permita saber si un año es bisiesto. Para que un año sea bisiesto debe ser divisible por 4 y no debe ser divisible por 100, excepto que también sea divisible por 400."
   ]
  },
  {
   "cell_type": "code",
   "execution_count": null,
   "id": "c2e312a3",
   "metadata": {
    "scrolled": false
   },
   "outputs": [],
   "source": []
  },
  {
   "cell_type": "markdown",
   "id": "8d88e37c",
   "metadata": {},
   "source": [
    "##  **<span style=\"color:blue\">Parte 2: bucle for</span>**"
   ]
  },
  {
   "cell_type": "markdown",
   "id": "888170e0",
   "metadata": {},
   "source": [
    "**<span style=\"color:blue\">Ejercicio 1</span>**.\n",
    "\n",
    "Imprimir todos los dígitos decimales, del *0* al *9*, utilizando un ciclo."
   ]
  },
  {
   "cell_type": "code",
   "execution_count": null,
   "id": "fbc640c3",
   "metadata": {
    "scrolled": true
   },
   "outputs": [],
   "source": []
  },
  {
   "cell_type": "markdown",
   "id": "c71c087f",
   "metadata": {},
   "source": [
    "**<span style=\"color:blue\">Ejercicio 2</span>**.\n",
    "\n",
    "Imprimir todos los números entre el *100* y el *199*."
   ]
  },
  {
   "cell_type": "code",
   "execution_count": null,
   "id": "c4e42f90",
   "metadata": {},
   "outputs": [],
   "source": []
  },
  {
   "cell_type": "markdown",
   "id": "1f8d6a7d",
   "metadata": {},
   "source": [
    "**<span style=\"color:blue\">Ejercicio 3</span>**.\n",
    "\n",
    "Imprimir los números entre el *5* y el *20*, saltando de tres en tres."
   ]
  },
  {
   "cell_type": "code",
   "execution_count": null,
   "id": "54113ade",
   "metadata": {
    "scrolled": true
   },
   "outputs": [],
   "source": []
  },
  {
   "cell_type": "markdown",
   "id": "9dc7d99c",
   "metadata": {},
   "source": [
    "**<span style=\"color:blue\">Ejercicio 4</span>**.\n",
    "\n",
    "Escribir un programa que pida al usuario un número entero y muestre por pantalla un triángulo rectángulo como el de más abajo, de altura el número introducido.\\\n",
    "`*`\\\n",
    "`**`\\\n",
    "`***`\\\n",
    "`****`\\\n",
    "`*****`"
   ]
  },
  {
   "cell_type": "code",
   "execution_count": null,
   "id": "4bf5cf04",
   "metadata": {},
   "outputs": [],
   "source": []
  },
  {
   "cell_type": "markdown",
   "id": "5696edb5",
   "metadata": {},
   "source": [
    "**<span style=\"color:blue\">Ejercicio 5</span>**.\n",
    "\n",
    "Solicitar al usuario que ingrese un número entero positivo e imprimir todos los números correlativos entre el ingresado por el usuario y uno menos del doble del mismo."
   ]
  },
  {
   "cell_type": "code",
   "execution_count": null,
   "id": "a8af8719",
   "metadata": {},
   "outputs": [],
   "source": []
  },
  {
   "cell_type": "markdown",
   "id": "2ee97ec6",
   "metadata": {},
   "source": [
    "**<span style=\"color:blue\">Ejercicio 6</span>**.\n",
    "\n",
    "Escribir un programa que solicite al usuario una cantidad y luego itere la cantidad de veces dada. En cada iteración, solicitar al usuario que ingrese un número. Al finalizar, mostrar la suma de todos los números ingresados."
   ]
  },
  {
   "cell_type": "code",
   "execution_count": null,
   "id": "e0e465ff",
   "metadata": {},
   "outputs": [],
   "source": []
  },
  {
   "cell_type": "markdown",
   "id": "a9cc3663",
   "metadata": {},
   "source": [
    "**<span style=\"color:blue\">Ejercicio 7</span>**.\n",
    "\n",
    "Solicitar al usuario que ingrese una frase y luego imprimir un listado de las vocales que aparecen en esa frase (sin repetirlas). "
   ]
  },
  {
   "cell_type": "code",
   "execution_count": null,
   "id": "0738ae41",
   "metadata": {},
   "outputs": [],
   "source": []
  },
  {
   "cell_type": "markdown",
   "id": "31e96034",
   "metadata": {},
   "source": [
    "**<span style=\"color:blue\">Ejercicio 8</span>**.\n",
    "\n",
    "Solicitar al usuario que ingrese una frase y luego imprimir la cantidad de vocales que se encuentran en dicha frase."
   ]
  },
  {
   "cell_type": "code",
   "execution_count": null,
   "id": "7b7a2848",
   "metadata": {},
   "outputs": [],
   "source": []
  },
  {
   "cell_type": "markdown",
   "id": "485208a6",
   "metadata": {},
   "source": [
    "**<span style=\"color:blue\">Ejercicio 9</span>**.\n",
    "\n",
    "Escribir un programa que muestre la sumatoria de todos los números entre el *0* y el *100*."
   ]
  },
  {
   "cell_type": "code",
   "execution_count": null,
   "id": "ac1901ea",
   "metadata": {},
   "outputs": [],
   "source": []
  },
  {
   "cell_type": "markdown",
   "id": "fb1fe89c",
   "metadata": {},
   "source": [
    "**<span style=\"color:blue\">Ejercicio 10</span>**.\n",
    "\n",
    "Escribir un programa que muestre la sumatoria de todos los múltiplos de *3* encontrados entre el *0* y el *100*."
   ]
  },
  {
   "cell_type": "code",
   "execution_count": null,
   "id": "848bd1f1",
   "metadata": {},
   "outputs": [],
   "source": []
  },
  {
   "cell_type": "markdown",
   "id": "eeddef48",
   "metadata": {},
   "source": [
    "**<span style=\"color:blue\">Ejercicio 11</span>**.\n",
    "\n",
    "Solicitar un número entero positivo al usuario y mostrar su factorial. El factorial de un número se obtiene multiplicando todos los números enteros positivos que hay entre el 1 y ese número.\\\n",
    "*Nota: considerar el caso en el que el usuario ingrese 0, recordar que el factorial de 0 es 1.* "
   ]
  },
  {
   "cell_type": "code",
   "execution_count": null,
   "id": "304ac56f",
   "metadata": {},
   "outputs": [],
   "source": []
  },
  {
   "cell_type": "markdown",
   "id": "5afcb82c",
   "metadata": {},
   "source": [
    "**<span style=\"color:blue\">Ejercicio 12</span>**.\n",
    "\n",
    "Crear un algoritmo que muestre los primeros *n* números de la sucesión de Fibonacci.\\\n",
    "La sucesión comienza con los números *0* y *1* y, a partir de éstos, cada elemento es la suma de los dos números anteriores en la secuencia: *0, 1, 1, 2, 3, 5, 8, 13, 21, 34, 55…*"
   ]
  },
  {
   "cell_type": "code",
   "execution_count": null,
   "id": "8b649699",
   "metadata": {},
   "outputs": [],
   "source": []
  },
  {
   "cell_type": "markdown",
   "id": "1d41bb31",
   "metadata": {},
   "source": [
    "**<span style=\"color:blue\">Ejercicio 13</span>**.\n",
    "\n",
    "Escribir un programa que permita al usuario ingresar 6 números enteros, que pueden ser positivos o negativos. Al finalizar, mostrar la sumatoria de los números negativos y el promedio de los positivos.\n",
    "No olvides que no es posible dividir por cero, por lo que es necesario evitar que el programa arroje un error si no se ingresaron números positivos."
   ]
  },
  {
   "cell_type": "code",
   "execution_count": null,
   "id": "c0a50246",
   "metadata": {},
   "outputs": [],
   "source": []
  },
  {
   "cell_type": "markdown",
   "id": "8e21fa0b",
   "metadata": {},
   "source": [
    "**<span style=\"color:blue\">Ejercicio 14</span>**.\n",
    "\n",
    "Escribir un programa que permita al usuario ingresar dos años y luego imprima todos los años en ese rango, que sean bisiestos y múltiplos de *10*. \n",
    "\n",
    "Nota: para que un año sea bisiesto debe ser divisible por *4* y no debe ser divisible por *100*, excepto que también sea divisible por *400*."
   ]
  },
  {
   "cell_type": "code",
   "execution_count": null,
   "id": "dcb8da65",
   "metadata": {
    "scrolled": true
   },
   "outputs": [],
   "source": []
  },
  {
   "cell_type": "markdown",
   "id": "ebd40821",
   "metadata": {},
   "source": [
    "**<span style=\"color:blue\">Ejercicio 15</span>**.\n",
    "\n",
    "Crear un programa que verifique si una matricula, ingresada por el usuario, es correcta o no. Para que una matrícula sea correcta verificar lo siguiente:\n",
    "+ Que tenga 9 carácteres.\n",
    "+ Que el penúltimo carácter sea un guión.\n",
    "+ Que el resto de los caracteres sean números enteros.\n",
    "+ Que los primeros dos números estén entre *10* y *21*."
   ]
  },
  {
   "cell_type": "code",
   "execution_count": null,
   "id": "2bd2fa99",
   "metadata": {},
   "outputs": [],
   "source": []
  },
  {
   "cell_type": "markdown",
   "id": "feffda7f",
   "metadata": {},
   "source": [
    "**<span style=\"color:blue\">Ejercicio 16. De examen del MIT</span>**.\n",
    "\n",
    "En McDonald's se pueden comprar patitas de pollo en paquetes de *6*, *9* o *20* unidades. Escribir un programa que solicite al usuario un entero `num`, y diga si es o no posible comprar *num* cantidad de patitas. "
   ]
  },
  {
   "cell_type": "code",
   "execution_count": null,
   "id": "000cc74c",
   "metadata": {
    "scrolled": true
   },
   "outputs": [],
   "source": []
  },
  {
   "cell_type": "markdown",
   "id": "7980bba8",
   "metadata": {},
   "source": [
    "##  **<span style=\"color:blue\">Parte 3: bucle while</span>**"
   ]
  },
  {
   "cell_type": "markdown",
   "id": "f6fc76b7",
   "metadata": {},
   "source": [
    "**<span style=\"color:blue\">Ejercicio 1</span>**. \n",
    "\n",
    "Escribir un programa que almacene la cadena de caracteres `contraseña` en una variable, pregunte al usuario por la contraseña hasta que introduzca la contraseña correcta."
   ]
  },
  {
   "cell_type": "code",
   "execution_count": null,
   "id": "40b37c3e",
   "metadata": {},
   "outputs": [],
   "source": []
  },
  {
   "cell_type": "markdown",
   "id": "ea84f1c6",
   "metadata": {},
   "source": [
    "**<span style=\"color:blue\">Ejercicio 2</span>**. \n",
    "\n",
    "Leer números enteros de teclado, hasta que el usuario ingrese el 0. Finalmente, mostrar la sumatoria de todos los números ingresados."
   ]
  },
  {
   "cell_type": "code",
   "execution_count": null,
   "id": "b95d8713",
   "metadata": {},
   "outputs": [],
   "source": []
  },
  {
   "cell_type": "markdown",
   "id": "c9876572",
   "metadata": {},
   "source": [
    "**<span style=\"color:blue\">Ejercicio 3</span>**. \n",
    "\n",
    "Leer números enteros de teclado, hasta que el usuario ingrese el 0. Finalmente, mostrar la sumatoria de todos los números positivos ingresados"
   ]
  },
  {
   "cell_type": "code",
   "execution_count": null,
   "id": "4ed3fc66",
   "metadata": {},
   "outputs": [],
   "source": []
  },
  {
   "cell_type": "markdown",
   "id": "4e84eddb",
   "metadata": {},
   "source": [
    "**<span style=\"color:blue\">Ejercicio 4</span>**. \n",
    "\n",
    "Leer números enteros positivos de teclado, hasta que el usuario ingrese el 0. Informar cuál fue el mayor número ingresado."
   ]
  },
  {
   "cell_type": "code",
   "execution_count": null,
   "id": "60e6c098",
   "metadata": {},
   "outputs": [],
   "source": []
  },
  {
   "cell_type": "markdown",
   "id": "7e455ae7",
   "metadata": {},
   "source": [
    "**<span style=\"color:blue\">Ejercicio 5</span>**. \n",
    "\n",
    "Leer un número entero positivo desde teclado e imprimir la suma de los dígitos que lo componen."
   ]
  },
  {
   "cell_type": "code",
   "execution_count": null,
   "id": "d26c8609",
   "metadata": {},
   "outputs": [],
   "source": []
  },
  {
   "cell_type": "markdown",
   "id": "807eb0ca",
   "metadata": {},
   "source": [
    "**<span style=\"color:blue\">Ejercicio 6</span>**. \n",
    "\n",
    "Solicitar al usuario que ingrese números enteros positivos y, por cada uno, imprimir la suma de los dígitos que lo componen. La condición de corte es que se ingrese el número -1. Al finalizar, mostrar cuántos de los números ingresados por el usuario fueron números pares."
   ]
  },
  {
   "cell_type": "code",
   "execution_count": null,
   "id": "cee17658",
   "metadata": {},
   "outputs": [],
   "source": []
  },
  {
   "cell_type": "markdown",
   "id": "fc25c079",
   "metadata": {},
   "source": [
    "**<span style=\"color:blue\">Ejercicio 7</span>**. \n",
    "\n",
    "Mostrar un menú con tres opciones: 1- comenzar programa, 2- imprimir listado, 3-finalizar programa. A continuación, el usuario debe poder seleccionar una opción (1, 2 ó 3). Si elige una opción incorrecta, informarle del error. El menú se debe volver a mostrar luego de ejecutada cada opción, permitiendo volver a elegir. Si elige las opciones 1 ó 2 se imprimirá un texto. Si elige la opción 3, se interrumpirá la impresión del menú y el programa finalizará."
   ]
  },
  {
   "cell_type": "code",
   "execution_count": null,
   "id": "39126047",
   "metadata": {},
   "outputs": [],
   "source": []
  },
  {
   "cell_type": "markdown",
   "id": "9a88a2b7",
   "metadata": {},
   "source": [
    "**<span style=\"color:blue\">Ejercicio 8</span>**. \n",
    "\n",
    "Solicitar al usuario el ingreso de una frase y de una letra (que puede o no estar en la frase). Recorrer la frase, carácter a carácter, comparando con la letra buscada. Si el carácter no coincide, indicar que no hay coincidencia en esa posición (imprimiendo la posición) y continuar. Si se encuentra una coincidencia, indicar en qué posición se encontró y finalizar la ejecución."
   ]
  },
  {
   "cell_type": "code",
   "execution_count": null,
   "id": "f83c8df3",
   "metadata": {},
   "outputs": [],
   "source": []
  },
  {
   "cell_type": "markdown",
   "id": "4771e0c9",
   "metadata": {},
   "source": [
    "**<span style=\"color:blue\">Ejercicio 9</span>**. \n",
    "\n",
    "Crear un programa que permita al usuario ingresar los montos de las compras de un cliente (se desconoce la cantidad de datos que cargará, la cual puede cambiar en cada ejecución), cortando el ingreso de datos cuando el usuario ingrese el monto 0.\n",
    "Si ingresa un monto negativo, no se debe procesar y se debe pedir que ingrese un nuevo monto. Al finalizar, informar el total a pagar teniendo que cuenta que, si las ventas superan el total de $1000, se le debe aplicar un 10% de descuento."
   ]
  },
  {
   "cell_type": "code",
   "execution_count": null,
   "id": "b9091721",
   "metadata": {
    "scrolled": true
   },
   "outputs": [],
   "source": []
  },
  {
   "cell_type": "markdown",
   "id": "b00fa628",
   "metadata": {},
   "source": [
    "**<span style=\"color:blue\">Ejercicio 10</span>**. \n",
    "\n",
    "Crear un programa que solicite el ingreso de números enteros positivos, hasta que el usuario ingrese el 0. Por cada número, informar cuántos dígitos pares y cuántos impares tiene.\n",
    "Al finalizar, informar la cantidad de dígitos pares y de dígitos impares leídos en total."
   ]
  },
  {
   "cell_type": "code",
   "execution_count": null,
   "id": "e8cd70a4",
   "metadata": {},
   "outputs": [],
   "source": []
  },
  {
   "cell_type": "markdown",
   "id": "6321ebeb",
   "metadata": {},
   "source": [
    "**<span style=\"color:blue\">Ejercicio 11</span>**. \n",
    "\n",
    "Crear un programa que permita al usuario ingresar títulos de libros por teclado, finalizando el ingreso al leerse el string \"*\" (asterisco). \\\n",
    "Cada vez que el usuario ingrese un string de longitud 1 que contenga sólo una barra (\"/\") se considera que termina una línea. \\\n",
    "Por cada línea completa, informar cuántos dígitos numéricos (del 0 al 9) aparecieron en total (en todos los títulos de libros que componen en esa línea). \\\n",
    "Finalmente, informar cuántas líneas completas se ingresaron.\n",
    "\n",
    "**Ejemplo de ejecución:**\n",
    "\n",
    "```\n",
    "Libro: Los 3 mosqueteros\n",
    "Libro: Historia de 2 ciudades\n",
    "Libro: /\n",
    "Línea completa. Aparecen 2 dígitos numéricos.\n",
    "Libro: 20000 leguas de viaje submarino\n",
    "Libro: El señor de los anillos\n",
    "Libro: /\n",
    "Línea completa. Aparecen 5 dígitos numéricos.\n",
    "Libro: 20 años después\n",
    "Libro: *\n",
    "Fin. Se leyeron 2 líneas completas.\n",
    "```"
   ]
  },
  {
   "cell_type": "code",
   "execution_count": null,
   "id": "f39cb91a",
   "metadata": {},
   "outputs": [],
   "source": []
  },
  {
   "cell_type": "markdown",
   "id": "f4bdb752",
   "metadata": {},
   "source": [
    "**<span style=\"color:blue\">Ejercicio 12</span>**. \n",
    "\n",
    "Escribir un programa que solicite el ingreso de una cantidad indeterminada de números mayores que 1, finalizando cuando se reciba un cero. Imprimir la cantidad de números primos ingresados."
   ]
  },
  {
   "cell_type": "code",
   "execution_count": null,
   "id": "2236b7cd",
   "metadata": {},
   "outputs": [],
   "source": []
  }
 ],
 "metadata": {
  "kernelspec": {
   "display_name": "Python 3",
   "language": "python",
   "name": "python3"
  },
  "language_info": {
   "codemirror_mode": {
    "name": "ipython",
    "version": 3
   },
   "file_extension": ".py",
   "mimetype": "text/x-python",
   "name": "python",
   "nbconvert_exporter": "python",
   "pygments_lexer": "ipython3",
   "version": "3.8.8"
  }
 },
 "nbformat": 4,
 "nbformat_minor": 5
}

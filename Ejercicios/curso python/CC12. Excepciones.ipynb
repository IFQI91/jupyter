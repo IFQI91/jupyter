{
 "cells": [
  {
   "cell_type": "markdown",
   "id": "2a50f8f1",
   "metadata": {},
   "source": [
    "# **<span style=\"color:red\">Taller: Introducción a la programación en Python</span>**\n",
    "\n",
    "#  **<span style=\"color:blue\">Excepciones</span>**"
   ]
  },
  {
   "cell_type": "markdown",
   "id": "2130be11",
   "metadata": {},
   "source": [
    "Las excepciones son errores detectados por Python durante la ejecución del programa. Cuando el intérprete se encuentra con una situación excepcional, como el intentar dividir un número entre 0 o el intentar acceder a un archivo que no existe, este genera o lanza una excepción, informando al usuario de que existe algún problema."
   ]
  },
  {
   "cell_type": "markdown",
   "id": "baa178cb",
   "metadata": {},
   "source": [
    "Si la excepción no se captura el flujo de ejecución se interrumpe y se muestra la información asociada a la excepción en la consola de forma que el programador pueda solucionar el problema."
   ]
  },
  {
   "cell_type": "markdown",
   "id": "7be4ebec",
   "metadata": {},
   "source": [
    "Veamos como el siguiente código lanza una excepción al intentar dividir 1 entre 0."
   ]
  },
  {
   "cell_type": "code",
   "execution_count": 1,
   "id": "52f08d73",
   "metadata": {},
   "outputs": [
    {
     "ename": "ZeroDivisionError",
     "evalue": "division by zero",
     "output_type": "error",
     "traceback": [
      "\u001b[1;31m---------------------------------------------------------------------------\u001b[0m",
      "\u001b[1;31mZeroDivisionError\u001b[0m                         Traceback (most recent call last)",
      "\u001b[1;32m<ipython-input-1-a0f322cc2c0d>\u001b[0m in \u001b[0;36m<module>\u001b[1;34m\u001b[0m\n\u001b[0;32m      5\u001b[0m     \u001b[0mdivision\u001b[0m\u001b[1;33m(\u001b[0m\u001b[1;36m1\u001b[0m\u001b[1;33m,\u001b[0m \u001b[1;36m0\u001b[0m\u001b[1;33m)\u001b[0m\u001b[1;33m\u001b[0m\u001b[1;33m\u001b[0m\u001b[0m\n\u001b[0;32m      6\u001b[0m \u001b[1;33m\u001b[0m\u001b[0m\n\u001b[1;32m----> 7\u001b[1;33m \u001b[0mcalcular\u001b[0m\u001b[1;33m(\u001b[0m\u001b[1;33m)\u001b[0m\u001b[1;33m\u001b[0m\u001b[1;33m\u001b[0m\u001b[0m\n\u001b[0m",
      "\u001b[1;32m<ipython-input-1-a0f322cc2c0d>\u001b[0m in \u001b[0;36mcalcular\u001b[1;34m()\u001b[0m\n\u001b[0;32m      3\u001b[0m \u001b[1;33m\u001b[0m\u001b[0m\n\u001b[0;32m      4\u001b[0m \u001b[1;32mdef\u001b[0m \u001b[0mcalcular\u001b[0m\u001b[1;33m(\u001b[0m\u001b[1;33m)\u001b[0m\u001b[1;33m:\u001b[0m\u001b[1;33m\u001b[0m\u001b[1;33m\u001b[0m\u001b[0m\n\u001b[1;32m----> 5\u001b[1;33m     \u001b[0mdivision\u001b[0m\u001b[1;33m(\u001b[0m\u001b[1;36m1\u001b[0m\u001b[1;33m,\u001b[0m \u001b[1;36m0\u001b[0m\u001b[1;33m)\u001b[0m\u001b[1;33m\u001b[0m\u001b[1;33m\u001b[0m\u001b[0m\n\u001b[0m\u001b[0;32m      6\u001b[0m \u001b[1;33m\u001b[0m\u001b[0m\n\u001b[0;32m      7\u001b[0m \u001b[0mcalcular\u001b[0m\u001b[1;33m(\u001b[0m\u001b[1;33m)\u001b[0m\u001b[1;33m\u001b[0m\u001b[1;33m\u001b[0m\u001b[0m\n",
      "\u001b[1;32m<ipython-input-1-a0f322cc2c0d>\u001b[0m in \u001b[0;36mdivision\u001b[1;34m(a, b)\u001b[0m\n\u001b[0;32m      1\u001b[0m \u001b[1;32mdef\u001b[0m \u001b[0mdivision\u001b[0m\u001b[1;33m(\u001b[0m\u001b[0ma\u001b[0m\u001b[1;33m,\u001b[0m \u001b[0mb\u001b[0m\u001b[1;33m)\u001b[0m\u001b[1;33m:\u001b[0m\u001b[1;33m\u001b[0m\u001b[1;33m\u001b[0m\u001b[0m\n\u001b[1;32m----> 2\u001b[1;33m     \u001b[1;32mreturn\u001b[0m\u001b[1;33m(\u001b[0m\u001b[0ma\u001b[0m\u001b[1;33m/\u001b[0m\u001b[0mb\u001b[0m\u001b[1;33m)\u001b[0m\u001b[1;33m\u001b[0m\u001b[1;33m\u001b[0m\u001b[0m\n\u001b[0m\u001b[0;32m      3\u001b[0m \u001b[1;33m\u001b[0m\u001b[0m\n\u001b[0;32m      4\u001b[0m \u001b[1;32mdef\u001b[0m \u001b[0mcalcular\u001b[0m\u001b[1;33m(\u001b[0m\u001b[1;33m)\u001b[0m\u001b[1;33m:\u001b[0m\u001b[1;33m\u001b[0m\u001b[1;33m\u001b[0m\u001b[0m\n\u001b[0;32m      5\u001b[0m     \u001b[0mdivision\u001b[0m\u001b[1;33m(\u001b[0m\u001b[1;36m1\u001b[0m\u001b[1;33m,\u001b[0m \u001b[1;36m0\u001b[0m\u001b[1;33m)\u001b[0m\u001b[1;33m\u001b[0m\u001b[1;33m\u001b[0m\u001b[0m\n",
      "\u001b[1;31mZeroDivisionError\u001b[0m: division by zero"
     ]
    }
   ],
   "source": [
    "def division(a, b):\n",
    "    return(a/b)\n",
    "\n",
    "def calcular():\n",
    "    division(1, 0)\n",
    "\n",
    "calcular()"
   ]
  },
  {
   "cell_type": "markdown",
   "id": "d6cc63dd",
   "metadata": {},
   "source": [
    "Lo primero que se muestra es el trazado de pila o *traceback*, que consiste en una lista con las llamadas que provocaron la excepción. Como vemos en el trazado de pila, el error estuvo causado por la llamada a *calcular()* de la línea *7*, que a su vez llama a *division(1, 0)* en la línea *5* y en última instancia por la ejecución de la sentencia *(a/b)* de la línea 2 de division."
   ]
  },
  {
   "cell_type": "markdown",
   "id": "dc06c53d",
   "metadata": {},
   "source": [
    "A continuación vemos el *tipo de la excepción*, **ZeroDivionError**, junto a una descripción del error: \"*integer division or modulo by zero*\" (módulo o división entera entre cero)."
   ]
  },
  {
   "cell_type": "markdown",
   "id": "38e7880e",
   "metadata": {},
   "source": [
    "En *Python* se utiliza una construcción **try-except** *para capturar y tratar las excepciones*. El bloque *try (intentar)* define el fragmento de código en el que creemos que podría producirse una excepción. El bloque *except (excepción)* permite indicar el tratamiento que se llevará a cabo de producirse dicha excepción. "
   ]
  },
  {
   "cell_type": "markdown",
   "id": "a7b77cef",
   "metadata": {},
   "source": [
    "Muchas veces nuestro tratamiento de la excepción consistirá simplemente en *imprimir un mensaje más amigable para el usuario*, otras veces nos interesará registrar los errores y de vez en cuando podremos establecer una estrategia de resolución del problema."
   ]
  },
  {
   "cell_type": "markdown",
   "id": "70318ad8",
   "metadata": {},
   "source": [
    "En el siguiente ejemplo vamos a capturar la excepción lanzada anteriormente al querer dividir entre cero gracias a nuestro *try-except*."
   ]
  },
  {
   "cell_type": "code",
   "execution_count": null,
   "id": "9fc0584a",
   "metadata": {},
   "outputs": [],
   "source": []
  },
  {
   "cell_type": "markdown",
   "id": "90fed0b7",
   "metadata": {},
   "source": [
    "Funciona. *¿Pero qué pasa si utilizamos un carácter como parámetro de división?* Nos imprime el mismo mensaje y no queremos eso. "
   ]
  },
  {
   "cell_type": "markdown",
   "id": "cda1918b",
   "metadata": {},
   "source": [
    "Afortunadamente, Python permite utilizar **varios except** *para un solo bloque try*, de forma que podamos dar un tratamiento distinto a la excepción dependiendo del tipo de excepción de la que se trate. Esto es una buena práctica, y es tan sencillo como indicar el nombre del tipo a continuación del except."
   ]
  },
  {
   "cell_type": "code",
   "execution_count": null,
   "id": "b85f59b4",
   "metadata": {},
   "outputs": [],
   "source": []
  },
  {
   "cell_type": "markdown",
   "id": "4eeec6cf",
   "metadata": {},
   "source": [
    "Cuando se lanza una excepción en el bloque *try*, se busca en cada una de las clausulas *except* un manejador adecuado para el tipo de error que se produjo. En caso de que no se encuentre, se propaga la excepción."
   ]
  },
  {
   "cell_type": "markdown",
   "id": "b92a1828",
   "metadata": {},
   "source": [
    "Además podemos hacer que ***un mismo except** sirva para tratar más de una excepción* usando una tupla para listar los tipos de error que queremos que trate el bloque:"
   ]
  },
  {
   "cell_type": "code",
   "execution_count": null,
   "id": "fd3d5117",
   "metadata": {
    "scrolled": true
   },
   "outputs": [],
   "source": []
  },
  {
   "cell_type": "markdown",
   "id": "75e7502d",
   "metadata": {},
   "source": [
    "La construcción *try-except* puede contar además con una clausula **else**, que define un fragmento de código a ejecutar sólo si no se ha producido ninguna *excepción*en el *try*."
   ]
  },
  {
   "cell_type": "code",
   "execution_count": null,
   "id": "29818acf",
   "metadata": {},
   "outputs": [],
   "source": []
  },
  {
   "cell_type": "markdown",
   "id": "ef824127",
   "metadata": {},
   "source": [
    "También existe una clausula **finally** que se ejecuta siempre, se produzca o no una excepción. Esta clausula se suele utilizar, entre otras cosas, para tareas de limpieza."
   ]
  },
  {
   "cell_type": "code",
   "execution_count": null,
   "id": "2d1f7afb",
   "metadata": {},
   "outputs": [],
   "source": []
  },
  {
   "cell_type": "markdown",
   "id": "9ca786ef",
   "metadata": {},
   "source": [
    "Por último, a continuación se listan a modo de referencia las excepciones disponibles por defecto, así como la clase de la que deriva cada una de ellas entre paréntesis.\n",
    "\n",
    "+ *BaseException*: Clase de la que heredan todas las excepciones.\n",
    "+ *Exception(BaseException)*: Super clase de todas las excepciones que no sean de salida.\n",
    "+ *GeneratorExit(Exception)*: Se pide que se salga de un generador.\n",
    "+ *StandarError(Exception)*: Clase base para todas las excepciones que no tengan que ver con salir del intérprete.\n",
    "+ *ArithmeticError(StandardError)*: Clase base para los errores aritméticos.\n",
    "+ *FloatingPointError(ArithmeticError)*: Error en una operación de coma flotante.\n",
    "+ *OverflowError(ArithmeticError)*: Resultado demasiado grande para poder representarse.\n",
    "+ *ZeroDivisionError(ArithmeticError)*: Lanzada cuando el segundo argumento de una operación de división o módulo era 0.\n",
    "+ *AssertionError(StandardError)*: Falló la condición de un estamento assert.\n",
    "+ *AttributeError(StandardError)*: No se encontró el atributo.\n",
    "+ *EOFError(StandardError)*: Se intentó leer más allá del final de fichero.\n",
    "+ *EnvironmentError(StandardError)*: Clase padre de los errores relacionados con la entrada/salida.\n",
    "+ *IOError(EnvironmentError)*: Error en una operación de entrada/salida.\n",
    "+ *OSError(EnvironmentError)*: Error en una llamada a sistema.\n",
    "+ *WindowsError(OSError)*: Error en una llamada a sistema en Windows.\n",
    "+ *ImportError(StandardError)*: No se encuentra el módulo o el elemento del módulo que se quería importar.\n",
    "+ *LookupError(StandardError)*: Clase padre de los errores de acceso.\n",
    "+ *IndexError(LookupError)*: El índice de la secuencia está fuera del rango posible.\n",
    "+ *KeyError(LookupError)*: La clave no existe.\n",
    "+ *MemoryError(StandardError)*: No queda memoria suficiente.\n",
    "+ *NameError(StandardError)*: No se encontró ningún elemento con ese nombre.\n",
    "+ *UnboundLocalError(NameError)*: El nombre no está asociado a ninguna variable.\n",
    "+ *ReferenceError(StandardError)*: El objeto no tiene ninguna referencia fuerte apuntando hacia él.\n",
    "+ *RuntimeError(StandardError)*: Error en tiempo de ejecución no especificado.\n",
    "+ *NotImplementedError(RuntimeError)*: Ese método o función no está implementado.\n",
    "+ *SyntaxError(StandardError)*: Clase padre para los errores sintácticos.\n",
    "+ *IndentationError(SyntaxError)*: Error en la indentación del archivo.\n",
    "+ *TabError(IndentationError)*: Error debido a la mezcla de espacios y tabuladores.\n",
    "+ *SystemError(StandardError)*: Error interno del intérprete.\n",
    "+ *TypeError(StandardError)*: Tipo de argumento no apropiado.\n",
    "+ *ValueError(StandardError)*: Valor del argumento no apropiado.\n",
    "+ *UnicodeError(ValueError)*: Clase padre para los errores relacionados con unicode.\n",
    "+ *UnicodeDecodeError(UnicodeError)*: Error de decodificación unicode.\n",
    "+ *UnicodeEncodeError(UnicodeError)*: Error de codificación unicode.\n",
    "+ *UnicodeTranslateError(UnicodeError)*: Error de traducción unicode.\n",
    "+ *StopIteration(Exception)*: Se utiliza para indicar el final del iterador.\n",
    "+ *Warning(Exception)*: Clase padre para los avisos.\n",
    "+ *DeprecationWarning(Warning)*: Clase padre para avisos sobre características obsoletas.\n",
    "+ *FutureWarning(Warning)*: Aviso. La semántica de la construcción cambiará en un futuro.\n",
    "+ *ImportWarning(Warning)*: Aviso sobre posibles errores a la hora de importar.\n",
    "+ *PendingDeprecationWarning(Warning)*: Aviso sobre características que se marcarán como obsoletas en un futuro próximo.\n",
    "+ *RuntimeWarning(Warning)*: Aviso sobre comportmaientos dudosos en tiempo de ejecución.\n",
    "+ *SyntaxWarning(Warning)*: Aviso sobre sintaxis dudosa.\n",
    "+ *UnicodeWarning(Warning)*: Aviso sobre problemas relacionados con Unicode, sobre todo con problemas de conversión.\n",
    "+ *UserWarning(Warning)*: Clase padre para avisos creados por el programador.\n",
    "+ *KeyboardInterrupt(BaseException)*: El programa fué interrumpido por el usuario.\n",
    "+ *SystemExit(BaseException)*: Petición del intérprete para terminar la ejecución."
   ]
  }
 ],
 "metadata": {
  "kernelspec": {
   "display_name": "Python 3",
   "language": "python",
   "name": "python3"
  },
  "language_info": {
   "codemirror_mode": {
    "name": "ipython",
    "version": 3
   },
   "file_extension": ".py",
   "mimetype": "text/x-python",
   "name": "python",
   "nbconvert_exporter": "python",
   "pygments_lexer": "ipython3",
   "version": "3.8.8"
  }
 },
 "nbformat": 4,
 "nbformat_minor": 5
}

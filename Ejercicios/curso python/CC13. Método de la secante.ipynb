{
 "cells": [
  {
   "cell_type": "markdown",
   "id": "2a50f8f1",
   "metadata": {},
   "source": [
    "# **<span style=\"color:red\">Taller: Introducción a la programación en Python</span>**\n",
    "\n",
    "#  **<span style=\"color:blue\">Método de la secante</span>**"
   ]
  },
  {
   "cell_type": "markdown",
   "id": "077a9f20",
   "metadata": {},
   "source": [
    "El **método de la secante** es un método para encontrar los ceros de una función de forma iterativa.\n",
    "\n",
    "Es una variación del método de *Newton-Raphson* donde en vez de calcular la derivada de la función en el punto de estudio, teniendo en mente la definición de derivada, se aproxima la pendiente a la recta que une la función evaluada en el punto de estudio y en el punto de la iteración anterior. \n",
    "\n",
    "Este *método es de especial interés cuando el coste computacional de derivar la función de estudio y evaluarla es demasiado elevado*, por lo que el método de Newton no resulta atractivo.\n",
    "\n",
    "*Nota:* El *método de la secante* se puede considerar como una aproximación en diferencias finitas del método de *Newton-Raphson*. Sin embargo, este método fue desarrollado independientemente de este último."
   ]
  },
  {
   "cell_type": "markdown",
   "id": "c54ed7f1",
   "metadata": {},
   "source": [
    "Un **algoritmo** para el método de la secante es el siguiente:"
   ]
  },
  {
   "cell_type": "markdown",
   "id": "5f5c2bf7",
   "metadata": {},
   "source": [
    "Para determinar una raiz de $f(x)=0$, dados dos valores, $x_0$ y $x_1$ próximos a la raiz:"
   ]
  },
  {
   "cell_type": "markdown",
   "id": "fcf54a6f",
   "metadata": {},
   "source": [
    "Repetir:\\\n",
    "$\\ \\ \\ \\ $ Calcular $x_2=x_1-f(x_1)\\displaystyle\\frac{(x_0-x_1)}{(f(x_0)-f(x_1))}$\\\n",
    "$\\ \\ \\ \\ $ Hacer $x_0=x_1$\n",
    "$\\ \\ \\ \\ $ Hacer $x_1=x_2$    \n",
    "$\\ \\ \\ \\ $ Si $\\left |f(x_2) \\right | <$ valor de tolerancia o n = número de iteraciones\\\n",
    "$\\ \\ \\ \\ $ $\\ \\ \\ \\ $ Fin"
   ]
  },
  {
   "cell_type": "markdown",
   "id": "b761d005",
   "metadata": {},
   "source": [
    "**<span style=\"color:blue\">Ejemplo:</span>**\n",
    "\n",
    "Aproximar la raiz por el método de la secante para:\n",
    "$$f(x)=3x+sen(x)-e^x$$\n",
    "con $x_0=0$, $x_1=1$ y con 4 iteraciones."
   ]
  },
  {
   "cell_type": "markdown",
   "id": "e8c57b31",
   "metadata": {},
   "source": [
    "**<span style=\"color:blue\">Solución:</span>**\n",
    "\n",
    "*Iteración 1*:\n",
    "- $f(x_0)=3(0)+sen(0)-e^0=-1$\n",
    "- $f(x_1)=3(1)+sen(1)-e^1=1.123189156$\n",
    "\n",
    "$x_2=x_1-f(x_1)\\displaystyle\\frac{(x_0-x_1)}{(f(x_0)-f(x_1))}=1-(1.123189156)\\displaystyle\\frac{(0-1)}{(-1-1.123189156)}=0.4709895947$\n",
    "\n",
    "$x_0 = x_1 = 1$\\\n",
    "$x_1 = x_2 = 0.4709895947$\n",
    "\n",
    "*Iteración 2*:\\\n",
    "$x_2=x_1-f(x_1)\\displaystyle\\frac{(x_0-x_1)}{(f(x_0)-f(x_1))}=0.3075084611$\n",
    "\n",
    "$x_0 = x_1 = 0.4709895947$\\\n",
    "$x_1 = x_2 = 0.3075084611$\n",
    "\n",
    "*Iteración 3*:\\\n",
    "$x_2=x_1-f(x_1)\\displaystyle\\frac{(x_0-x_1)}{(f(x_0)-f(x_1))}=0.3626132419$\n",
    "\n",
    "$x_0 = x_1 = 0.3075084611$\\\n",
    "$x_1 = x_2 = 0.3626132419$\n",
    "\n",
    "*Iteración 4*:\\\n",
    "$x_2=x_1-f(x_1)\\displaystyle\\frac{(x_0-x_1)}{(f(x_0)-f(x_1))}=0.3604614817$\n",
    "\n",
    "$x_0 = x_1 = 0.3626132419$\\\n",
    "$x_1 = x_2 = 0.3604614817$\n",
    "\n",
    "Con $n=4$ iteraciones, vemos que una solución aproximada de: $f(x)=3x+sen(x)-e^x$ es: 0.3604614817."
   ]
  },
  {
   "cell_type": "markdown",
   "id": "98fc8c44",
   "metadata": {},
   "source": [
    "**<span style=\"color:blue\">Ejercicio:</span>**\n",
    "\n",
    "Escriba un programa que resuelva ecuaciones no lineales utilizando el método de la *secante*. El programa debe pedir al usuario: \n",
    "- la función $f(x)$ de la cual quiere obtener un cero o una raiz\n",
    "- un valor inicial para $x_0$\n",
    "- un valor inicial para $x_1$\n",
    "- el número máximo de iteraciones\n",
    "- un valor de tolerancia\n",
    "\n",
    "Imprimir la solución, y el número de iteraciones que utilizó.\n",
    "\n",
    "*Nota 1*: su programa debe preguntar al usuario si desea volver a utilizar el método de la *secante*. Si su respuesta es *sí*, debe repetir los pasos anteriores. Si su respuesta es *no*, finalizar el programa.  \n",
    "\n",
    "*Nota 2*: debe manejar las excepciones a la hora de pedir el valor inicial para $x_0$, el valor inicial para $x_1$, el número de iteraciones y el valor de tolerancia.\n",
    "\n",
    "*Nota 3:* si al preguntar al usuario si desea volver a utilizar el método de la *secante*, el usuario escribe algo distinto a *sí* o *no*, mandar un mensaje diciendo que las respuestas posibles son *sí* o *no*, y darle la opción de insertar una respueta nuevamente hasta que escriba una de los dos respuestas posibles."
   ]
  },
  {
   "cell_type": "markdown",
   "id": "fbdde979",
   "metadata": {},
   "source": [
    "**<span style=\"color:blue\">Solución:</span>**"
   ]
  },
  {
   "cell_type": "code",
   "execution_count": null,
   "id": "4f78d0fb",
   "metadata": {
    "scrolled": true
   },
   "outputs": [],
   "source": []
  },
  {
   "cell_type": "markdown",
   "id": "3e111662",
   "metadata": {},
   "source": [
    "**<span style=\"color:blue\">Ejercicio 2:</span>**\n",
    "    \n",
    "Usando su programa verifique la solución del ejemplo."
   ]
  },
  {
   "cell_type": "markdown",
   "id": "7e75f287",
   "metadata": {},
   "source": [
    "**<span style=\"color:blue\">Ejercicio 3:</span>**\n",
    "\n",
    "Usando su programa. Aproxime una solución de $x^x=100$ con el método de la *secante*. Elija valores para $x_0$ y $x_1$, el número de iteraciones y la tolerancia."
   ]
  },
  {
   "cell_type": "markdown",
   "id": "416c13ef",
   "metadata": {},
   "source": [
    "**<span style=\"color:blue\">Solución:</span>**\n",
    "\n",
    "Una solución aproximada para $x^x=100$ utilizando el método de la secante es:"
   ]
  }
 ],
 "metadata": {
  "kernelspec": {
   "display_name": "Python 3",
   "language": "python",
   "name": "python3"
  },
  "language_info": {
   "codemirror_mode": {
    "name": "ipython",
    "version": 3
   },
   "file_extension": ".py",
   "mimetype": "text/x-python",
   "name": "python",
   "nbconvert_exporter": "python",
   "pygments_lexer": "ipython3",
   "version": "3.8.8"
  }
 },
 "nbformat": 4,
 "nbformat_minor": 5
}

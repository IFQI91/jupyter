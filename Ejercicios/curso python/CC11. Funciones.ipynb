{
 "cells": [
  {
   "cell_type": "markdown",
   "id": "2a50f8f1",
   "metadata": {},
   "source": [
    "# **<span style=\"color:red\">Taller: Introducción a la programación en Python</span>**\n",
    "\n",
    "#  **<span style=\"color:blue\">Funciones</span>**"
   ]
  },
  {
   "cell_type": "markdown",
   "id": "a3f4d9dc",
   "metadata": {},
   "source": [
    "## **<span style=\"color:blue\">¿Qué es una función?</span>**"
   ]
  },
  {
   "cell_type": "markdown",
   "id": "09307458",
   "metadata": {},
   "source": [
    "Una **función** es un fragmento de código con un *nombre asociado* que realiza una serie de tareas y devuelve un valor. \n",
    "\n",
    "Las funciones nos ayudan a dividir nuestro programa en partes, además nos permiten reutilizar código.\n",
    "\n",
    "**Nota:** A los fragmentos de código que tienen un nombre asociado y no devuelven valores se les suele llamar procedimientos. En Python no existen los procedimientos, ya que cuando el programador no especifica un valor de retorno la función devuelve el valor *None* (nada)."
   ]
  },
  {
   "cell_type": "markdown",
   "id": "4e3f88cf",
   "metadata": {},
   "source": [
    "### **<span style=\"color:blue\">Llamada a una función</span>**"
   ]
  },
  {
   "cell_type": "markdown",
   "id": "bcc3784f",
   "metadata": {},
   "source": [
    "Para \"**llamar**\" a una función simplemente hay que escribir su nombre. Ya hemos visto ejemplos de como llamar a una función, por ejemplo, la función *type()*:"
   ]
  },
  {
   "cell_type": "code",
   "execution_count": null,
   "id": "f87964b2",
   "metadata": {},
   "outputs": [],
   "source": []
  },
  {
   "cell_type": "markdown",
   "id": "91fb2bdb",
   "metadata": {},
   "source": [
    "El nombre de la función es *type*. La expresión entre paréntesis recibe el nombre de argumento de la función. El argumento es un valor o variable que se pasa a la función como parámetro de entrada. El resultado de la función *type* es el tipo del argumento."
   ]
  },
  {
   "cell_type": "markdown",
   "id": "b67ea05a",
   "metadata": {},
   "source": [
    "Es habitual decir que una función \"*toma*\" (o recibe) un argumento y \"retorna\" (o devuelve) un resultado. El resultado se llama **valor de retorno**."
   ]
  },
  {
   "cell_type": "markdown",
   "id": "af1011ea",
   "metadata": {},
   "source": [
    "### **<span style=\"color:blue\">Funciones internas</span>**"
   ]
  },
  {
   "cell_type": "markdown",
   "id": "49954a36",
   "metadata": {},
   "source": [
    "Python proporciona un número importante de **funciones internas**, que pueden ser usadas sin necesidad de tener que definirlas previamente. Los creadores de Python han escrito un conjunto de funciones para resolver problemas comunes y las han incluido en Python para que las podamos utilizar."
   ]
  },
  {
   "cell_type": "markdown",
   "id": "bc5b02f6",
   "metadata": {},
   "source": [
    "Las funciones **max** y **min** nos darán respectivamente el valor mayor y menor de una lista:"
   ]
  },
  {
   "cell_type": "code",
   "execution_count": null,
   "id": "426c4af6",
   "metadata": {},
   "outputs": [],
   "source": []
  },
  {
   "cell_type": "markdown",
   "id": "f0f59642",
   "metadata": {},
   "source": [
    "Otra función interna muy común es **len**, que nos dice cuántos elementos hay en su argumento. Si el argumento de *len* es una *cadena*, nos devuelve el número de caracteres que hay en la cadena."
   ]
  },
  {
   "cell_type": "code",
   "execution_count": null,
   "id": "e72175ff",
   "metadata": {},
   "outputs": [],
   "source": []
  },
  {
   "cell_type": "markdown",
   "id": "80375c2b",
   "metadata": {},
   "source": [
    "**Nota:** Se deben tratar los nombres de las funciones internas como si fueran palabras reservadas (es decir, evita usar \"max\" como nombre para una variable)."
   ]
  },
  {
   "cell_type": "markdown",
   "id": "cc2d346b",
   "metadata": {},
   "source": [
    "### **<span style=\"color:blue\">Funciones de conversión de tipos</span>**"
   ]
  },
  {
   "cell_type": "markdown",
   "id": "d42432fd",
   "metadata": {},
   "source": [
    "Python también proporciona *funciones internas* que **convierten** *valores de un tipo a otro*. La función *int* toma cualquier valor y lo convierte en un entero, si puede, o manda una excepsión si no puede:"
   ]
  },
  {
   "cell_type": "code",
   "execution_count": null,
   "id": "52fc1ae9",
   "metadata": {},
   "outputs": [],
   "source": []
  },
  {
   "cell_type": "markdown",
   "id": "091c9f07",
   "metadata": {},
   "source": [
    "*int* puede convertir valores de coma flotante a enteros, pero no los redondea;\n",
    "simplemente corta y descarta la parte decimal:"
   ]
  },
  {
   "cell_type": "code",
   "execution_count": null,
   "id": "6d7a9433",
   "metadata": {},
   "outputs": [],
   "source": []
  },
  {
   "cell_type": "markdown",
   "id": "aeaf2b4b",
   "metadata": {},
   "source": [
    "*float* convierte enteros y cadenas en números de coma flotante:"
   ]
  },
  {
   "cell_type": "code",
   "execution_count": null,
   "id": "25fa5474",
   "metadata": {},
   "outputs": [],
   "source": []
  },
  {
   "cell_type": "markdown",
   "id": "94326fa0",
   "metadata": {},
   "source": [
    "Finalmente, *str* convierte su argumento en una cadena:"
   ]
  },
  {
   "cell_type": "code",
   "execution_count": null,
   "id": "5ac5dc4b",
   "metadata": {},
   "outputs": [],
   "source": []
  },
  {
   "cell_type": "markdown",
   "id": "20969d10",
   "metadata": {},
   "source": [
    "### **<span style=\"color:blue\">Funciones matemáticas</span>**"
   ]
  },
  {
   "cell_type": "markdown",
   "id": "965814fb",
   "metadata": {},
   "source": [
    "Python tiene un *módulo matemático* (math), que proporciona la mayoría de las\n",
    "funciones matemáticas habituales. Antes de que podamos utilizar el módulo, deberemos importarlo:"
   ]
  },
  {
   "cell_type": "code",
   "execution_count": null,
   "id": "adcb2cf0",
   "metadata": {},
   "outputs": [],
   "source": []
  },
  {
   "cell_type": "markdown",
   "id": "5ab2c340",
   "metadata": {},
   "source": [
    "Esta sentencia crea un *objeto módulo* llamado *math*."
   ]
  },
  {
   "cell_type": "markdown",
   "id": "9b54e171",
   "metadata": {},
   "source": [
    "El *objeto módulo* contiene las funciones y variables definidas en el módulo. Para acceder a una de esas funciones, es necesario especificar el nombre del módulo y el nombre de la función, separados por un punto. Este formato recibe el nombre de notación punto."
   ]
  },
  {
   "cell_type": "code",
   "execution_count": null,
   "id": "1373c79e",
   "metadata": {},
   "outputs": [],
   "source": []
  },
  {
   "cell_type": "code",
   "execution_count": null,
   "id": "58d0d951",
   "metadata": {
    "scrolled": true
   },
   "outputs": [],
   "source": []
  },
  {
   "cell_type": "code",
   "execution_count": null,
   "id": "a643f1e3",
   "metadata": {},
   "outputs": [],
   "source": []
  },
  {
   "cell_type": "markdown",
   "id": "dcc3724a",
   "metadata": {},
   "source": [
    "También podemos acceder a constantes del módulo math utilizando la misma notación:"
   ]
  },
  {
   "cell_type": "code",
   "execution_count": null,
   "id": "8c2bbc6b",
   "metadata": {
    "scrolled": true
   },
   "outputs": [],
   "source": []
  },
  {
   "cell_type": "code",
   "execution_count": null,
   "id": "a022a2e9",
   "metadata": {},
   "outputs": [],
   "source": []
  },
  {
   "cell_type": "markdown",
   "id": "209bd2b8",
   "metadata": {},
   "source": [
    "Para saber más sobre el modulo *math* podemos consultar su documentación en:\n",
    "| https://docs.python.org/es/3.8/library/math.html"
   ]
  },
  {
   "cell_type": "markdown",
   "id": "25bb16eb",
   "metadata": {},
   "source": [
    "### **<span style=\"color:blue\">Añadiendo nuevas funciones</span>**"
   ]
  },
  {
   "cell_type": "markdown",
   "id": "f713b686",
   "metadata": {},
   "source": [
    "Hasta ahora, sólo hemos estado usando las funciones que vienen incorporadas en\n",
    "Python, pero es posible **añadir también funciones nuevas**. \\\n",
    "Una definición de función especifica el nombre de una función nueva y la secuencia de sentencias que se ejecutan cuando esa función es llamada. Una vez definida una función, se puede reutilizar una y otra vez a lo largo de todo el programa."
   ]
  },
  {
   "cell_type": "markdown",
   "id": "2c55684d",
   "metadata": {},
   "source": [
    "En *Python* las funciones se declaran de la siguiente forma:"
   ]
  },
  {
   "cell_type": "code",
   "execution_count": null,
   "id": "a8de869c",
   "metadata": {},
   "outputs": [],
   "source": []
  },
  {
   "cell_type": "markdown",
   "id": "06de5ab7",
   "metadata": {},
   "source": [
    "**Ejemplo:** Crear una función que reciba dos número como argumentos y realice una suma:"
   ]
  },
  {
   "cell_type": "code",
   "execution_count": null,
   "id": "22a11e70",
   "metadata": {},
   "outputs": [],
   "source": []
  },
  {
   "cell_type": "markdown",
   "id": "e38ad96f",
   "metadata": {},
   "source": [
    "**Ejemplo:** Crear una función que reciba como argumento un año, y diga si es bisiesto o no. \n",
    "\n",
    "*Nota:* para que un año sea bisiesto debe ser divisible por 4 y no debe ser divisible por 100, excepto que también sea divisible por 400."
   ]
  },
  {
   "cell_type": "code",
   "execution_count": null,
   "id": "66868f8d",
   "metadata": {},
   "outputs": [],
   "source": []
  },
  {
   "cell_type": "markdown",
   "id": "cd9be740",
   "metadata": {},
   "source": [
    "**Ejemplo:** Escribir una función llamada collatz que reciba como argumento un número entero y que realice la siguiente operación, de manera iterativa, \n",
    "- $\\displaystyle\\frac{n}{2}$ si n es par\n",
    "- $3\\times n+1$ si n es impar\n",
    "\n",
    "la función debe imprimir el resultado de cada iteración, hasta llegar a *1*, momento en el cual se debe detener el proceso iterativo. Finalmente la función debe imprimir el número de iteraciones realizadas.\n",
    "\n",
    "Verificar que:\n",
    "- El número 26 llega al 1 en 10 pasos.\n",
    "- El número 27 llega al 1 en 111 pasos.\n",
    "- El número 64 llega al 1 en 6 pasos.\n",
    "- El número 341 llega al 1 en 111 pasos.\n",
    "- El número 18446744073709551616 llega al 1 en 64 pasos.\n",
    "- El número 9355 llega al 1 en 197.\n",
    "\n",
    "**Nota:** hasta ahora se ha verificado que los números hasta el $2^{64}$ llegan a *1*."
   ]
  },
  {
   "cell_type": "code",
   "execution_count": null,
   "id": "2d1f31bd",
   "metadata": {
    "scrolled": true
   },
   "outputs": [],
   "source": []
  },
  {
   "cell_type": "code",
   "execution_count": null,
   "id": "a83ee018",
   "metadata": {
    "scrolled": false
   },
   "outputs": [],
   "source": []
  },
  {
   "cell_type": "markdown",
   "id": "17f08336",
   "metadata": {},
   "source": [
    "**Ejercicio:** Escriba una función que resuelva ecuaciones de segundo grado. La función debe recibir tres parámetros: *a*, *b* y *c* y decir si la ecuación cuadrática $$ax^2+bx+c=0$$ tiene 2 soluciones reales, 1 solución real o 2 soluciones imaginarias y que imprima las soluciones. "
   ]
  },
  {
   "cell_type": "code",
   "execution_count": null,
   "id": "765e7ce4",
   "metadata": {},
   "outputs": [],
   "source": []
  },
  {
   "cell_type": "markdown",
   "id": "7b8c425d",
   "metadata": {},
   "source": [
    "**Ejercicio:** Escribir una función llamada *calculadora* que reciba *3* argumentos, dos números y una operación entre las siguientes: suma, resta, multiplicación, división, división entera, exponente y módulo. Y devuelva el resultado de aplicar la operación elegida a los dos números.\\\n",
    "Después pedir dos números al usuario, la operación que desea realizar y utilizar la función construida para devolver el resultado."
   ]
  },
  {
   "cell_type": "code",
   "execution_count": null,
   "id": "cda1afc4",
   "metadata": {},
   "outputs": [],
   "source": []
  }
 ],
 "metadata": {
  "kernelspec": {
   "display_name": "Python 3",
   "language": "python",
   "name": "python3"
  },
  "language_info": {
   "codemirror_mode": {
    "name": "ipython",
    "version": 3
   },
   "file_extension": ".py",
   "mimetype": "text/x-python",
   "name": "python",
   "nbconvert_exporter": "python",
   "pygments_lexer": "ipython3",
   "version": "3.8.8"
  }
 },
 "nbformat": 4,
 "nbformat_minor": 5
}

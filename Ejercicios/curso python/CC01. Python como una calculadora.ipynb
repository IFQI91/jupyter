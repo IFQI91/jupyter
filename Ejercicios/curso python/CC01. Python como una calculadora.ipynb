{
 "cells": [
  {
   "cell_type": "markdown",
   "id": "2a50f8f1",
   "metadata": {},
   "source": [
    "# **<span style=\"color:red\">Taller: Introducción a la programación en Python</span>**\n",
    "\n",
    "##  **<span style=\"color:blue\">Python como una calculadora</span>**"
   ]
  },
  {
   "cell_type": "markdown",
   "id": "ddbacf23",
   "metadata": {},
   "source": [
    "El uso más básico de Python sería utilizarlo como una calculadora científica. Así: \n",
    "$$3+4$$\n",
    "Sumará $3$ y $4$ y devolverá el resultado."
   ]
  },
  {
   "cell_type": "code",
   "execution_count": null,
   "id": "2f5c4d4b",
   "metadata": {},
   "outputs": [],
   "source": []
  },
  {
   "cell_type": "markdown",
   "id": "93464ddf",
   "metadata": {},
   "source": [
    "Aunque sea el uso más básico, podemos cometer varios errores al insertar operaciones aritméticas. Por lo que debemos tener muy presente la jerarquia de las operaciones y no tener miedo a la hora de utilizar una cantidad muy grande de paréntesis."
   ]
  },
  {
   "cell_type": "markdown",
   "id": "d0d96274",
   "metadata": {},
   "source": [
    "Por ejemplo: la siguiente expresión\n",
    "$$\\frac{1}{3}+5$$ \n",
    "podría escribirse simplemente como:"
   ]
  },
  {
   "cell_type": "code",
   "execution_count": null,
   "id": "7dc3276a",
   "metadata": {},
   "outputs": [],
   "source": []
  },
  {
   "cell_type": "markdown",
   "id": "e14184ed",
   "metadata": {},
   "source": [
    "pero en este taller se hace la recomendación de escribirla así:"
   ]
  },
  {
   "cell_type": "code",
   "execution_count": null,
   "id": "afdacfb0",
   "metadata": {},
   "outputs": [],
   "source": []
  },
  {
   "cell_type": "markdown",
   "id": "ed71d448",
   "metadata": {},
   "source": [
    "La expresión\n",
    "$$2^5+6/7$$ \n",
    "podría escribirse simplemente como:"
   ]
  },
  {
   "cell_type": "code",
   "execution_count": null,
   "id": "853a263f",
   "metadata": {},
   "outputs": [],
   "source": []
  },
  {
   "cell_type": "markdown",
   "id": "469fc12a",
   "metadata": {},
   "source": [
    "pero se recomienda escribirla así:"
   ]
  },
  {
   "cell_type": "code",
   "execution_count": null,
   "id": "67f5b96f",
   "metadata": {},
   "outputs": [],
   "source": []
  },
  {
   "cell_type": "markdown",
   "id": "20a2373d",
   "metadata": {},
   "source": [
    "Haciendo un uso excesivo de los paréntesis evitaremos cometer errores al insertar alguna expresión más compleja como la siguiente:\n",
    "$$129.1-1.96 \\sqrt{\\displaystyle\\frac{(600-30)\\times 3.13324^2}{\\sqrt{600}\\times \\frac{5}{6}}}$$\n",
    "cuyo resultado es igual a $96.6481$."
   ]
  },
  {
   "cell_type": "code",
   "execution_count": null,
   "id": "f2e302e8",
   "metadata": {},
   "outputs": [],
   "source": []
  },
  {
   "cell_type": "markdown",
   "id": "4a3740bc",
   "metadata": {},
   "source": [
    "Podemos notar que la cantidad de paréntesis es descomunal, pero es mejor escribirla así que intentar utilizar el número mínimo de paréntesis y cometer un error."
   ]
  },
  {
   "cell_type": "markdown",
   "id": "34589848",
   "metadata": {},
   "source": [
    "### **<span style=\"color:blue\">Ejercicios</span>**\n",
    "\n",
    "Calcular el valor de las siguientes expresiones en Python."
   ]
  },
  {
   "cell_type": "markdown",
   "id": "a3ae8ad4",
   "metadata": {},
   "source": [
    "1. $\\displaystyle\\frac{(85-8)\\times 0.4621}{8\\times 85}$"
   ]
  },
  {
   "cell_type": "code",
   "execution_count": null,
   "id": "fbdae551",
   "metadata": {},
   "outputs": [],
   "source": []
  },
  {
   "cell_type": "markdown",
   "id": "51b327cc",
   "metadata": {},
   "source": [
    "2. $\\displaystyle\\frac{619.24-8\\times 8.775^2}{7}$"
   ]
  },
  {
   "cell_type": "code",
   "execution_count": null,
   "id": "dd509e92",
   "metadata": {},
   "outputs": [],
   "source": []
  },
  {
   "cell_type": "markdown",
   "id": "236e0a42",
   "metadata": {},
   "source": [
    "3. $0.183-2.57\\sqrt{\\displaystyle\\frac{0.183\\times 0.816(1200-60)}{1200(60-1)}}$"
   ]
  },
  {
   "cell_type": "code",
   "execution_count": null,
   "id": "c6b2608a",
   "metadata": {},
   "outputs": [],
   "source": []
  },
  {
   "cell_type": "markdown",
   "id": "c5fd6fa8",
   "metadata": {},
   "source": [
    "4. $\\displaystyle\\frac{600^2\\times 3.13324^2}{\\left[\\displaystyle\\frac{650}{1.96}\\right]^2+600\\times 3.13324^2}$"
   ]
  },
  {
   "cell_type": "code",
   "execution_count": null,
   "id": "a206434f",
   "metadata": {},
   "outputs": [],
   "source": []
  },
  {
   "cell_type": "markdown",
   "id": "de4d3b06",
   "metadata": {},
   "source": [
    "5. $\\displaystyle\\frac{1200\\times 0.183\\times 0.816}{1200\\left[\\displaystyle\\frac{0.06}{2.575829} \\right]^2+0.183\\times 0.816}$"
   ]
  },
  {
   "cell_type": "code",
   "execution_count": null,
   "id": "74c3984d",
   "metadata": {},
   "outputs": [],
   "source": []
  }
 ],
 "metadata": {
  "kernelspec": {
   "display_name": "Python 3",
   "language": "python",
   "name": "python3"
  },
  "language_info": {
   "codemirror_mode": {
    "name": "ipython",
    "version": 3
   },
   "file_extension": ".py",
   "mimetype": "text/x-python",
   "name": "python",
   "nbconvert_exporter": "python",
   "pygments_lexer": "ipython3",
   "version": "3.8.8"
  }
 },
 "nbformat": 4,
 "nbformat_minor": 5
}

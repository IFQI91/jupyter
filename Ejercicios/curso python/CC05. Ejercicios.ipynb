{
 "cells": [
  {
   "cell_type": "markdown",
   "id": "2a50f8f1",
   "metadata": {},
   "source": [
    "# **<span style=\"color:red\">Taller: Introducción a la programación en Python</span>**\n",
    "\n",
    "#  **<span style=\"color:blue\">Ejercicios</span>**"
   ]
  },
  {
   "cell_type": "markdown",
   "id": "eb42411b",
   "metadata": {},
   "source": [
    "**<span style=\"color:blue\">Ejercicio 1</span>**. \n",
    "\n",
    "Escribir un programa que muestre por pantalla la cadena `¡Hola Mundo!`."
   ]
  },
  {
   "cell_type": "markdown",
   "id": "dcaffdd0",
   "metadata": {},
   "source": [
    "**<span style=\"color:blue\">Solución:</span>**"
   ]
  },
  {
   "cell_type": "code",
   "execution_count": null,
   "id": "6ac0f4d1",
   "metadata": {},
   "outputs": [],
   "source": []
  },
  {
   "cell_type": "markdown",
   "id": "35c1fd14",
   "metadata": {},
   "source": [
    "**<span style=\"color:blue\">Ejercicio 2</span>**. \n",
    "\n",
    "Escribir un programa que almacene la cadena `¡Hola Mundo!` en una variable y luego muestre por pantalla el contenido de la variable."
   ]
  },
  {
   "cell_type": "markdown",
   "id": "134f746a",
   "metadata": {},
   "source": [
    "**<span style=\"color:blue\">Solución:</span>**"
   ]
  },
  {
   "cell_type": "code",
   "execution_count": null,
   "id": "12062cd3",
   "metadata": {},
   "outputs": [],
   "source": []
  },
  {
   "cell_type": "markdown",
   "id": "9d955abb",
   "metadata": {},
   "source": [
    "**<span style=\"color:blue\">Ejercicio 3</span>**. \n",
    "\n",
    "Escribir un programa que pregunte el nombre del usuario en la consola y después de que el usuario lo introduzca muestre por pantalla la cadena `¡Hola <nombre>!`, donde *\\<nombre\\>* es el nombre que el usuario haya introducido."
   ]
  },
  {
   "cell_type": "markdown",
   "id": "0731187e",
   "metadata": {},
   "source": [
    "**<span style=\"color:blue\">Solución:</span>**"
   ]
  },
  {
   "cell_type": "code",
   "execution_count": null,
   "id": "b4ef987d",
   "metadata": {},
   "outputs": [],
   "source": []
  },
  {
   "cell_type": "markdown",
   "id": "fff33f2c",
   "metadata": {},
   "source": [
    "**<span style=\"color:blue\">Ejercicio 4</span>**. \n",
    "\n",
    "Escribir un programa que muestre por pantalla el resultado de la siguiente operación aritmética $${\\left(\\frac{3+2}{2\\times 5}\\right)}^{2}$$"
   ]
  },
  {
   "cell_type": "markdown",
   "id": "9574f969",
   "metadata": {},
   "source": [
    "**<span style=\"color:blue\">Solución:</span>**"
   ]
  },
  {
   "cell_type": "code",
   "execution_count": null,
   "id": "4d25e41b",
   "metadata": {},
   "outputs": [],
   "source": []
  },
  {
   "cell_type": "markdown",
   "id": "0412a6f2",
   "metadata": {},
   "source": [
    "**<span style=\"color:blue\">Ejercicio 5</span>**. \n",
    "\n",
    "Escribir un programa que pregunte al usuario por el número de horas trabajadas y el coste por hora. Después debe mostrar por pantalla la paga que le corresponde."
   ]
  },
  {
   "cell_type": "markdown",
   "id": "95f5a02a",
   "metadata": {},
   "source": [
    "**<span style=\"color:blue\">Solución:</span>**"
   ]
  },
  {
   "cell_type": "code",
   "execution_count": null,
   "id": "ff29e157",
   "metadata": {},
   "outputs": [],
   "source": []
  },
  {
   "cell_type": "markdown",
   "id": "a46fea39",
   "metadata": {},
   "source": [
    "**<span style=\"color:blue\">Ejercicio 6</span>**. \n",
    "\n",
    "Escribir un programa que lea un entero positivo, *n*, introducido por el usuario y después muestre en pantalla la suma de todos los enteros desde *1* hasta *n*. La suma de los  primeros enteros positivos puede ser calculada de la siguiente forma: $$suma = \\frac{n(n+1)}{2}$$"
   ]
  },
  {
   "cell_type": "markdown",
   "id": "e43e1d35",
   "metadata": {},
   "source": [
    "**<span style=\"color:blue\">Solución:</span>**"
   ]
  },
  {
   "cell_type": "code",
   "execution_count": null,
   "id": "05911237",
   "metadata": {},
   "outputs": [],
   "source": []
  },
  {
   "cell_type": "markdown",
   "id": "743cdffe",
   "metadata": {},
   "source": [
    "**<span style=\"color:blue\">Ejercicio 7</span>**. \n",
    "\n",
    "Escribir un programa que pida al usuario su peso (en *kg*) y estatura (en *metros*), calcule el índice de masa corporal y lo almacene en una variable, y muestre por pantalla la frase `Tu índice de masa corporal es <imc>` donde *\\<imc\\>* es el índice de masa corporal calculado redondeado con dos decimales.\n",
    "\n",
    "Recordemos que el IMC se calcula de la siguiente manera: $$IMC=\\frac{Peso\\ (kg)}{Altura\\ (m)^2}$$"
   ]
  },
  {
   "cell_type": "markdown",
   "id": "c0947a80",
   "metadata": {},
   "source": [
    "**<span style=\"color:blue\">Solución:</span>**"
   ]
  },
  {
   "cell_type": "code",
   "execution_count": null,
   "id": "c9adaef6",
   "metadata": {},
   "outputs": [],
   "source": []
  },
  {
   "cell_type": "markdown",
   "id": "0c5bf9bc",
   "metadata": {},
   "source": [
    "**<span style=\"color:blue\">Ejercicio 8</span>**. \n",
    "\n",
    "Escribir un programa que pida al usuario dos números enteros y muestre por pantalla `<n> entre <m> da un cociente <c> y un resto <r>` donde *\\<n\\>+ y *\\<m\\>* son los números introducidos por el usuario, y *\\<c\\>* y *\\<r\\>* son el cociente y el resto de la división entera respectivamente."
   ]
  },
  {
   "cell_type": "markdown",
   "id": "1c1bad43",
   "metadata": {},
   "source": [
    "**<span style=\"color:blue\">Solución:</span>**"
   ]
  },
  {
   "cell_type": "code",
   "execution_count": null,
   "id": "207ee7a8",
   "metadata": {},
   "outputs": [],
   "source": []
  },
  {
   "cell_type": "markdown",
   "id": "799523e5",
   "metadata": {},
   "source": [
    "**<span style=\"color:blue\">Ejercicio 9</span>**. \n",
    "\n",
    "Escribir un programa que pregunte al usuario una cantidad a invertir, el interés anual y el número de años, y muestre por pantalla el capital obtenido en la inversión."
   ]
  },
  {
   "cell_type": "markdown",
   "id": "f3cceadc",
   "metadata": {},
   "source": [
    "**<span style=\"color:blue\">Solución:</span>**"
   ]
  },
  {
   "cell_type": "code",
   "execution_count": null,
   "id": "6eaed017",
   "metadata": {},
   "outputs": [],
   "source": []
  },
  {
   "cell_type": "markdown",
   "id": "e768ebc9",
   "metadata": {},
   "source": [
    "**<span style=\"color:blue\">Ejercicio 10</span>**. \n",
    "\n",
    "Una juguetería tiene mucho éxito en dos de sus productos: payasos y muñecas. Suele hacer venta por correo y la empresa de logística les cobra por peso de cada paquete así que deben calcular el peso de los payasos y muñecas que saldrán en cada paquete a demanda. Cada payaso pesa *112 g* y cada muñeca *75 g*. Escribir un programa que lea el número de payasos y muñecas vendidos en el último pedido y calcule el peso total del paquete que será enviado."
   ]
  },
  {
   "cell_type": "markdown",
   "id": "53d2d014",
   "metadata": {},
   "source": [
    "**<span style=\"color:blue\">Solución:</span>**"
   ]
  },
  {
   "cell_type": "code",
   "execution_count": null,
   "id": "898282da",
   "metadata": {},
   "outputs": [],
   "source": []
  },
  {
   "cell_type": "markdown",
   "id": "50a0c287",
   "metadata": {},
   "source": [
    "**<span style=\"color:blue\">Ejercicio 11</span>**. \n",
    "\n",
    "Imagina que acabas de abrir una nueva cuenta de ahorros que te ofrece el *4%* de interés al año. Estos ahorros debido a intereses, que no se cobran hasta finales de año, se te añaden al balance final de tu cuenta de ahorros. Escribir un programa que comience leyendo la cantidad de dinero depositada en la cuenta de ahorros, introducida por el usuario. Después el programa debe calcular y mostrar por pantalla la cantidad de ahorros tras el primer, segundo y tercer año. Redondear cada cantidad a dos decimales."
   ]
  },
  {
   "cell_type": "markdown",
   "id": "bb789149",
   "metadata": {},
   "source": [
    "**<span style=\"color:blue\">Solución:</span>**"
   ]
  },
  {
   "cell_type": "code",
   "execution_count": null,
   "id": "9b947638",
   "metadata": {},
   "outputs": [],
   "source": []
  },
  {
   "cell_type": "markdown",
   "id": "aa581f1b",
   "metadata": {},
   "source": [
    "**<span style=\"color:blue\">Ejercicio 12</span>**. \n",
    "\n",
    "Una panadería vende barras de pan a *\\$3.49* cada una. El pan que no es el día tiene un descuento del *60\\%*. Escribir un programa que comience leyendo el número de barras vendidas que no son del día. Después el programa debe mostrar el precio habitual de una barra de pan, el descuento que se le hace por no ser fresca y el coste final total."
   ]
  },
  {
   "cell_type": "markdown",
   "id": "bbc3576e",
   "metadata": {},
   "source": [
    "**<span style=\"color:blue\">Solución:</span>**"
   ]
  },
  {
   "cell_type": "code",
   "execution_count": null,
   "id": "1c8db43e",
   "metadata": {},
   "outputs": [],
   "source": []
  },
  {
   "cell_type": "markdown",
   "id": "68a91e08",
   "metadata": {},
   "source": [
    "**<span style=\"color:blue\">Ejercicio 13</span>**. \n",
    "\n",
    "Escribir un programa que pregunte el nombre del usuario en la consola y un número entero e imprima por pantalla en líneas distintas el nombre del usuario tantas veces como el número introducido."
   ]
  },
  {
   "cell_type": "markdown",
   "id": "1f0a3d17",
   "metadata": {},
   "source": [
    "**<span style=\"color:blue\">Solución:</span>**"
   ]
  },
  {
   "cell_type": "code",
   "execution_count": null,
   "id": "08b91d67",
   "metadata": {},
   "outputs": [],
   "source": []
  },
  {
   "cell_type": "markdown",
   "id": "48d91ed7",
   "metadata": {},
   "source": [
    "**<span style=\"color:blue\">Ejercicio 14</span>**. \n",
    "\n",
    "Escribir un programa que pregunte el nombre completo del usuario en la consola y después muestre por pantalla el nombre completo del usuario tres veces, una con todas las letras minúsculas, otra con todas las letras mayúsculas y otra solo con la primera letra del nombre y de los apellidos en mayúscula. El usuario puede introducir su nombre combinando mayúsculas y minúsculas como quiera.\n",
    "\n",
    "Hint: use los métodos *lower(), upper() y title()*."
   ]
  },
  {
   "cell_type": "markdown",
   "id": "63dae361",
   "metadata": {},
   "source": [
    "**<span style=\"color:blue\">Solución:</span>**"
   ]
  },
  {
   "cell_type": "code",
   "execution_count": null,
   "id": "72ebabda",
   "metadata": {},
   "outputs": [],
   "source": []
  },
  {
   "cell_type": "markdown",
   "id": "1babd5f9",
   "metadata": {},
   "source": [
    "**<span style=\"color:blue\">Ejercicio 15</span>**. \n",
    "\n",
    "Escribir un programa que pregunte el nombre del usuario en la consola y después de que el usuario lo introduzca muestre por pantalla `<NOMBRE> tiene <n> letras`, donde *\\<NOMBRE\\>* es el nombre de usuario en mayúsculas y *\\<n\\>* es el número de letras que tienen el nombre."
   ]
  },
  {
   "cell_type": "markdown",
   "id": "6ccd7547",
   "metadata": {},
   "source": [
    "**<span style=\"color:blue\">Solución:</span>**"
   ]
  },
  {
   "cell_type": "code",
   "execution_count": null,
   "id": "7196302c",
   "metadata": {},
   "outputs": [],
   "source": []
  },
  {
   "cell_type": "markdown",
   "id": "9fa55210",
   "metadata": {},
   "source": [
    "**<span style=\"color:blue\">Ejercicio 16</span>**. \n",
    "\n",
    "Los teléfonos de una empresa tienen el siguiente formato prefijo-número donde el prefijo es el código del país *+52*, y la extensión tiene dos dígitos (por ejemplo +52-5951234567). Escribir un programa que pregunte por un número de teléfono con este formato en la consola y muestre por pantalla el número de teléfono sin el prefijo."
   ]
  },
  {
   "cell_type": "markdown",
   "id": "d3a450c3",
   "metadata": {},
   "source": [
    "**<span style=\"color:blue\">Solución:</span>**"
   ]
  },
  {
   "cell_type": "code",
   "execution_count": null,
   "id": "eb29d05a",
   "metadata": {},
   "outputs": [],
   "source": []
  },
  {
   "cell_type": "markdown",
   "id": "37234162",
   "metadata": {},
   "source": [
    "**<span style=\"color:blue\">Ejercicio 17</span>**. \n",
    "\n",
    "Escribir un programa que pida al usuario que introduzca una frase en la consola y muestre por pantalla la frase invertida."
   ]
  },
  {
   "cell_type": "markdown",
   "id": "bc7394d9",
   "metadata": {},
   "source": [
    "**<span style=\"color:blue\">Solución:</span>**"
   ]
  },
  {
   "cell_type": "code",
   "execution_count": null,
   "id": "b2b6523a",
   "metadata": {},
   "outputs": [],
   "source": []
  },
  {
   "cell_type": "markdown",
   "id": "f2c86c4a",
   "metadata": {},
   "source": [
    "**<span style=\"color:blue\">Ejercicio 18</span>**. \n",
    "\n",
    "Escribir un programa que pregunte el correo electrónico del usuario en la consola y muestre por pantalla otro correo electrónico con el mismo nombre (la parte delante de la arroba @) pero con dominio chapingo.mx\n",
    "\n",
    "Hint: use el método *find()*"
   ]
  },
  {
   "cell_type": "markdown",
   "id": "2edd4b89",
   "metadata": {},
   "source": [
    "**<span style=\"color:blue\">Solución:</span>**"
   ]
  },
  {
   "cell_type": "code",
   "execution_count": null,
   "id": "4347f4b2",
   "metadata": {},
   "outputs": [],
   "source": []
  },
  {
   "cell_type": "markdown",
   "id": "6c6de0ad",
   "metadata": {},
   "source": [
    "**<span style=\"color:blue\">Ejercicio 19</span>**. \n",
    "\n",
    "Escribir un programa que pregunte por consola el precio de un producto en pesos mexicanos con dos decimales y muestre por pantalla el número de pesos y el número de centavos del precio introducido.\n",
    "\n",
    "Hint: use el método *find()*"
   ]
  },
  {
   "cell_type": "markdown",
   "id": "38c4e89c",
   "metadata": {},
   "source": [
    "**<span style=\"color:blue\">Solución:</span>**"
   ]
  },
  {
   "cell_type": "code",
   "execution_count": null,
   "id": "3827c325",
   "metadata": {},
   "outputs": [],
   "source": []
  },
  {
   "cell_type": "markdown",
   "id": "e4a71c65",
   "metadata": {},
   "source": [
    "**<span style=\"color:blue\">Ejercicio 20</span>**. \n",
    "\n",
    "Escribir un programa que pregunte al usuario la fecha de su nacimiento en formato dd/mm/aaaa y muestra por pantalla, el día, el mes y el año."
   ]
  },
  {
   "cell_type": "markdown",
   "id": "10e41ba5",
   "metadata": {},
   "source": [
    "**<span style=\"color:blue\">Solución:</span>**"
   ]
  },
  {
   "cell_type": "code",
   "execution_count": null,
   "id": "d6df8d8b",
   "metadata": {},
   "outputs": [],
   "source": []
  },
  {
   "cell_type": "markdown",
   "id": "bed61f33",
   "metadata": {},
   "source": [
    "**<span style=\"color:blue\">Ejercicio 21</span>**. \n",
    "\n",
    "Adaptar el programa anterior para que también funcione cuando el día o el mes se introduzcan con un solo carácter.\n",
    "\n",
    "Hint: use el método *find()*"
   ]
  },
  {
   "cell_type": "markdown",
   "id": "75f34710",
   "metadata": {},
   "source": [
    "**<span style=\"color:blue\">Solución:</span>**"
   ]
  },
  {
   "cell_type": "code",
   "execution_count": null,
   "id": "736af5fb",
   "metadata": {},
   "outputs": [],
   "source": []
  },
  {
   "cell_type": "markdown",
   "id": "399e4e96",
   "metadata": {},
   "source": [
    "**<span style=\"color:blue\">Ejercicio 22</span>**. \n",
    "\n",
    "Escribir un programa que almacene las asignaturas de un curso (por ejemplo Matemáticas, Física, Química, Historia y Lenguas) en una lista y la muestre por pantalla."
   ]
  },
  {
   "cell_type": "markdown",
   "id": "fc1b1289",
   "metadata": {},
   "source": [
    "**<span style=\"color:blue\">Solución:</span>**"
   ]
  },
  {
   "cell_type": "code",
   "execution_count": null,
   "id": "29b29467",
   "metadata": {},
   "outputs": [],
   "source": []
  },
  {
   "cell_type": "markdown",
   "id": "b98e530c",
   "metadata": {},
   "source": [
    "**<span style=\"color:blue\">Ejercicio 23</span>**. \n",
    "\n",
    "Escribir un programa que almacene las asignaturas de un curso (por ejemplo Matemáticas, Física, Química, Historia y Lenguas) en una lista y la muestre por pantalla el mensaje `Yo estudio <asignatura>`, donde *\\<asignatura\\>* es cada una de las asignaturas de la lista."
   ]
  },
  {
   "cell_type": "markdown",
   "id": "0919a6b5",
   "metadata": {},
   "source": [
    "**<span style=\"color:blue\">Solución:</span>**"
   ]
  },
  {
   "cell_type": "code",
   "execution_count": null,
   "id": "4778ebec",
   "metadata": {},
   "outputs": [],
   "source": []
  },
  {
   "cell_type": "markdown",
   "id": "6a7ba6d8",
   "metadata": {},
   "source": [
    "**Nota:** Veremos más ejercicios sobre listas y tuplas una vez que estudiemos *condicionales* y *bules*"
   ]
  },
  {
   "cell_type": "markdown",
   "id": "ca8b7478",
   "metadata": {},
   "source": [
    "**<span style=\"color:blue\">Ejercicio 24</span>**. \n",
    "\n",
    "Escribir un programa que guarde en una variable el diccionario `{'Euro':'€', 'Dollar':'$', 'Yen':'¥'}`, pregunte al usuario por una divisa y muestre su símbolo."
   ]
  },
  {
   "cell_type": "markdown",
   "id": "d02faabe",
   "metadata": {},
   "source": [
    "**<span style=\"color:blue\">Solución:</span>**"
   ]
  },
  {
   "cell_type": "code",
   "execution_count": null,
   "id": "7785b6c6",
   "metadata": {},
   "outputs": [],
   "source": []
  },
  {
   "cell_type": "markdown",
   "id": "253c5d1f",
   "metadata": {},
   "source": [
    "**<span style=\"color:blue\">Ejercicio 25</span>**. \n",
    "\n",
    "Escribir un programa que pregunte al usuario su nombre, edad, dirección y teléfono y lo guarde en un diccionario. Despúes debe mostrar por pantalla el mensaje `<nombre> tiene <edad> años, vive en <dirección> y su número de teléfono es <teléfono>`. "
   ]
  },
  {
   "cell_type": "markdown",
   "id": "8997c7b3",
   "metadata": {},
   "source": [
    "**<span style=\"color:blue\">Solución:</span>**"
   ]
  },
  {
   "cell_type": "code",
   "execution_count": null,
   "id": "62bf80d2",
   "metadata": {},
   "outputs": [],
   "source": []
  },
  {
   "cell_type": "markdown",
   "id": "06403071",
   "metadata": {},
   "source": [
    "**<span style=\"color:blue\">Ejercicio 26</span>**. \n",
    "\n",
    "Escribir un programa que guarde en un diccionario los precios de las frutas de la tabla, pregunte al usuario por una fruta, un número de kilos y muestre por pantalla el precio de ese número de kilos de fruta. \n",
    "\n",
    "| Fruta | Precio|\n",
    "|:-|:-:|\n",
    "|Plátano | 1.35 |\n",
    "|Manzana | 0.80|\n",
    "|Pera| 0.85|\n",
    "|Naranja | 0.70|"
   ]
  },
  {
   "cell_type": "markdown",
   "id": "a270b5e0",
   "metadata": {},
   "source": [
    "**<span style=\"color:blue\">Solución:</span>**"
   ]
  },
  {
   "cell_type": "code",
   "execution_count": null,
   "id": "3a79b33e",
   "metadata": {},
   "outputs": [],
   "source": []
  },
  {
   "cell_type": "markdown",
   "id": "972c2e4a",
   "metadata": {},
   "source": [
    "**<span style=\"color:blue\">Ejercicio 27</span>**. \n",
    "\n",
    "Escribir un programa que almacene el diccionario con los créditos de las asignaturas de un curso `{'Matemáticas': 6, 'Física': 4, 'Química': 5}` y después muestre por pantalla los créditos de cada asignatura en el formato `<asignatura> tiene <créditos> créditos`, donde `<asignatura>` es cada una de las asignaturas del curso, y `<créditos>` son sus créditos. "
   ]
  },
  {
   "cell_type": "markdown",
   "id": "bbd92125",
   "metadata": {},
   "source": [
    "**<span style=\"color:blue\">Solución:</span>**"
   ]
  },
  {
   "cell_type": "code",
   "execution_count": null,
   "id": "b90fcc2f",
   "metadata": {},
   "outputs": [],
   "source": []
  },
  {
   "cell_type": "markdown",
   "id": "b3aa2ef6",
   "metadata": {},
   "source": [
    "**Nota:** Veremos más ejercicios sobre diccionarios una vez que estudiemos *condicionales* y *bules*"
   ]
  }
 ],
 "metadata": {
  "kernelspec": {
   "display_name": "Python 3",
   "language": "python",
   "name": "python3"
  },
  "language_info": {
   "codemirror_mode": {
    "name": "ipython",
    "version": 3
   },
   "file_extension": ".py",
   "mimetype": "text/x-python",
   "name": "python",
   "nbconvert_exporter": "python",
   "pygments_lexer": "ipython3",
   "version": "3.8.8"
  }
 },
 "nbformat": 4,
 "nbformat_minor": 5
}

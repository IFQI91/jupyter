{
 "cells": [
  {
   "cell_type": "markdown",
   "id": "2a50f8f1",
   "metadata": {},
   "source": [
    "# **<span style=\"color:red\">Taller: Introducción a la programación en Python</span>**\n",
    "\n",
    "#  **<span style=\"color:blue\">Control de flujo. Bucle for</span>**"
   ]
  },
  {
   "cell_type": "markdown",
   "id": "0525e137",
   "metadata": {},
   "source": [
    "Mientras que los condicionales nos permiten ejecutar distintos fragmentos de código dependiendo de ciertas condiciones, los **bucles** nos permiten ejecutar un mismo fragmento de código un cierto número de veces, mientras se cumpla una determinada condición, y es precisamente esa la *utilidad* de los *bucles*, repetir un fragmento de código varias veces."
   ]
  },
  {
   "cell_type": "markdown",
   "id": "0d158ffd",
   "metadata": {},
   "source": [
    "Existen dos tipos de bucles:\n",
    "+ **Determinados**\n",
    " - Se ejecutan un número determinado de veces.\n",
    " - Se sabe a priori cuantas veces se va a ejecutar el código al interior del bucle.\n",
    "+ **Indeterminados**\n",
    " - Se ejecutan un número indeterminado de veces.\n",
    " - No se sabe a priori cuantas veces se va a ejecutar el código del interior del bucle. \n",
    " - El número de veces que se ejecutará dependerá de las circunstancias durante la ejecución del programa."
   ]
  },
  {
   "cell_type": "markdown",
   "id": "4a9f8e41",
   "metadata": {},
   "source": [
    "Como *bucle determinado* tenemos al *bucle for* y como *indeterminado* al *bucle while*. En este archivo veremos el primero."
   ]
  },
  {
   "cell_type": "markdown",
   "id": "017cd6d2",
   "metadata": {},
   "source": [
    "##  **<span style=\"color:blue\">for</span>**"
   ]
  },
  {
   "cell_type": "markdown",
   "id": "72f99211",
   "metadata": {},
   "source": [
    "A los que hayan tenido experiencia previa con según que lenguajes de programación este **bucle** los va a sorprender gratamente. En Python **for** se utiliza como una forma genérica de iterar sobre una secuencia. Y como tal intenta facilitar su uso para este fin."
   ]
  },
  {
   "cell_type": "markdown",
   "id": "6d54cbee",
   "metadata": {},
   "source": [
    "Este es el aspecto de un **bucle for** en Python:"
   ]
  },
  {
   "cell_type": "code",
   "execution_count": null,
   "id": "bef587ba",
   "metadata": {},
   "outputs": [],
   "source": []
  },
  {
   "cell_type": "markdown",
   "id": "1e170c51",
   "metadata": {},
   "source": [
    "Recordemos que los *for* se utilizan en *Python* para recorrer secuencias, por lo que podemos recorrer *listas, tuplas, cadenas, rangos, etc*, que son **secuencias**. "
   ]
  },
  {
   "cell_type": "markdown",
   "id": "220c62b5",
   "metadata": {},
   "source": [
    "En el ejemplo anterior recorrimos una lista, veamos ahora un ejemplo donde recorramos una tupla que contiene las estaciones del año:"
   ]
  },
  {
   "cell_type": "code",
   "execution_count": null,
   "id": "badf4b42",
   "metadata": {},
   "outputs": [],
   "source": []
  },
  {
   "cell_type": "markdown",
   "id": "ae8d3259",
   "metadata": {},
   "source": [
    "Leamos la cabecera del bucle como si de lenguaje natural se tratara: \"*para cada elemento en secuencia*\". "
   ]
  },
  {
   "cell_type": "markdown",
   "id": "b7c26ae9",
   "metadata": {},
   "source": [
    "Y esto es exactamente lo que hace el bucle: para cada elemento que tengamos en la secuencia, ejecuta estas líneas de código."
   ]
  },
  {
   "cell_type": "markdown",
   "id": "a36fed0a",
   "metadata": {},
   "source": [
    "Lo que hace la cabecera del bucle es obtener el siguiente elemento de la secuencia *secuencia* y almacenarlo en una variable de nombre *elemento*. Por esta razón en la primera iteración del bucle *elemento* valdrá \"Primavera\", en la segunda \"Verano\", en la tercera \"Otoño\" y en la cuarta \"Invierno\"."
   ]
  },
  {
   "cell_type": "markdown",
   "id": "d0187a83",
   "metadata": {},
   "source": [
    "*Fácil y sencillo*."
   ]
  },
  {
   "cell_type": "markdown",
   "id": "85108141",
   "metadata": {},
   "source": [
    "En otros lenguajes lo que habríamos hecho sería iterar sobre las posiciones, y no sobre los elementos. Es decir, tendríamos un bucle *for* que fuera aumentando una variable *i* en cada iteración, desde *0* al tamaño de la secuencia, y utilizaríamos esta variable a modo de índice para obtener cada elemento e imprimirlo. Esto también se puede hacer en *Python*"
   ]
  },
  {
   "cell_type": "code",
   "execution_count": null,
   "id": "884aa161",
   "metadata": {
    "scrolled": true
   },
   "outputs": [],
   "source": []
  },
  {
   "cell_type": "markdown",
   "id": "c823e5ed",
   "metadata": {},
   "source": [
    "Como podemos ver, el primer enfoque es más natural e intuitivo. "
   ]
  },
  {
   "cell_type": "markdown",
   "id": "8a959671",
   "metadata": {},
   "source": [
    "En otros lenguajes, el segundo enfoque es nuestra única opción."
   ]
  },
  {
   "cell_type": "markdown",
   "id": "51d21fc7",
   "metadata": {},
   "source": [
    "El *Python* podemos elegir. "
   ]
  },
  {
   "cell_type": "markdown",
   "id": "4ba86780",
   "metadata": {},
   "source": [
    "**Nota:** Podemos usar el argumento end=\" \" para que el *print()* no haga salto de línea, por ejemplo:"
   ]
  },
  {
   "cell_type": "code",
   "execution_count": null,
   "id": "c0608957",
   "metadata": {
    "scrolled": true
   },
   "outputs": [],
   "source": []
  },
  {
   "cell_type": "markdown",
   "id": "d1196189",
   "metadata": {},
   "source": [
    "**Ejemplo:** ciclo for que recorre una cadena"
   ]
  },
  {
   "cell_type": "code",
   "execution_count": null,
   "id": "b98cef0c",
   "metadata": {},
   "outputs": [],
   "source": []
  },
  {
   "cell_type": "markdown",
   "id": "866e4979",
   "metadata": {},
   "source": [
    "**Ejemplo:** Utilizar un bucle para ver si un correo insertado por el usuario tiene \"@\".\n",
    "\n",
    "**Nota:** podriamos hacer esto de manera más sencilla con el operador **in** pero usamos un bucle con fines didácticos."
   ]
  },
  {
   "cell_type": "code",
   "execution_count": null,
   "id": "946623d9",
   "metadata": {},
   "outputs": [],
   "source": []
  },
  {
   "cell_type": "markdown",
   "id": "22bd16b5",
   "metadata": {},
   "source": [
    "**Nota:** el tipo range() admite varias notaciones:"
   ]
  },
  {
   "cell_type": "code",
   "execution_count": null,
   "id": "f055b568",
   "metadata": {},
   "outputs": [],
   "source": []
  },
  {
   "cell_type": "code",
   "execution_count": null,
   "id": "3437da21",
   "metadata": {},
   "outputs": [],
   "source": []
  },
  {
   "cell_type": "code",
   "execution_count": null,
   "id": "ab6030bf",
   "metadata": {
    "scrolled": true
   },
   "outputs": [],
   "source": []
  },
  {
   "cell_type": "markdown",
   "id": "9ef41bb2",
   "metadata": {},
   "source": [
    "**Ejemplo:** repitamos el ejercicio donde recorriamos un email para comprobar si efectivamente tiene un @ pero ahora usando *range()* y *len()*."
   ]
  },
  {
   "cell_type": "code",
   "execution_count": null,
   "id": "ae534a2d",
   "metadata": {
    "scrolled": false
   },
   "outputs": [],
   "source": []
  },
  {
   "cell_type": "markdown",
   "id": "bed06c3c",
   "metadata": {},
   "source": [
    "Finalmente, es importante mencionar que podemos usar la palabra clave **continue** (continuar) dentro de un bucle for. Que como pueden haber adivinado no hace otra cosa que pasar directamente a la siguiente iteración del bucle."
   ]
  },
  {
   "cell_type": "markdown",
   "id": "0b19190f",
   "metadata": {},
   "source": [
    "Un ejemplo sencillo sería crear un programa que imprimiera las letras de una cadena que el usuario inserte y que imprima la cada caracter a excepción de las vocales."
   ]
  },
  {
   "cell_type": "code",
   "execution_count": null,
   "id": "5618c2a9",
   "metadata": {
    "scrolled": true
   },
   "outputs": [],
   "source": []
  },
  {
   "cell_type": "markdown",
   "id": "c7c476d4",
   "metadata": {},
   "source": [
    "**Ejercicio:** Podemos usar la función *len()* para contar los carácteres de una cadena. ¿Pero qué pasa si quisieramos contar los caracteres de una cadena pero sin contar los espacios? La función *len()* ya no nos es útil. \n",
    "\n",
    "Cree un programa que utilice un ciclo *for* y la instrucción *continue* para contar los carácteres de una cadena ingresada por el usuario sin contar los espacios."
   ]
  },
  {
   "cell_type": "code",
   "execution_count": null,
   "id": "55c980ee",
   "metadata": {
    "scrolled": false
   },
   "outputs": [],
   "source": []
  },
  {
   "cell_type": "markdown",
   "id": "553ea432",
   "metadata": {},
   "source": [
    "**Ejercicio:** Escribir un programa que almacene el diccionario con los créditos de las asignaturas de un curso `{'Matemáticas': 6, 'Física': 4, 'Química': 5}` y después muestre por pantalla los créditos de cada asignatura en el formato `<asignatura> tiene <creditos> créditos`, donde `<asignatura>` es cada una de las asignaturas del curso, y `<creditos>` son sus créditos. "
   ]
  },
  {
   "cell_type": "code",
   "execution_count": null,
   "id": "4e19a18d",
   "metadata": {
    "scrolled": false
   },
   "outputs": [],
   "source": []
  },
  {
   "cell_type": "markdown",
   "id": "8ad61475",
   "metadata": {},
   "source": [
    "**Ejercicio:** Escribir un programa que muestre por pantalla la tabla de multiplicar del 1 al 10."
   ]
  },
  {
   "cell_type": "code",
   "execution_count": null,
   "id": "ce9f3520",
   "metadata": {},
   "outputs": [],
   "source": []
  }
 ],
 "metadata": {
  "kernelspec": {
   "display_name": "Python 3",
   "language": "python",
   "name": "python3"
  },
  "language_info": {
   "codemirror_mode": {
    "name": "ipython",
    "version": 3
   },
   "file_extension": ".py",
   "mimetype": "text/x-python",
   "name": "python",
   "nbconvert_exporter": "python",
   "pygments_lexer": "ipython3",
   "version": "3.8.8"
  }
 },
 "nbformat": 4,
 "nbformat_minor": 5
}

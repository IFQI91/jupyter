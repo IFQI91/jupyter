{
 "cells": [
  {
   "cell_type": "markdown",
   "id": "2a50f8f1",
   "metadata": {},
   "source": [
    "# **<span style=\"color:red\">Taller: Introducción a la programación en Python</span>**\n",
    "\n",
    "#  **<span style=\"color:blue\">Método de newton-Raphson</span>**"
   ]
  },
  {
   "cell_type": "markdown",
   "id": "c706189d",
   "metadata": {},
   "source": [
    "El método de *Newton* (conocido también como el método de **Newton-Raphson**) es un algoritmo para encontrar aproximaciones de los ceros o raíces de una función real. \n",
    "\n",
    "También puede ser usado para encontrar el máximo o mínimo de una función, encontrando los ceros de su primera derivada.\n",
    "\n",
    "El método de *Newton-Raphson* es uno de los métodos más utilizados."
   ]
  },
  {
   "cell_type": "markdown",
   "id": "2200db56",
   "metadata": {},
   "source": [
    "Un **algoritmo** para este método método es el siguiente:"
   ]
  },
  {
   "cell_type": "markdown",
   "id": "451d8e74",
   "metadata": {},
   "source": [
    "Para determinar una raiz de $f(x)=0$, dado un valor $x_0$ razonablemente próximo a la raiz:"
   ]
  },
  {
   "cell_type": "markdown",
   "id": "df9addca",
   "metadata": {},
   "source": [
    "Repetir:\\\n",
    "$\\ \\ \\ \\ $ Calcular $x_1=x_0-\\displaystyle\\frac{f(x_0)}{f^\\prime(x_0)}$\\\n",
    "$\\ \\ \\ \\ $ Hacer $x_0=x_1$    \n",
    "$\\ \\ \\ \\ $ Si $\\left |x_0-x_1 \\right | <$ valor de tolerancia o $f(x_0)=0$ o n = número de iteraciones\\\n",
    "$\\ \\ \\ \\ $ $\\ \\ \\ \\ $ Fin"
   ]
  },
  {
   "cell_type": "markdown",
   "id": "6b167117",
   "metadata": {},
   "source": [
    "**<span style=\"color:blue\">Ejemplo:</span>**\n",
    "\n",
    "Aproxime una solución de $f(x)=e^{x-1}-5x^3$ con el método de *Newton-Rapshon*. Empezando con $x_0=1$ y con n=4 iteraciones."
   ]
  },
  {
   "cell_type": "markdown",
   "id": "da9aae51",
   "metadata": {},
   "source": [
    "**<span style=\"color:blue\">Solución:</span>**\n",
    "\n",
    "Tenemos $f(x)=e^{x-1}-5x^3$ $\\implies$ $f^\\prime(x)=e^{x-1}-15x^2$.\n",
    "\n",
    "*Iteración 1*:\\\n",
    "$x_1=x_0-\\displaystyle\\frac{f(x_0)}{f^\\prime(x_0)}=1-\\displaystyle\\frac{e^{1-1}-5(1)^3}{e^{1-1}-15(1)^2}=1-\\displaystyle\\frac{-4}{-14}=0.7142857143$\n",
    "\n",
    "Hacemos $x_0 = x_1 = 0.7142857143$\\\n",
    "\n",
    "Iteración 2:\\\n",
    "$x_1=0.7142857143-\\displaystyle\\frac{e^{0.7142857143-1}-5(0.7142857143)^3}{e^{0.7142857143-1}-15(0.7142857143)^2}=0.5591502915$\n",
    "\n",
    "Hacemos $x_0 = x_1 = 0.5591502915$\\\n",
    "\n",
    "Iteración 3:\\\n",
    "$x_1=0.5591502915-\\displaystyle\\frac{e^{0.5591502915-1}-5(0.5591502915)^3}{e^{0.5591502915-1}-15(0.5591502915)^2}=0.5021592918$\n",
    "\n",
    "Hacemos $x_0 = x_1 = 0.5021592918$\\\n",
    "\n",
    "Iteración 4:\\\n",
    "$x_1=0.5021592918-\\displaystyle\\frac{e^{0.5021592918-1}-5(0.5021592918)^3}{e^{0.5021592918-1}-15(0.5021592918)^2}=0.4941927850$\n",
    "\n",
    "Hacemos $x_0 = x_1 = 0.4941927850$\\\n",
    "\n",
    "Con $n=4$ iteraciones, vemos que una solución aproximada de: $f(x)=e^{x-1}-5x^3$ es: 0.4941927850."
   ]
  },
  {
   "cell_type": "markdown",
   "id": "f75bb69f",
   "metadata": {},
   "source": [
    "**<span style=\"color:blue\">Ejercicio 1:</span>** \n",
    "\n",
    "Escriba un programa que resuelva ecuaciones no lineales utilizando el método de *Newton-Raphson*. El programa debe pedir al usuario: \n",
    "- la función $f(x)$ de la cual quiere obtener un cero o una raiz\n",
    "- la derivada de $f(x)$: $f^\\prime(x)$\n",
    "- el valor inicial: $x_0$\n",
    "- el número máximo de iteraciones\n",
    "- un valor de tolerancia\n",
    "\n",
    "Imprimir la solución, y el número de iteraciones que utilizó.\n",
    "\n",
    "*Nota 1*: su programa debe preguntar al usuario si desea volver a utilizar el método de *Newton-Raphson*. Si su respuesta es *sí*, debe repetir los pasos anteriores. Si su respuesta es *no*, finalizar el programa.  \n",
    "\n",
    "*Nota 2*: debe manejar las excepciones a la hora de pedir el valor inicial, el número de iteraciones y el valor de tolerancia.\n",
    "\n",
    "*Nota 3:* si al preguntar al usuario si desea volver a utilizar el método de *Newton-Raphson*, el usuario escribe algo distinto a *sí* o *no*, mandar un mensaje diciendo que las respuestas posibles son *sí* o *no*, y darle la opción de insertar una respueta nuevamente hasta que escriba una de los dos respuestas posibles."
   ]
  },
  {
   "cell_type": "markdown",
   "id": "3ddfa7dc",
   "metadata": {},
   "source": [
    "**<span style=\"color:blue\">Solución:</span>** "
   ]
  },
  {
   "cell_type": "code",
   "execution_count": null,
   "id": "69389185",
   "metadata": {},
   "outputs": [],
   "source": []
  },
  {
   "cell_type": "markdown",
   "id": "32d33dc7",
   "metadata": {},
   "source": [
    "**<span style=\"color:blue\">Ejercicio 2:</span>**\n",
    "    \n",
    "Usando su programa verifique la solución del ejemplo."
   ]
  },
  {
   "cell_type": "markdown",
   "id": "f16ae39c",
   "metadata": {},
   "source": [
    "**<span style=\"color:blue\">Ejercicio 3:</span>**\n",
    "\n",
    "Usando su programa. Aproxime una solución de $x^x=100$ con el método de *Newton-Rapshon*. Elija un valor para $x_0$, un número de iteraciones y una tolerancia.\n",
    "\n",
    "Hint: La derivada de $f(x)=x^x-100$ es $f^\\prime(x)=x^x(1+ln(x))$."
   ]
  },
  {
   "cell_type": "markdown",
   "id": "d3c1e261",
   "metadata": {},
   "source": [
    "**<span style=\"color:blue\">Solución:</span>**\n",
    "\n",
    "Una solución aproximada para $x^x=100$ utilizando el método *Newton-Rapshon* es:"
   ]
  }
 ],
 "metadata": {
  "kernelspec": {
   "display_name": "Python 3",
   "language": "python",
   "name": "python3"
  },
  "language_info": {
   "codemirror_mode": {
    "name": "ipython",
    "version": 3
   },
   "file_extension": ".py",
   "mimetype": "text/x-python",
   "name": "python",
   "nbconvert_exporter": "python",
   "pygments_lexer": "ipython3",
   "version": "3.8.8"
  }
 },
 "nbformat": 4,
 "nbformat_minor": 5
}

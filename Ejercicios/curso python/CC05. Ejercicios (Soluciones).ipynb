{
 "cells": [
  {
   "cell_type": "markdown",
   "id": "2a50f8f1",
   "metadata": {},
   "source": [
    "# **<span style=\"color:red\">Taller: Introducción a la programación en Python</span>**\n",
    "\n",
    "#  **<span style=\"color:blue\">Ejercicios</span>**"
   ]
  },
  {
   "cell_type": "markdown",
   "id": "8bcbdcf4",
   "metadata": {},
   "source": [
    "**<span style=\"color:blue\">Ejercicio 1</span>**. \n",
    "\n",
    "Escribir un programa que muestre por pantalla la cadena `¡Hola Mundo!`."
   ]
  },
  {
   "cell_type": "markdown",
   "id": "0e41ce6b",
   "metadata": {},
   "source": [
    "**<span style=\"color:blue\">Solución:</span>**"
   ]
  },
  {
   "cell_type": "code",
   "execution_count": 1,
   "id": "d1f6a2ff",
   "metadata": {},
   "outputs": [
    {
     "name": "stdout",
     "output_type": "stream",
     "text": [
      "¡Hola mundo!\n"
     ]
    }
   ],
   "source": [
    "print(\"¡Hola mundo!\")"
   ]
  },
  {
   "cell_type": "markdown",
   "id": "a1b290b2",
   "metadata": {},
   "source": [
    "**<span style=\"color:blue\">Ejercicio 2</span>**. \n",
    "\n",
    "Escribir un programa que almacene la cadena `¡Hola Mundo!` en una variable y luego muestre por pantalla el contenido de la variable."
   ]
  },
  {
   "cell_type": "markdown",
   "id": "38a6abef",
   "metadata": {},
   "source": [
    "**<span style=\"color:blue\">Solución:</span>**"
   ]
  },
  {
   "cell_type": "code",
   "execution_count": 2,
   "id": "d13cd5a8",
   "metadata": {},
   "outputs": [
    {
     "name": "stdout",
     "output_type": "stream",
     "text": [
      "¡Hola Mundo!\n"
     ]
    }
   ],
   "source": [
    "mensaje = \"¡Hola Mundo!\"\n",
    "print(mensaje)"
   ]
  },
  {
   "cell_type": "markdown",
   "id": "e53b8b54",
   "metadata": {},
   "source": [
    "**<span style=\"color:blue\">Ejercicio 3</span>**. \n",
    "\n",
    "Escribir un programa que pregunte el nombre del usuario en la consola y después de que el usuario lo introduzca muestre por pantalla la cadena `¡Hola <nombre>!`, donde *\\<nombre\\>* es el nombre que el usuario haya introducido."
   ]
  },
  {
   "cell_type": "markdown",
   "id": "540becd4",
   "metadata": {},
   "source": [
    "**<span style=\"color:blue\">Solución:</span>**"
   ]
  },
  {
   "cell_type": "code",
   "execution_count": 3,
   "id": "177a5cac",
   "metadata": {},
   "outputs": [
    {
     "name": "stdout",
     "output_type": "stream",
     "text": [
      "Introduce tu nombre: Ricardo\n",
      "¡Hola Ricardo!\n"
     ]
    }
   ],
   "source": [
    "nombre = input(\"Introduce tu nombre: \")\n",
    "print(\"¡Hola \" + nombre + \"!\")"
   ]
  },
  {
   "cell_type": "markdown",
   "id": "51a4e559",
   "metadata": {},
   "source": [
    "**<span style=\"color:blue\">Ejercicio 4</span>**. \n",
    "\n",
    "Escribir un programa que muestre por pantalla el resultado de la siguiente operación aritmética $${\\left(\\frac{3+2}{2\\times 5}\\right)}^{2}$$"
   ]
  },
  {
   "cell_type": "markdown",
   "id": "37d3ff25",
   "metadata": {},
   "source": [
    "**<span style=\"color:blue\">Solución:</span>**"
   ]
  },
  {
   "cell_type": "code",
   "execution_count": 4,
   "id": "62ccd406",
   "metadata": {},
   "outputs": [
    {
     "name": "stdout",
     "output_type": "stream",
     "text": [
      "0.25\n"
     ]
    }
   ],
   "source": [
    "print(((3+2)/(2*5))**(2))"
   ]
  },
  {
   "cell_type": "markdown",
   "id": "965de33e",
   "metadata": {},
   "source": [
    "**<span style=\"color:blue\">Ejercicio 5</span>**. \n",
    "\n",
    "Escribir un programa que pregunte al usuario por el número de horas trabajadas y el coste por hora. Después debe mostrar por pantalla la paga que le corresponde."
   ]
  },
  {
   "cell_type": "markdown",
   "id": "726a83b1",
   "metadata": {},
   "source": [
    "**<span style=\"color:blue\">Solución:</span>**"
   ]
  },
  {
   "cell_type": "code",
   "execution_count": 5,
   "id": "97878fa1",
   "metadata": {},
   "outputs": [
    {
     "name": "stdout",
     "output_type": "stream",
     "text": [
      "Introduce tus horas de trabajo: 8\n",
      "Introduce lo que cobras por hora: 30\n",
      "Tu paga es 240.0\n"
     ]
    }
   ],
   "source": [
    "horas = float(input(\"Introduce tus horas de trabajo: \"))\n",
    "coste = float(input(\"Introduce lo que cobras por hora: \"))\n",
    "paga = horas * coste\n",
    "print(\"Tu paga es\", paga)"
   ]
  },
  {
   "cell_type": "markdown",
   "id": "c1477ff2",
   "metadata": {},
   "source": [
    "**<span style=\"color:blue\">Ejercicio 6</span>**. \n",
    "\n",
    "Escribir un programa que lea un entero positivo, *n*, introducido por el usuario y después muestre en pantalla la suma de todos los enteros desde *1* hasta *n*. La suma de los  primeros enteros positivos puede ser calculada de la siguiente forma: $$suma = \\frac{n(n+1)}{2}$$"
   ]
  },
  {
   "cell_type": "markdown",
   "id": "4e32d58e",
   "metadata": {},
   "source": [
    "**<span style=\"color:blue\">Solución:</span>**"
   ]
  },
  {
   "cell_type": "code",
   "execution_count": 6,
   "id": "c06d639d",
   "metadata": {},
   "outputs": [
    {
     "name": "stdout",
     "output_type": "stream",
     "text": [
      "Introduce un número entero: 100\n",
      "La suma de los primeros números enteros desde 1 hasta 100 es 5050.0\n"
     ]
    }
   ],
   "source": [
    "n = int(input(\"Introduce un número entero: \"))\n",
    "suma = ((n)*(n+1))/(2)\n",
    "print(\"La suma de los primeros números enteros desde 1 hasta \" + str(n) + \" es \" + str(suma))"
   ]
  },
  {
   "cell_type": "markdown",
   "id": "c9e747e6",
   "metadata": {},
   "source": [
    "**<span style=\"color:blue\">Ejercicio 7</span>**. \n",
    "\n",
    "Escribir un programa que pida al usuario su peso (en *kg*) y estatura (en *metros*), calcule el índice de masa corporal y lo almacene en una variable, y muestre por pantalla la frase `Tu índice de masa corporal es <imc>` donde *\\<imc\\>* es el índice de masa corporal calculado redondeado con dos decimales.\n",
    "\n",
    "Recordemos que el IMC se calcula de la siguiente manera: $$IMC=\\frac{Peso\\ (kg)}{Altura\\ (m)^2}$$"
   ]
  },
  {
   "cell_type": "markdown",
   "id": "31c2a993",
   "metadata": {},
   "source": [
    "**<span style=\"color:blue\">Solución:</span>**"
   ]
  },
  {
   "cell_type": "code",
   "execution_count": 7,
   "id": "815d65ed",
   "metadata": {},
   "outputs": [
    {
     "name": "stdout",
     "output_type": "stream",
     "text": [
      "¿Cuál es tu peso en kg? 70\n",
      "¿Cuál es tu estatura en metros?1.78\n",
      "Tu índice de masa corporal es 22.09\n"
     ]
    }
   ],
   "source": [
    "peso = input(\"¿Cuál es tu peso en kg? \")\n",
    "estatura = input(\"¿Cuál es tu estatura en metros?\")\n",
    "imc = round((float(peso))/((float(estatura))**(2)),2)\n",
    "print(\"Tu índice de masa corporal es \" + str(imc))"
   ]
  },
  {
   "cell_type": "markdown",
   "id": "edf381c0",
   "metadata": {},
   "source": [
    "**<span style=\"color:blue\">Ejercicio 8</span>**. \n",
    "\n",
    "Escribir un programa que pida al usuario dos números enteros y muestre por pantalla `<n> entre <m> da un cociente <c> y un resto <r>` donde *\\<n\\>+ y *\\<m\\>* son los números introducidos por el usuario, y *\\<c\\>* y *\\<r\\>* son el cociente y el resto de la división entera respectivamente."
   ]
  },
  {
   "cell_type": "markdown",
   "id": "3fe00b73",
   "metadata": {},
   "source": [
    "**<span style=\"color:blue\">Solución:</span>**"
   ]
  },
  {
   "cell_type": "code",
   "execution_count": 8,
   "id": "2c197997",
   "metadata": {},
   "outputs": [
    {
     "name": "stdout",
     "output_type": "stream",
     "text": [
      "Introduce el dividendo (entero): 15\n",
      "Introduce el divisor (entero): 6\n",
      "15 entre 6 da un cociente 2 y un resto 3\n"
     ]
    }
   ],
   "source": [
    "n = input(\"Introduce el dividendo (entero): \")\n",
    "m = input(\"Introduce el divisor (entero): \")\n",
    "cociente = int(n) // int(m)\n",
    "resto = int(n) % int(m)\n",
    "print(n + \" entre \" +  m + \" da un cociente \" + str(cociente) + \" y un resto \" + str(resto))"
   ]
  },
  {
   "cell_type": "markdown",
   "id": "04b933ca",
   "metadata": {},
   "source": [
    "**<span style=\"color:blue\">Ejercicio 9</span>**. \n",
    "\n",
    "Escribir un programa que pregunte al usuario una cantidad a invertir, el interés anual y el número de años, y muestre por pantalla el capital obtenido en la inversión."
   ]
  },
  {
   "cell_type": "markdown",
   "id": "4d27ab30",
   "metadata": {},
   "source": [
    "**<span style=\"color:blue\">Solución:</span>**"
   ]
  },
  {
   "cell_type": "code",
   "execution_count": 9,
   "id": "ef697cab",
   "metadata": {},
   "outputs": [
    {
     "name": "stdout",
     "output_type": "stream",
     "text": [
      "¿Cantidad a invertir? 1000\n",
      "¿Interés porcentual anual? 10\n",
      "¿Años? 5\n",
      "Capital final: 1610.51\n"
     ]
    }
   ],
   "source": [
    "cantidad = float(input(\"¿Cantidad a invertir? \"))\n",
    "interes = float(input(\"¿Interés porcentual anual? \"))\n",
    "años = int(input(\"¿Años? \"))\n",
    "capital_obtenido = (cantidad)*((1+(interes/100))**(años))\n",
    "print(\"Capital final: \" + str(round(capital_obtenido, 2)))"
   ]
  },
  {
   "cell_type": "markdown",
   "id": "1752caa0",
   "metadata": {},
   "source": [
    "**<span style=\"color:blue\">Ejercicio 10</span>**. \n",
    "\n",
    "Una juguetería tiene mucho éxito en dos de sus productos: payasos y muñecas. Suele hacer venta por correo y la empresa de logística les cobra por peso de cada paquete así que deben calcular el peso de los payasos y muñecas que saldrán en cada paquete a demanda. Cada payaso pesa *112 g* y cada muñeca *75 g*. Escribir un programa que lea el número de payasos y muñecas vendidos en el último pedido y calcule el peso total del paquete que será enviado."
   ]
  },
  {
   "cell_type": "markdown",
   "id": "55bda950",
   "metadata": {},
   "source": [
    "**<span style=\"color:blue\">Solución:</span>**"
   ]
  },
  {
   "cell_type": "code",
   "execution_count": 10,
   "id": "76e6da95",
   "metadata": {},
   "outputs": [
    {
     "name": "stdout",
     "output_type": "stream",
     "text": [
      "Introduce el número de payasos a enviar: 1\n",
      "Introduce el número de muñecas a enviar: 1\n",
      "El peso total del paquete es igual a 187 gramos\n"
     ]
    }
   ],
   "source": [
    "peso_payaso = 112\n",
    "peso_muñeca = 75\n",
    "payasos = int(input(\"Introduce el número de payasos a enviar: \"))\n",
    "muñecas = int(input(\"Introduce el número de muñecas a enviar: \"))\n",
    "peso_total = peso_payaso * payasos + peso_muñeca * muñecas\n",
    "print(\"El peso total del paquete es igual a \" + str(peso_total) + \" gramos\")"
   ]
  },
  {
   "cell_type": "markdown",
   "id": "16d59105",
   "metadata": {},
   "source": [
    "**<span style=\"color:blue\">Ejercicio 11</span>**. \n",
    "\n",
    "Imagina que acabas de abrir una nueva cuenta de ahorros que te ofrece el *4%* de interés al año. Estos ahorros debido a intereses, que no se cobran hasta finales de año, se te añaden al balance final de tu cuenta de ahorros. Escribir un programa que comience leyendo la cantidad de dinero depositada en la cuenta de ahorros, introducida por el usuario. Después el programa debe calcular y mostrar por pantalla la cantidad de ahorros tras el primer, segundo y tercer año. Redondear cada cantidad a dos decimales."
   ]
  },
  {
   "cell_type": "markdown",
   "id": "a6b82cf7",
   "metadata": {},
   "source": [
    "**<span style=\"color:blue\">Solución:</span>**"
   ]
  },
  {
   "cell_type": "code",
   "execution_count": 11,
   "id": "21165d74",
   "metadata": {},
   "outputs": [
    {
     "name": "stdout",
     "output_type": "stream",
     "text": [
      "Introduce la inversión inicial: 1000\n",
      "Balance tras el primer año:1040.0\n",
      "Balance tras el segundo año:1081.6\n",
      "Balance tras el tercer año:1124.86\n"
     ]
    }
   ],
   "source": [
    "inversion = float(input(\"Introduce la inversión inicial: \"))\n",
    "interes = 0.04\n",
    "balance1 = inversion * (1 + interes)\n",
    "print(\"Balance tras el primer año:\" + str(round(balance1, 2)))\n",
    "balance2 = balance1 * (1 + interes)\n",
    "print(\"Balance tras el segundo año:\" + str(round(balance2, 2)))\n",
    "balance3 = balance2 * (1 + interes)\n",
    "print(\"Balance tras el tercer año:\" + str(round(balance3, 2)))"
   ]
  },
  {
   "cell_type": "markdown",
   "id": "4fcae3f5",
   "metadata": {},
   "source": [
    "**<span style=\"color:blue\">Ejercicio 12</span>**. \n",
    "\n",
    "Una panadería vende barras de pan a *\\$3.49* cada una. El pan que no es el día tiene un descuento del *60\\%*. Escribir un programa que comience leyendo el número de barras vendidas que no son del día. Después el programa debe mostrar el precio habitual de una barra de pan, el descuento que se le hace por no ser fresca y el coste final total."
   ]
  },
  {
   "cell_type": "markdown",
   "id": "fd97a4b8",
   "metadata": {},
   "source": [
    "**<span style=\"color:blue\">Solución:</span>**"
   ]
  },
  {
   "cell_type": "code",
   "execution_count": 12,
   "id": "85fce11a",
   "metadata": {},
   "outputs": [
    {
     "name": "stdout",
     "output_type": "stream",
     "text": [
      "Introduce el número de barras vendidas que no son frescas: 1\n",
      "El coste de una barra fresca es de $3.49 pesos\n",
      "El descuento sobre una barra no fresca es del 60.0%\n",
      "El coste final a pagar es igual a $1.4 pesos\n"
     ]
    }
   ],
   "source": [
    "barras = int(input(\"Introduce el número de barras vendidas que no son frescas: \"))\n",
    "precio = 3.49 \n",
    "descuento = 0.6\n",
    "coste = barras * precio * (1 - descuento)\n",
    "print(\"El coste de una barra fresca es de $\" + str(precio) + \" pesos\")\n",
    "print(\"El descuento sobre una barra no fresca es del \" + str(descuento * 100) + \"%\")\n",
    "print(\"El coste final a pagar es igual a $\" + str(round(coste, 2)) + \" pesos\")"
   ]
  },
  {
   "cell_type": "markdown",
   "id": "5b8493cf",
   "metadata": {},
   "source": [
    "**<span style=\"color:blue\">Ejercicio 13</span>**. \n",
    "\n",
    "Escribir un programa que pregunte el nombre del usuario en la consola y un número entero e imprima por pantalla en líneas distintas el nombre del usuario tantas veces como el número introducido."
   ]
  },
  {
   "cell_type": "markdown",
   "id": "a03241c1",
   "metadata": {},
   "source": [
    "**<span style=\"color:blue\">Solución:</span>**"
   ]
  },
  {
   "cell_type": "code",
   "execution_count": 13,
   "id": "b16d660a",
   "metadata": {},
   "outputs": [
    {
     "name": "stdout",
     "output_type": "stream",
     "text": [
      "¿Cómo te llamas? Ricardo\n",
      "Introduce un número entero: 10\n",
      "Ricardo\n",
      "Ricardo\n",
      "Ricardo\n",
      "Ricardo\n",
      "Ricardo\n",
      "Ricardo\n",
      "Ricardo\n",
      "Ricardo\n",
      "Ricardo\n",
      "Ricardo\n",
      "\n"
     ]
    }
   ],
   "source": [
    "nombre = input(\"¿Cómo te llamas? \")\n",
    "n = input(\"Introduce un número entero: \")\n",
    "print((nombre + \"\\n\") * int(n))"
   ]
  },
  {
   "cell_type": "markdown",
   "id": "13470797",
   "metadata": {},
   "source": [
    "**<span style=\"color:blue\">Ejercicio 14</span>**. \n",
    "\n",
    "Escribir un programa que pregunte el nombre completo del usuario en la consola y después muestre por pantalla el nombre completo del usuario tres veces, una con todas las letras minúsculas, otra con todas las letras mayúsculas y otra solo con la primera letra del nombre y de los apellidos en mayúscula. El usuario puede introducir su nombre combinando mayúsculas y minúsculas como quiera.\n",
    "\n",
    "Hint: use los métodos *lower(), upper() y title()*."
   ]
  },
  {
   "cell_type": "markdown",
   "id": "715c16f7",
   "metadata": {},
   "source": [
    "**<span style=\"color:blue\">Solución:</span>**"
   ]
  },
  {
   "cell_type": "code",
   "execution_count": 14,
   "id": "94d6d874",
   "metadata": {},
   "outputs": [
    {
     "name": "stdout",
     "output_type": "stream",
     "text": [
      "¿Cómo te llamas? Ricardo\n",
      "ricardo\n",
      "RICARDO\n",
      "Ricardo\n"
     ]
    }
   ],
   "source": [
    "nombre = input(\"¿Cómo te llamas? \")\n",
    "print(nombre.lower())\n",
    "print(nombre.upper())\n",
    "print(nombre.title())"
   ]
  },
  {
   "cell_type": "markdown",
   "id": "003ee2f6",
   "metadata": {},
   "source": [
    "**<span style=\"color:blue\">Ejercicio 15</span>**. \n",
    "\n",
    "Escribir un programa que pregunte el nombre del usuario en la consola y después de que el usuario lo introduzca muestre por pantalla `<NOMBRE> tiene <n> letras`, donde *\\<NOMBRE\\>* es el nombre de usuario en mayúsculas y *\\<n\\>* es el número de letras que tienen el nombre."
   ]
  },
  {
   "cell_type": "markdown",
   "id": "59526223",
   "metadata": {},
   "source": [
    "**<span style=\"color:blue\">Solución:</span>**"
   ]
  },
  {
   "cell_type": "code",
   "execution_count": 15,
   "id": "07ef3a8c",
   "metadata": {},
   "outputs": [
    {
     "name": "stdout",
     "output_type": "stream",
     "text": [
      "¿Cómo te llamas? Ricardo\n",
      "RICARDO tiene 7 letras\n"
     ]
    }
   ],
   "source": [
    "nombre = input(\"¿Cómo te llamas? \")\n",
    "print(nombre.upper() + \" tiene \" + str(len(nombre)) + \" letras\")"
   ]
  },
  {
   "cell_type": "markdown",
   "id": "ccbdaa43",
   "metadata": {},
   "source": [
    "**<span style=\"color:blue\">Ejercicio 16</span>**. \n",
    "\n",
    "Los teléfonos de una empresa tienen el siguiente formato prefijo-número donde el prefijo es el código del país *+52* (por ejemplo +52-5951234567). Escribir un programa que pregunte por un número de teléfono con este formato en la consola y muestre por pantalla el número de teléfono sin el prefijo."
   ]
  },
  {
   "cell_type": "markdown",
   "id": "3836fb1b",
   "metadata": {},
   "source": [
    "**<span style=\"color:blue\">Solución:</span>**"
   ]
  },
  {
   "cell_type": "code",
   "execution_count": 18,
   "id": "e6b2e0c0",
   "metadata": {},
   "outputs": [
    {
     "name": "stdout",
     "output_type": "stream",
     "text": [
      "Introduce un número de teléfono con el formato +52-xxxxxxxxxx: +52-5951880453\n",
      "El número de teléfono es  5951880453\n"
     ]
    }
   ],
   "source": [
    "telefono = input(\"Introduce un número de teléfono con el formato +52-xxxxxxxxxx: \")\n",
    "print('El número de teléfono es ', telefono[4:])"
   ]
  },
  {
   "cell_type": "markdown",
   "id": "ea9ba361",
   "metadata": {},
   "source": [
    "**<span style=\"color:blue\">Ejercicio 17</span>**. \n",
    "\n",
    "Escribir un programa que pida al usuario que introduzca una frase en la consola y muestre por pantalla la frase invertida."
   ]
  },
  {
   "cell_type": "markdown",
   "id": "9d63eeea",
   "metadata": {},
   "source": [
    "**<span style=\"color:blue\">Solución:</span>**"
   ]
  },
  {
   "cell_type": "code",
   "execution_count": 25,
   "id": "c24a5708",
   "metadata": {
    "scrolled": true
   },
   "outputs": [
    {
     "name": "stdout",
     "output_type": "stream",
     "text": [
      "Introduce una frase: Todo lo que se escribe en estos tiempos y que vale la pena leer está orientado hacia la nostalgia\n",
      "aiglatson al aicah odatneiro átse reel anep al elav euq y sopmeit sotse ne ebircse es euq ol odoT\n"
     ]
    }
   ],
   "source": [
    "frase = input(\"Introduce una frase: \")\n",
    "print(frase[::-1])"
   ]
  },
  {
   "cell_type": "markdown",
   "id": "7154dce9",
   "metadata": {},
   "source": [
    "**<span style=\"color:blue\">Ejercicio 18</span>**. \n",
    "\n",
    "Escribir un programa que pregunte el correo electrónico del usuario en la consola y muestre por pantalla otro correo electrónico con el mismo nombre (la parte delante de la arroba @) pero con dominio chapingo.mx\n",
    "\n",
    "Hint: use el método *find()*"
   ]
  },
  {
   "cell_type": "markdown",
   "id": "3fc26f1d",
   "metadata": {},
   "source": [
    "**<span style=\"color:blue\">Solución:</span>**"
   ]
  },
  {
   "cell_type": "code",
   "execution_count": 26,
   "id": "756e9d4e",
   "metadata": {
    "scrolled": true
   },
   "outputs": [
    {
     "name": "stdout",
     "output_type": "stream",
     "text": [
      "Introduce tu correo electrónico: ricardosph4.0@gmail.com\n",
      "ricardosph4.0@chapingo.mx\n"
     ]
    }
   ],
   "source": [
    "email = input(\"Introduce tu correo electrónico: \")\n",
    "print(email[:email.find(\"@\")] + \"@chapingo.mx\")"
   ]
  },
  {
   "cell_type": "markdown",
   "id": "5a26a040",
   "metadata": {},
   "source": [
    "**<span style=\"color:blue\">Ejercicio 19</span>**. \n",
    "\n",
    "Escribir un programa que pregunte por consola el precio de un producto en pesos mexicanos con dos decimales y muestre por pantalla el número de pesos y el número de centavos del precio introducido.\n",
    "\n",
    "Hint: use el método *find()*"
   ]
  },
  {
   "cell_type": "markdown",
   "id": "461e6212",
   "metadata": {},
   "source": [
    "**<span style=\"color:blue\">Solución:</span>**"
   ]
  },
  {
   "cell_type": "code",
   "execution_count": 32,
   "id": "e91cc912",
   "metadata": {},
   "outputs": [
    {
     "name": "stdout",
     "output_type": "stream",
     "text": [
      "Introduce el precio del producto con dos decimales: 100.56\n",
      "El producto cuesta 100 pesos y 56 centavos.\n"
     ]
    }
   ],
   "source": [
    "precio = input(\"Introduce el precio del producto con dos decimales: \")\n",
    "print(\"El producto cuesta\",precio[:precio.find(\".\")], \"pesos y\", precio[(precio.find(\".\")+1):], 'centavos.')"
   ]
  },
  {
   "cell_type": "markdown",
   "id": "fc3abd67",
   "metadata": {},
   "source": [
    "**<span style=\"color:blue\">Ejercicio 20</span>**. \n",
    "\n",
    "Escribir un programa que pregunte al usuario la fecha de su nacimiento en formato dd/mm/aaaa y muestra por pantalla, el día, el mes y el año."
   ]
  },
  {
   "cell_type": "markdown",
   "id": "42cc2b4a",
   "metadata": {},
   "source": [
    "**<span style=\"color:blue\">Solución:</span>**"
   ]
  },
  {
   "cell_type": "code",
   "execution_count": 42,
   "id": "7cad65c4",
   "metadata": {},
   "outputs": [
    {
     "name": "stdout",
     "output_type": "stream",
     "text": [
      "Introduce la fecha de tu nacimiento en formato dd/mm/aaaa: 20/10/1997\n",
      "Día: 20\n",
      "Mes: 10\n",
      "Año: 1997\n"
     ]
    }
   ],
   "source": [
    "fecha = input(\"Introduce la fecha de tu nacimiento en formato dd/mm/aaaa: \")\n",
    "print(\"Día:\", fecha[:2])\n",
    "print(\"Mes:\", fecha[3:5])\n",
    "print(\"Año:\", fecha[6:])"
   ]
  },
  {
   "cell_type": "markdown",
   "id": "0ef6532f",
   "metadata": {},
   "source": [
    "**<span style=\"color:blue\">Ejercicio 21</span>**. \n",
    "\n",
    "Adaptar el programa anterior para que también funcione cuando el día o el mes se introduzcan con un solo carácter.\n",
    "\n",
    "Hint: use el método *find()*"
   ]
  },
  {
   "cell_type": "markdown",
   "id": "6ac0f9e4",
   "metadata": {},
   "source": [
    "**<span style=\"color:blue\">Solución:</span>**"
   ]
  },
  {
   "cell_type": "code",
   "execution_count": 36,
   "id": "a0ff2358",
   "metadata": {},
   "outputs": [
    {
     "name": "stdout",
     "output_type": "stream",
     "text": [
      "Introduce la fecha de tu nacimiento en formato día/mes/año: 3/5/1997\n",
      "Día: 3\n",
      "Mes: 5\n",
      "Año: 1997\n"
     ]
    }
   ],
   "source": [
    "fecha = input(\"Introduce la fecha de tu nacimiento en formato día/mes/año: \")\n",
    "dia = fecha[:fecha.find('/')]\n",
    "mes_año = fecha[fecha.find('/')+1:]\n",
    "mes = mes_año[:mes_año.find('/')]\n",
    "año = mes_año[mes_año.find('/')+1:]\n",
    "print('Día:', dia)\n",
    "print('Mes:', mes)\n",
    "print('Año:', año)"
   ]
  },
  {
   "cell_type": "markdown",
   "id": "5a5298b5",
   "metadata": {},
   "source": [
    "**<span style=\"color:blue\">Ejercicio 22</span>**. \n",
    "\n",
    "Escribir un programa que almacene las asignaturas de un curso (por ejemplo Matemáticas, Física, Química, Historia y Lenguas) en una lista y la muestre por pantalla."
   ]
  },
  {
   "cell_type": "markdown",
   "id": "7872e954",
   "metadata": {},
   "source": [
    "**<span style=\"color:blue\">Solución:</span>**"
   ]
  },
  {
   "cell_type": "code",
   "execution_count": 43,
   "id": "9d1888fe",
   "metadata": {},
   "outputs": [
    {
     "name": "stdout",
     "output_type": "stream",
     "text": [
      "['Matemáticas', 'Física', 'Química', 'Historia', 'Lenguas']\n"
     ]
    }
   ],
   "source": [
    "asignaturas = [\"Matemáticas\", \"Física\", \"Química\", \"Historia\", \"Lenguas\"]\n",
    "print(asignaturas)"
   ]
  },
  {
   "cell_type": "markdown",
   "id": "9e4110a4",
   "metadata": {},
   "source": [
    "**<span style=\"color:blue\">Ejercicio 23</span>**. \n",
    "\n",
    "Escribir un programa que almacene las asignaturas de un curso (por ejemplo Matemáticas, Física, Química, Historia y Lenguas) en una lista y la muestre por pantalla el mensaje `Yo estudio <asignatura>`, donde *\\<asignatura\\>* es cada una de las asignaturas de la lista."
   ]
  },
  {
   "cell_type": "markdown",
   "id": "cbbc830b",
   "metadata": {},
   "source": [
    "**<span style=\"color:blue\">Solución:</span>**"
   ]
  },
  {
   "cell_type": "code",
   "execution_count": 45,
   "id": "e9192268",
   "metadata": {},
   "outputs": [
    {
     "name": "stdout",
     "output_type": "stream",
     "text": [
      "Yo estudio Matemáticas\n",
      "Yo estudio Física\n",
      "Yo estudio Química\n",
      "Yo estudio Historia\n",
      "Yo estudio Lenguas\n"
     ]
    }
   ],
   "source": [
    "asignaturas = [\"Matemáticas\", \"Física\", \"Química\", \"Historia\", \"Lenguas\"]\n",
    "print(\"Yo estudio \" + asignaturas[0])\n",
    "print(\"Yo estudio \" + asignaturas[1])\n",
    "print(\"Yo estudio \" + asignaturas[2])\n",
    "print(\"Yo estudio \" + asignaturas[3])\n",
    "print(\"Yo estudio \" + asignaturas[4])"
   ]
  },
  {
   "cell_type": "markdown",
   "id": "e718fe52",
   "metadata": {},
   "source": [
    "**Nota:** Veremos más ejercicios sobre listas y tuplas una vez que estudiemos *condicionales* y *bules*"
   ]
  },
  {
   "cell_type": "markdown",
   "id": "2aa31b93",
   "metadata": {},
   "source": [
    "**<span style=\"color:blue\">Ejercicio 24</span>**. \n",
    "\n",
    "Escribir un programa que guarde en una variable el diccionario `{'Euro':'€', 'Dollar':'$', 'Yen':'¥'}`, pregunte al usuario por una divisa y muestre su símbolo."
   ]
  },
  {
   "cell_type": "markdown",
   "id": "191d1f7d",
   "metadata": {},
   "source": [
    "**<span style=\"color:blue\">Solución:</span>**"
   ]
  },
  {
   "cell_type": "code",
   "execution_count": 50,
   "id": "7431ce13",
   "metadata": {},
   "outputs": [
    {
     "name": "stdout",
     "output_type": "stream",
     "text": [
      "Introduce una divisa: Euro\n",
      "El síbolo del Euro es: €\n"
     ]
    }
   ],
   "source": [
    "monedas = {\"Euro\":\"€\", \"Dollar\":\"$\", \"Yen\":\"¥\"}\n",
    "moneda = input(\"Introduce una divisa: \")\n",
    "print(\"El síbolo del\",moneda,\"es:\",monedas[moneda])"
   ]
  },
  {
   "cell_type": "markdown",
   "id": "97a2526a",
   "metadata": {},
   "source": [
    "**<span style=\"color:blue\">Ejercicio 25</span>**. \n",
    "\n",
    "Escribir un programa que pregunte al usuario su nombre, edad, dirección y teléfono y lo guarde en un diccionario. Despúes debe mostrar por pantalla el mensaje `<nombre> tiene <edad> años, vive en <dirección> y su número de teléfono es <teléfono>`. "
   ]
  },
  {
   "cell_type": "markdown",
   "id": "c7b3a449",
   "metadata": {},
   "source": [
    "**<span style=\"color:blue\">Solución:</span>**"
   ]
  },
  {
   "cell_type": "code",
   "execution_count": 51,
   "id": "b154bdd4",
   "metadata": {},
   "outputs": [
    {
     "name": "stdout",
     "output_type": "stream",
     "text": [
      "¿Cómo te llamas? Ricardo\n",
      "¿Cuántos años tienes? 24\n",
      "¿Cuál es tu dirección? Priv. Úrsulo Galván, #24. Salitería.\n",
      "¿Cuál es tu número de teléfono? 5951880453\n",
      "Ricardo tiene 24 años, vive en Priv. Úrsulo Galván, #24. Salitería. y su número de teléfono es 5951880453\n"
     ]
    }
   ],
   "source": [
    "nombre = input(\"¿Cómo te llamas? \")\n",
    "edad = input(\"¿Cuántos años tienes? \")\n",
    "direccion = input(\"¿Cuál es tu dirección? \")\n",
    "telefono = input(\"¿Cuál es tu número de teléfono? \")\n",
    "persona = {\"nombre\": nombre, \"edad\": edad, \"direccion\": direccion, \"telefono\": telefono}\n",
    "print(persona[\"nombre\"], 'tiene', persona[\"edad\"], \"años, vive en\", persona[\"direccion\"], \"y su número de teléfono es\", persona[\"telefono\"])"
   ]
  },
  {
   "cell_type": "markdown",
   "id": "cf27482a",
   "metadata": {},
   "source": [
    "**<span style=\"color:blue\">Ejercicio 26</span>**. \n",
    "\n",
    "Escribir un programa que guarde en un diccionario los precios de las frutas de la tabla, pregunte al usuario por una fruta, un número de kilos y muestre por pantalla el precio de ese número de kilos de fruta. \n",
    "\n",
    "| Fruta | Precio|\n",
    "|:-|:-:|\n",
    "|Plátano | 1.35 |\n",
    "|Manzana | 0.80|\n",
    "|Pera| 0.85|\n",
    "|Naranja | 0.70|"
   ]
  },
  {
   "cell_type": "markdown",
   "id": "59cd57f0",
   "metadata": {},
   "source": [
    "**<span style=\"color:blue\">Solución:</span>**"
   ]
  },
  {
   "cell_type": "code",
   "execution_count": 53,
   "id": "90abcf9a",
   "metadata": {},
   "outputs": [
    {
     "name": "stdout",
     "output_type": "stream",
     "text": [
      "¿Qué fruta quieres? manzaNa\n",
      "¿Cuántos kilos? 5\n",
      "5.0 kilos de Manzana valen 4.0 dólares\n"
     ]
    }
   ],
   "source": [
    "frutas = {\"Plátano\":1.35, \"Manzana\":0.8, \"Pera\":0.85, \"Naranja\":0.7}\n",
    "fruta = input(\"¿Qué fruta quieres? \").title()\n",
    "kg = float(input(\"¿Cuántos kilos? \"))\n",
    "print(kg, \"kilos de\", fruta, \"valen\", frutas[fruta]*kg, \"dólares\")"
   ]
  },
  {
   "cell_type": "markdown",
   "id": "de978b97",
   "metadata": {},
   "source": [
    "**<span style=\"color:blue\">Ejercicio 27</span>**. \n",
    "\n",
    "Escribir un programa que almacene el diccionario con los créditos de las asignaturas de un curso `{'Matemáticas': 6, 'Física': 4, 'Química': 5}` y después muestre por pantalla los créditos de cada asignatura en el formato `<asignatura> tiene <creditos> créditos`, donde `<asignatura>` es cada una de las asignaturas del curso, y `<creditos>` son sus créditos. "
   ]
  },
  {
   "cell_type": "markdown",
   "id": "78ad95a4",
   "metadata": {},
   "source": [
    "**<span style=\"color:blue\">Solución:</span>**"
   ]
  },
  {
   "cell_type": "code",
   "execution_count": 62,
   "id": "27267e35",
   "metadata": {},
   "outputs": [
    {
     "name": "stdout",
     "output_type": "stream",
     "text": [
      "Matemáticas tiene 6 créditos\n",
      "Física tiene 4 créditos\n",
      "Química tiene 5 créditos\n"
     ]
    }
   ],
   "source": [
    "# Solución 1\n",
    "curso = {\"Matemáticas\": 6, \"Física\": 4, \"Química\": 5}\n",
    "asignatura = tuple(curso.keys())\n",
    "print(asignatura[0], 'tiene', curso[asignatura[0]], 'créditos')\n",
    "print(asignatura[1], 'tiene', curso[asignatura[1]], 'créditos')\n",
    "print(asignatura[2], 'tiene', curso[asignatura[2]], 'créditos')"
   ]
  },
  {
   "cell_type": "code",
   "execution_count": 59,
   "id": "e0d38749",
   "metadata": {
    "scrolled": true
   },
   "outputs": [
    {
     "name": "stdout",
     "output_type": "stream",
     "text": [
      "Matemáticas tiene 6 créditos\n",
      "Física tiene 4 créditos\n",
      "Química tiene 5 créditos\n"
     ]
    }
   ],
   "source": [
    "# Solución 2\n",
    "curso = {\"Matemáticas\": 6, \"Física\": 4, \"Química\": 5}\n",
    "for asignatura, creditos in curso.items():\n",
    "    print(asignatura, 'tiene', creditos, 'créditos')"
   ]
  },
  {
   "cell_type": "markdown",
   "id": "c8726d85",
   "metadata": {},
   "source": [
    "**Nota:** Veremos más ejercicios sobre diccionarios una vez que estudiemos *condicionales* y *bules*"
   ]
  }
 ],
 "metadata": {
  "kernelspec": {
   "display_name": "Python 3",
   "language": "python",
   "name": "python3"
  },
  "language_info": {
   "codemirror_mode": {
    "name": "ipython",
    "version": 3
   },
   "file_extension": ".py",
   "mimetype": "text/x-python",
   "name": "python",
   "nbconvert_exporter": "python",
   "pygments_lexer": "ipython3",
   "version": "3.8.8"
  }
 },
 "nbformat": 4,
 "nbformat_minor": 5
}

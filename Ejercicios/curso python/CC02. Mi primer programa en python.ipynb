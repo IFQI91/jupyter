{
 "cells": [
  {
   "cell_type": "markdown",
   "id": "2a50f8f1",
   "metadata": {},
   "source": [
    "# **<span style=\"color:red\">Taller: Introducción a la programación en Python</span>**\n",
    "\n",
    "##  **<span style=\"color:blue\">Mi primer programa en Python</span>**"
   ]
  },
  {
   "cell_type": "markdown",
   "id": "ddbacf23",
   "metadata": {},
   "source": [
    "Recordemos que escribir \"*Hola mundo*\" en python es tan simple como:"
   ]
  },
  {
   "cell_type": "code",
   "execution_count": null,
   "id": "bcd7f86e",
   "metadata": {},
   "outputs": [],
   "source": []
  },
  {
   "cell_type": "markdown",
   "id": "2b6f6548",
   "metadata": {},
   "source": [
    "Para crear un archivo de texto con el código anterior, de forma que pudiéramos distribuir nuestro pequeño gran programa entre nuestros amigos guardamos el archivo con extensión *.py*, *hola.py*, por ejemplo.\n",
    "\n",
    "Si utilizas Windows los archivos  *.py* ya estarán asociados al intérprete de Python, por lo que basta hacer doble clic sobre el archivo para ejecutar el programa."
   ]
  },
  {
   "cell_type": "markdown",
   "id": "ce849dcb",
   "metadata": {},
   "source": [
    "Sin embargo como este programa no hace más que imprimir un texto en la consola, la ejecución es demasiado rápida para poder verlo si quiera. Para remediarlo, vamos a añadir una nueva línea que espere la entrada de datos por parte del usuario."
   ]
  },
  {
   "cell_type": "code",
   "execution_count": null,
   "id": "bc03a57f",
   "metadata": {
    "scrolled": true
   },
   "outputs": [],
   "source": []
  },
  {
   "cell_type": "markdown",
   "id": "763fa507",
   "metadata": {},
   "source": [
    "De esta forma se mostrará una consola con el texto \"*Hola Mundo*\" hasta que pulsemos *Enter*."
   ]
  },
  {
   "cell_type": "markdown",
   "id": "4856f79e",
   "metadata": {},
   "source": [
    "**<span style=\"color:blue\">Ejemplo</span>**: Crear primer programa.\n",
    "\n",
    "> *Nota:* para descargar archivo vamos a *File* > *Download as* > *Python (.py)*"
   ]
  },
  {
   "cell_type": "markdown",
   "id": "35ef31be",
   "metadata": {},
   "source": [
    "### **<span style=\"color:blue\">Ejercicio</span>**\n",
    "\n",
    "* Escribir un programa que pida el nombre al usuario."
   ]
  }
 ],
 "metadata": {
  "kernelspec": {
   "display_name": "Python 3",
   "language": "python",
   "name": "python3"
  },
  "language_info": {
   "codemirror_mode": {
    "name": "ipython",
    "version": 3
   },
   "file_extension": ".py",
   "mimetype": "text/x-python",
   "name": "python",
   "nbconvert_exporter": "python",
   "pygments_lexer": "ipython3",
   "version": "3.8.8"
  }
 },
 "nbformat": 4,
 "nbformat_minor": 5
}

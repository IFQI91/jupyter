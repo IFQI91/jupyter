{
 "cells": [
  {
   "cell_type": "markdown",
   "id": "6e52e7dd",
   "metadata": {},
   "source": [
    "# **<span style=\"color:red\">Taller: Introducción a la programación en Python</span>**\n",
    "\n",
    "#  **<span style=\"color:blue\">Ejercicios</span>**"
   ]
  },
  {
   "cell_type": "markdown",
   "id": "9f634609",
   "metadata": {},
   "source": [
    "##  **<span style=\"color:blue\">Parte 1: sentencias condicionales</span>**"
   ]
  },
  {
   "cell_type": "markdown",
   "id": "52870f65",
   "metadata": {},
   "source": [
    "**<span style=\"color:blue\">Ejercicio 1</span>**.\n",
    "\n",
    "Solicitar al usuario un número de boleto. Si el número es el 1000, imprimir \"Ganaste un premio\"."
   ]
  },
  {
   "cell_type": "code",
   "execution_count": 1,
   "id": "76f3559a",
   "metadata": {
    "scrolled": true
   },
   "outputs": [
    {
     "name": "stdout",
     "output_type": "stream",
     "text": [
      "N° de cliente: 1000\n",
      "Ganaste un premio!\n"
     ]
    }
   ],
   "source": [
    "# Solución\n",
    "numero = int(input(\"N° de cliente: \"))\n",
    "if numero==1000:\n",
    "    print(\"Ganaste un premio!\")"
   ]
  },
  {
   "cell_type": "markdown",
   "id": "f95b8bf6",
   "metadata": {},
   "source": [
    "**<span style=\"color:blue\">Ejercicio 2</span>**.\n",
    "\n",
    "Solicitar al usuario que ingrese dos números y mostrar cuál de los dos es menor. No considerar el caso en que ambos números son iguales."
   ]
  },
  {
   "cell_type": "code",
   "execution_count": 2,
   "id": "0ee6ab98",
   "metadata": {
    "scrolled": true
   },
   "outputs": [
    {
     "name": "stdout",
     "output_type": "stream",
     "text": [
      "Ingresa un número: 1\n",
      "Ingresa otro número: 2\n",
      "El primero es menor\n"
     ]
    }
   ],
   "source": [
    "# Solución\n",
    "a = int(input(\"Ingresa un número: \"))\n",
    "b = int(input(\"Ingresa otro número: \"))\n",
    "if (a<b):\n",
    "    print(\"El primero es menor\")\n",
    "else:\n",
    "    print(\"El segundo es menor\")"
   ]
  },
  {
   "cell_type": "markdown",
   "id": "a6cd691f",
   "metadata": {},
   "source": [
    "**<span style=\"color:blue\">Ejercicio 3</span>**.\n",
    "\n",
    "Solicitar al usuario que ingrese dos números y mostrar cuál de los dos es menor. Considerar el caso en que ambos números son iguales."
   ]
  },
  {
   "cell_type": "code",
   "execution_count": 3,
   "id": "6e9cd667",
   "metadata": {},
   "outputs": [
    {
     "name": "stdout",
     "output_type": "stream",
     "text": [
      "Ingresa un número: 5\n",
      "Ingresa otro número: 5\n",
      "Son iguales\n"
     ]
    }
   ],
   "source": [
    "# Solución\n",
    "a = int(input(\"Ingresa un número: \"))\n",
    "b = int(input(\"Ingresa otro número: \"))\n",
    "if (a<b):\n",
    "    print(\"El primero es menor\")\n",
    "elif (b<a):\n",
    "    print(\"El segundo es menor\")\n",
    "else:\n",
    "    print(\"Son iguales\")"
   ]
  },
  {
   "cell_type": "markdown",
   "id": "b2274ef0",
   "metadata": {},
   "source": [
    "**<span style=\"color:blue\">Ejercicio 4</span>**.\n",
    "\n",
    "Solicitar al usuario que ingrese un día de la semana e imprimir un mensaje si es lunes, otro mensaje diferente si es viernes, otro mensaje diferente si es sábado o domingo. Si el día ingresado no es ninguno de esos, imprimir otro mensaje."
   ]
  },
  {
   "cell_type": "code",
   "execution_count": 4,
   "id": "072b208b",
   "metadata": {
    "scrolled": true
   },
   "outputs": [
    {
     "name": "stdout",
     "output_type": "stream",
     "text": [
      "Ingrese un dia de la semana: sábado\n",
      "¡Fin de semana!\n"
     ]
    }
   ],
   "source": [
    "# Solución\n",
    "dia = input(\"Ingrese un dia de la semana: \")\n",
    "if (dia==\"lunes\"):\n",
    "    print(\"¡Oh no! Lunes otra vez\")\n",
    "elif (dia==\"viernes\"):\n",
    "    print(\"¡Ya casi es fin de semana!\")\n",
    "elif (dia==\"sábado\") or (dia==\"domingo\"):\n",
    "    print(\"¡Fin de semana!\")\n",
    "else:\n",
    "    print(\"A esperar el fin de semana\")"
   ]
  },
  {
   "cell_type": "markdown",
   "id": "c52c1c02",
   "metadata": {},
   "source": [
    "**<span style=\"color:blue\">Ejercicio 5</span>**.\n",
    "\n",
    "Escribir un programa que, dado un número entero, muestre su valor absoluto. "
   ]
  },
  {
   "cell_type": "code",
   "execution_count": 5,
   "id": "30f81ace",
   "metadata": {},
   "outputs": [
    {
     "name": "stdout",
     "output_type": "stream",
     "text": [
      "Inserte un número: -9\n",
      "Valor absoluto: 9.0\n"
     ]
    }
   ],
   "source": [
    "# Solución\n",
    "numero = float(input(\"Inserte un número: \"))\n",
    "if (numero<0):\n",
    "    numero *= -1\n",
    "print(\"Valor absoluto:\", numero)"
   ]
  },
  {
   "cell_type": "markdown",
   "id": "c17e7afb",
   "metadata": {},
   "source": [
    "**<span style=\"color:blue\">Ejercicio 6</span>**.\n",
    "\n",
    "Solicitar al usuario que ingrese los nombres de dos personas, los cuales se almacenarán en dos variables. A continuación, imprimir \"Coincidencia\" si los nombres de ambas personas comienzan con la misma letra ó si terminan con la misma letra. Si no es así, imprimir \"No hay coincidencia\"."
   ]
  },
  {
   "cell_type": "code",
   "execution_count": 6,
   "id": "99c03572",
   "metadata": {
    "scrolled": true
   },
   "outputs": [
    {
     "name": "stdout",
     "output_type": "stream",
     "text": [
      "Ingrese un nombre: María\n",
      "Ingrese otro nombre: Mauricio\n",
      "Coincidencia\n"
     ]
    }
   ],
   "source": [
    "# Solución\n",
    "nombre_1 = input(\"Ingrese un nombre: \")\n",
    "nombre_2 = input(\"Ingrese otro nombre: \")\n",
    "if (nombre_1[0]==nombre_2[0]) or (nombre_1[-1]==nombre_2[-1]):\n",
    "    print(\"Coincidencia\")\n",
    "else:\n",
    "    print(\"No hay coincidencia\")"
   ]
  },
  {
   "cell_type": "markdown",
   "id": "11869db9",
   "metadata": {},
   "source": [
    "**<span style=\"color:blue\">Ejercicio 7</span>**.\n",
    "\n",
    "Escribir un programa que solicite al usuario una letra y, si es una vocal, muestre el mensaje \"es vocal\". Se debe validar que el usuario ingrese sólo un carácter. Si ingresa un *string* de más de un carácter, informarle que no se puede procesar el dato."
   ]
  },
  {
   "cell_type": "code",
   "execution_count": 7,
   "id": "089b2401",
   "metadata": {
    "scrolled": true
   },
   "outputs": [
    {
     "name": "stdout",
     "output_type": "stream",
     "text": [
      "Ingrese una letra: a\n",
      "Es vocal\n"
     ]
    }
   ],
   "source": [
    "# Solución\n",
    "letra = input(\"Ingrese una letra: \")\n",
    "if (len(letra)==1):\n",
    "    if (letra in \"aeiou\"):\n",
    "        print(\"Es vocal\")\n",
    "    else:\n",
    "        print(\"No es vocal\")\n",
    "else:    \n",
    "    print(\"Debe ser sólo una letra\")"
   ]
  },
  {
   "cell_type": "markdown",
   "id": "07c11bef",
   "metadata": {},
   "source": [
    "**<span style=\"color:blue\">Ejercicio 8</span>**.\n",
    "\n",
    "Hacer un programa que permita saber si un año es bisiesto. Para que un año sea bisiesto debe ser divisible por 4 y no debe ser divisible por 100, excepto que también sea divisible por 400."
   ]
  },
  {
   "cell_type": "code",
   "execution_count": 8,
   "id": "c2e312a3",
   "metadata": {
    "scrolled": false
   },
   "outputs": [
    {
     "name": "stdout",
     "output_type": "stream",
     "text": [
      "Ingrese un año: 2020\n",
      "El año ingresado es bisiesto\n"
     ]
    }
   ],
   "source": [
    "# Solución\n",
    "año = int(input(\"Ingrese un año: \"))\n",
    "if (año%4==0):\n",
    "    if (año%100 != 0) or (año%400 == 0):\n",
    "        print(\"El año ingresado es bisiesto\")\n",
    "    else:\n",
    "        print(\"El año ingresado no bisiesto\")\n",
    "else:\n",
    "    print(\"El año ingresado no es bisiesto\")"
   ]
  },
  {
   "cell_type": "markdown",
   "id": "8d88e37c",
   "metadata": {},
   "source": [
    "##  **<span style=\"color:blue\">Parte 2: bucle for</span>**"
   ]
  },
  {
   "cell_type": "markdown",
   "id": "888170e0",
   "metadata": {},
   "source": [
    "**<span style=\"color:blue\">Ejercicio 1</span>**.\n",
    "\n",
    "Imprimir todos los dígitos decimales, del *0* al *9*, utilizando un ciclo."
   ]
  },
  {
   "cell_type": "code",
   "execution_count": 9,
   "id": "fbc640c3",
   "metadata": {
    "scrolled": true
   },
   "outputs": [
    {
     "name": "stdout",
     "output_type": "stream",
     "text": [
      "0\n",
      "1\n",
      "2\n",
      "3\n",
      "4\n",
      "5\n",
      "6\n",
      "7\n",
      "8\n",
      "9\n"
     ]
    }
   ],
   "source": [
    "# Solución\n",
    "for i in range(10):\n",
    "    print(i)"
   ]
  },
  {
   "cell_type": "markdown",
   "id": "c71c087f",
   "metadata": {},
   "source": [
    "**<span style=\"color:blue\">Ejercicio 2</span>**.\n",
    "\n",
    "Imprimir todos los números entre el *100* y el *199*."
   ]
  },
  {
   "cell_type": "code",
   "execution_count": 10,
   "id": "c4e42f90",
   "metadata": {},
   "outputs": [
    {
     "name": "stdout",
     "output_type": "stream",
     "text": [
      "100\n",
      "101\n",
      "102\n",
      "103\n",
      "104\n",
      "105\n",
      "106\n",
      "107\n",
      "108\n",
      "109\n",
      "110\n",
      "111\n",
      "112\n",
      "113\n",
      "114\n",
      "115\n",
      "116\n",
      "117\n",
      "118\n",
      "119\n",
      "120\n",
      "121\n",
      "122\n",
      "123\n",
      "124\n",
      "125\n",
      "126\n",
      "127\n",
      "128\n",
      "129\n",
      "130\n",
      "131\n",
      "132\n",
      "133\n",
      "134\n",
      "135\n",
      "136\n",
      "137\n",
      "138\n",
      "139\n",
      "140\n",
      "141\n",
      "142\n",
      "143\n",
      "144\n",
      "145\n",
      "146\n",
      "147\n",
      "148\n",
      "149\n",
      "150\n",
      "151\n",
      "152\n",
      "153\n",
      "154\n",
      "155\n",
      "156\n",
      "157\n",
      "158\n",
      "159\n",
      "160\n",
      "161\n",
      "162\n",
      "163\n",
      "164\n",
      "165\n",
      "166\n",
      "167\n",
      "168\n",
      "169\n",
      "170\n",
      "171\n",
      "172\n",
      "173\n",
      "174\n",
      "175\n",
      "176\n",
      "177\n",
      "178\n",
      "179\n",
      "180\n",
      "181\n",
      "182\n",
      "183\n",
      "184\n",
      "185\n",
      "186\n",
      "187\n",
      "188\n",
      "189\n",
      "190\n",
      "191\n",
      "192\n",
      "193\n",
      "194\n",
      "195\n",
      "196\n",
      "197\n",
      "198\n",
      "199\n"
     ]
    }
   ],
   "source": [
    "# Solución\n",
    "for j in range(100,200):\n",
    "    print(j)"
   ]
  },
  {
   "cell_type": "markdown",
   "id": "1f8d6a7d",
   "metadata": {},
   "source": [
    "**<span style=\"color:blue\">Ejercicio 3</span>**.\n",
    "\n",
    "Imprimir los números entre el *5* y el *20*, saltando de tres en tres."
   ]
  },
  {
   "cell_type": "code",
   "execution_count": 11,
   "id": "54113ade",
   "metadata": {
    "scrolled": true
   },
   "outputs": [
    {
     "name": "stdout",
     "output_type": "stream",
     "text": [
      "5\n",
      "8\n",
      "11\n",
      "14\n",
      "17\n",
      "20\n"
     ]
    }
   ],
   "source": [
    "# Solución\n",
    "for k in range(5,21,3):\n",
    "    print(k)"
   ]
  },
  {
   "cell_type": "markdown",
   "id": "9dc7d99c",
   "metadata": {},
   "source": [
    "**<span style=\"color:blue\">Ejercicio 4</span>**.\n",
    "\n",
    "Escribir un programa que pida al usuario un número entero y muestre por pantalla un triángulo rectángulo como el de más abajo, de altura el número introducido.\\\n",
    "`*`\\\n",
    "`**`\\\n",
    "`***`\\\n",
    "`****`\\\n",
    "`*****`"
   ]
  },
  {
   "cell_type": "code",
   "execution_count": 12,
   "id": "4bf5cf04",
   "metadata": {},
   "outputs": [
    {
     "name": "stdout",
     "output_type": "stream",
     "text": [
      "Introduce la altura del triángulo (entero positivo): 10\n",
      "*\n",
      "**\n",
      "***\n",
      "****\n",
      "*****\n",
      "******\n",
      "*******\n",
      "********\n",
      "*********\n",
      "**********\n"
     ]
    }
   ],
   "source": [
    "# Solución\n",
    "n = int(input(\"Introduce la altura del triángulo (entero positivo): \"))\n",
    "for i in range(n):\n",
    "   print(\"*\"*(i+1))"
   ]
  },
  {
   "cell_type": "markdown",
   "id": "5696edb5",
   "metadata": {},
   "source": [
    "**<span style=\"color:blue\">Ejercicio 5</span>**.\n",
    "\n",
    "Solicitar al usuario que ingrese un número entero positivo e imprimir todos los números correlativos entre el ingresado por el usuario y uno menos del doble del mismo."
   ]
  },
  {
   "cell_type": "code",
   "execution_count": 13,
   "id": "a8af8719",
   "metadata": {},
   "outputs": [
    {
     "name": "stdout",
     "output_type": "stream",
     "text": [
      "Ingrese un número entero positivo: 100\n",
      "100\n",
      "101\n",
      "102\n",
      "103\n",
      "104\n",
      "105\n",
      "106\n",
      "107\n",
      "108\n",
      "109\n",
      "110\n",
      "111\n",
      "112\n",
      "113\n",
      "114\n",
      "115\n",
      "116\n",
      "117\n",
      "118\n",
      "119\n",
      "120\n",
      "121\n",
      "122\n",
      "123\n",
      "124\n",
      "125\n",
      "126\n",
      "127\n",
      "128\n",
      "129\n",
      "130\n",
      "131\n",
      "132\n",
      "133\n",
      "134\n",
      "135\n",
      "136\n",
      "137\n",
      "138\n",
      "139\n",
      "140\n",
      "141\n",
      "142\n",
      "143\n",
      "144\n",
      "145\n",
      "146\n",
      "147\n",
      "148\n",
      "149\n",
      "150\n",
      "151\n",
      "152\n",
      "153\n",
      "154\n",
      "155\n",
      "156\n",
      "157\n",
      "158\n",
      "159\n",
      "160\n",
      "161\n",
      "162\n",
      "163\n",
      "164\n",
      "165\n",
      "166\n",
      "167\n",
      "168\n",
      "169\n",
      "170\n",
      "171\n",
      "172\n",
      "173\n",
      "174\n",
      "175\n",
      "176\n",
      "177\n",
      "178\n",
      "179\n",
      "180\n",
      "181\n",
      "182\n",
      "183\n",
      "184\n",
      "185\n",
      "186\n",
      "187\n",
      "188\n",
      "189\n",
      "190\n",
      "191\n",
      "192\n",
      "193\n",
      "194\n",
      "195\n",
      "196\n",
      "197\n",
      "198\n",
      "199\n"
     ]
    }
   ],
   "source": [
    "# Solución\n",
    "n = int(input(\"Ingrese un número entero positivo: \"))\n",
    "for i in range(n, n*2):\n",
    "    print(i)"
   ]
  },
  {
   "cell_type": "markdown",
   "id": "2ee97ec6",
   "metadata": {},
   "source": [
    "**<span style=\"color:blue\">Ejercicio 6</span>**.\n",
    "\n",
    "Escribir un programa que solicite al usuario una cantidad y luego itere la cantidad de veces dada. En cada iteración, solicitar al usuario que ingrese un número. Al finalizar, mostrar la suma de todos los números ingresados."
   ]
  },
  {
   "cell_type": "code",
   "execution_count": 14,
   "id": "e0e465ff",
   "metadata": {},
   "outputs": [
    {
     "name": "stdout",
     "output_type": "stream",
     "text": [
      "Cantidad de números: 3\n",
      "Ingrese un número: 100\n",
      "Ingrese un número: 200\n",
      "Ingrese un número: 500\n",
      "Total de la suma: 800\n"
     ]
    }
   ],
   "source": [
    "# Solución\n",
    "cantidad = int(input(\"Cantidad de números: \"))\n",
    "total = 0\n",
    "for variable in range(cantidad):\n",
    "   numero = int(input(\"Ingrese un número: \"))\n",
    "   total += numero\n",
    "print(\"Total de la suma:\", total)"
   ]
  },
  {
   "cell_type": "markdown",
   "id": "a9cc3663",
   "metadata": {},
   "source": [
    "**<span style=\"color:blue\">Ejercicio 7</span>**.\n",
    "\n",
    "Solicitar al usuario que ingrese una frase y luego imprimir un listado de las vocales que aparecen en esa frase (sin repetirlas). "
   ]
  },
  {
   "cell_type": "code",
   "execution_count": 15,
   "id": "0738ae41",
   "metadata": {},
   "outputs": [
    {
     "name": "stdout",
     "output_type": "stream",
     "text": [
      "Ingrese una frase: Hola mundo\n",
      "Vocales en la frase: \n",
      "a\n",
      "o\n",
      "u\n"
     ]
    }
   ],
   "source": [
    "# Solución 1\n",
    "frase = input(\"Ingrese una frase: \")\n",
    "print(\"Vocales en la frase: \")\n",
    "for i in \"aeiou\":\n",
    "  if i in frase:\n",
    "    print(i)"
   ]
  },
  {
   "cell_type": "code",
   "execution_count": 16,
   "id": "5e9bf223",
   "metadata": {},
   "outputs": [
    {
     "name": "stdout",
     "output_type": "stream",
     "text": [
      "Ingrese una frase: Hola mundo\n",
      "Vocales en la frase: ['a', 'o', 'u']\n"
     ]
    }
   ],
   "source": [
    "# Solución 2\n",
    "frase = input(\"Ingrese una frase: \")\n",
    "vocales = []\n",
    "for i in \"aeiou\":\n",
    "  if i in frase:\n",
    "    vocales.append(i)\n",
    "print(\"Vocales en la frase:\",vocales)"
   ]
  },
  {
   "cell_type": "markdown",
   "id": "31e96034",
   "metadata": {},
   "source": [
    "**<span style=\"color:blue\">Ejercicio 8</span>**.\n",
    "\n",
    "Solicitar al usuario que ingrese una frase y luego imprimir la cantidad de vocales que se encuentran en dicha frase."
   ]
  },
  {
   "cell_type": "code",
   "execution_count": 17,
   "id": "7b7a2848",
   "metadata": {},
   "outputs": [
    {
     "name": "stdout",
     "output_type": "stream",
     "text": [
      "Ingrese una frase: Hola mundo\n",
      "Cantidad de vocales: 4\n"
     ]
    }
   ],
   "source": [
    "# Solución\n",
    "frase = input(\"Ingrese una frase: \")\n",
    "cantidad = 0\n",
    "for j in frase:\n",
    "    if j in \"aeiou\":\n",
    "        cantidad += 1\n",
    "print(\"Cantidad de vocales:\", cantidad)"
   ]
  },
  {
   "cell_type": "markdown",
   "id": "485208a6",
   "metadata": {},
   "source": [
    "**<span style=\"color:blue\">Ejercicio 9</span>**.\n",
    "\n",
    "Escribir un programa que muestre la sumatoria de todos los números entre el *0* y el *100*."
   ]
  },
  {
   "cell_type": "code",
   "execution_count": 18,
   "id": "ac1901ea",
   "metadata": {},
   "outputs": [
    {
     "name": "stdout",
     "output_type": "stream",
     "text": [
      "Sumatoria: 5050\n"
     ]
    }
   ],
   "source": [
    "# Solución\n",
    "suma = 0\n",
    "for i in range(101):\n",
    "    suma += i\n",
    "print(\"Sumatoria:\", suma)"
   ]
  },
  {
   "cell_type": "markdown",
   "id": "fb1fe89c",
   "metadata": {},
   "source": [
    "**<span style=\"color:blue\">Ejercicio 10</span>**.\n",
    "\n",
    "Escribir un programa que muestre la sumatoria de todos los múltiplos de *3* encontrados entre el *0* y el *100*."
   ]
  },
  {
   "cell_type": "code",
   "execution_count": 19,
   "id": "848bd1f1",
   "metadata": {},
   "outputs": [
    {
     "name": "stdout",
     "output_type": "stream",
     "text": [
      "Sumatoria de los múltiplos de 3: 1683\n"
     ]
    }
   ],
   "source": [
    "# Solución\n",
    "suma = 0\n",
    "for numero in range(101):\n",
    "    if (numero%3 == 0):\n",
    "        suma += numero\n",
    "print(\"Sumatoria de los múltiplos de 3:\", suma)"
   ]
  },
  {
   "cell_type": "markdown",
   "id": "eeddef48",
   "metadata": {},
   "source": [
    "**<span style=\"color:blue\">Ejercicio 11</span>**.\n",
    "\n",
    "Solicitar un número entero positivo al usuario y mostrar su factorial. El factorial de un número se obtiene multiplicando todos los números enteros positivos que hay entre el 1 y ese número.\\\n",
    "*Nota: considerar el caso en el que el usuario ingrese 0, recordar que el factorial de 0 es 1.* "
   ]
  },
  {
   "cell_type": "code",
   "execution_count": 20,
   "id": "304ac56f",
   "metadata": {},
   "outputs": [
    {
     "name": "stdout",
     "output_type": "stream",
     "text": [
      "Ingrese un número entero positivo: 5\n",
      "El factorial de 5 es: 120\n"
     ]
    }
   ],
   "source": [
    "numero=int(input(\"Ingrese un número entero positivo: \"))\n",
    "f = 1\n",
    "if numero!=0:\n",
    "    for i in range(1,numero+1):\n",
    "        f*=i\n",
    "print(\"El factorial de\",numero,\"es:\", f)"
   ]
  },
  {
   "cell_type": "markdown",
   "id": "5afcb82c",
   "metadata": {},
   "source": [
    "**<span style=\"color:blue\">Ejercicio 12</span>**.\n",
    "\n",
    "Crear un algoritmo que muestre los primeros *n* números de la sucesión de Fibonacci.\\\n",
    "La sucesión comienza con los números *0* y *1* y, a partir de éstos, cada elemento es la suma de los dos números anteriores en la secuencia: *0, 1, 1, 2, 3, 5, 8, 13, 21, 34, 55…*"
   ]
  },
  {
   "cell_type": "code",
   "execution_count": 21,
   "id": "8b649699",
   "metadata": {},
   "outputs": [
    {
     "name": "stdout",
     "output_type": "stream",
     "text": [
      "Ingrese un número natural: 10\n",
      "0 1 1 2 3 5 8 13 21 34 "
     ]
    }
   ],
   "source": [
    "n = int(input(\"Ingrese un número natural: \"))\n",
    "n1 = 0\n",
    "n2 = 1\n",
    "print(n1, end=\" \")\n",
    "print(n2, end=\" \")\n",
    "for i in range(n-2):\n",
    "    n3 = n1+n2\n",
    "    print(n3, end=\" \")\n",
    "    n1=n2\n",
    "    n2=n3"
   ]
  },
  {
   "cell_type": "markdown",
   "id": "1d41bb31",
   "metadata": {},
   "source": [
    "**<span style=\"color:blue\">Ejercicio 13</span>**.\n",
    "\n",
    "Escribir un programa que permita al usuario ingresar 6 números enteros, que pueden ser positivos o negativos. Al finalizar, mostrar la sumatoria de los números negativos y el promedio de los positivos.\n",
    "No olvides que no es posible dividir por cero, por lo que es necesario evitar que el programa arroje un error si no se ingresaron números positivos."
   ]
  },
  {
   "cell_type": "code",
   "execution_count": 22,
   "id": "c0a50246",
   "metadata": {},
   "outputs": [
    {
     "name": "stdout",
     "output_type": "stream",
     "text": [
      "Número: -9\n",
      "Número: 6\n",
      "Número: 5\n",
      "Número: 9\n",
      "Número: -3\n",
      "Número: -4\n",
      "Sumatoria de los negativos: -16\n",
      "Promedio de los positivos: 6.666666666666667\n"
     ]
    }
   ],
   "source": [
    "# Solución\n",
    "suma_positivos=0\n",
    "cantidad_positivos=0\n",
    "suma_negativos=0\n",
    "for i in range(6):\n",
    "   numero = int(input(\"Número: \"))\n",
    "   if numero>0:\n",
    "       suma_positivos += numero\n",
    "       cantidad_positivos += 1\n",
    "   else:\n",
    "       suma_negativos += numero\n",
    "print(\"Sumatoria de los negativos:\", suma_negativos)\n",
    "if cantidad_positivos!=0:\n",
    "   print(\"Promedio de los positivos:\",suma_positivos/cantidad_positivos)\n",
    "else:\n",
    "   print(\"No ingresaste números positivos\")"
   ]
  },
  {
   "cell_type": "markdown",
   "id": "8e21fa0b",
   "metadata": {},
   "source": [
    "**<span style=\"color:blue\">Ejercicio 14</span>**.\n",
    "\n",
    "Escribir un programa que permita al usuario ingresar dos años y luego imprima todos los años en ese rango, que sean bisiestos y múltiplos de *10*. \n",
    "\n",
    "Nota: para que un año sea bisiesto debe ser divisible por *4* y no debe ser divisible por *100*, excepto que también sea divisible por *400*."
   ]
  },
  {
   "cell_type": "code",
   "execution_count": 23,
   "id": "dcb8da65",
   "metadata": {
    "scrolled": true
   },
   "outputs": [
    {
     "name": "stdout",
     "output_type": "stream",
     "text": [
      "Ingrese el año inicial: 500\n",
      "Ingrese el año final: 2021\n",
      "520 540 560 580 620 640 660 680 720 740 760 780 800 820 840 860 880 920 940 960 980 1020 1040 1060 1080 1120 1140 1160 1180 1200 1220 1240 1260 1280 1320 1340 1360 1380 1420 1440 1460 1480 1520 1540 1560 1580 1600 1620 1640 1660 1680 1720 1740 1760 1780 1820 1840 1860 1880 1920 1940 1960 1980 2000 2020 "
     ]
    }
   ],
   "source": [
    "# Solución\n",
    "año_inicio = int(input(\"Ingrese el año inicial: \"))\n",
    "año_fin = int(input(\"Ingrese el año final: \"))\n",
    "for año in range(año_inicio, año_fin+1):\n",
    "   if not año%10==0:\n",
    "       continue\n",
    "   if not año%4==0:\n",
    "       continue\n",
    "   if año%100!=0 or año%400==0:\n",
    "       print(año, end=\" \")"
   ]
  },
  {
   "cell_type": "markdown",
   "id": "ebd40821",
   "metadata": {},
   "source": [
    "**<span style=\"color:blue\">Ejercicio 15</span>**.\n",
    "\n",
    "Crear un programa que verifique si una matricula, ingresada por el usuario, es correcta o no. Para que una matrícula sea correcta verificar lo siguiente:\n",
    "+ Que tenga 9 carácteres.\n",
    "+ Que el penúltimo carácter sea un guión.\n",
    "+ Que el resto de los caracteres sean números enteros.\n",
    "+ Que los primeros dos números estén entre *10* y *21*."
   ]
  },
  {
   "cell_type": "code",
   "execution_count": 24,
   "id": "2bd2fa99",
   "metadata": {},
   "outputs": [
    {
     "name": "stdout",
     "output_type": "stream",
     "text": [
      "Ingrese una matrícula: 2110887-6\n",
      "La matrícula es correcta\n"
     ]
    }
   ],
   "source": [
    "# Solución (p)\n",
    "m = input(\"Ingrese una matrícula: \")\n",
    "guion = m[-2]\n",
    "ms = m[0:7]+m[-1]\n",
    "if (len(m)==9) and (guion==\"-\") and (ms.isdigit()) and (10<=int(ms[0:2])<=21):    \n",
    "    print(\"La matrícula es correcta\")\n",
    "else:\n",
    "    print(\"La matrícula es incorrecta\")"
   ]
  },
  {
   "cell_type": "markdown",
   "id": "feffda7f",
   "metadata": {},
   "source": [
    "**<span style=\"color:blue\">Ejercicio 16. De examen del MIT</span>**.\n",
    "\n",
    "En McDonald's se pueden comprar patitas de pollo en paquetes de *6*, *9* o *20* unidades. Escribir un programa que solicite al usuario un entero `num`, y diga si es o no posible comprar *num* cantidad de patitas. "
   ]
  },
  {
   "cell_type": "code",
   "execution_count": 25,
   "id": "000cc74c",
   "metadata": {
    "scrolled": true
   },
   "outputs": [
    {
     "name": "stdout",
     "output_type": "stream",
     "text": [
      "Ingrese una cantidad de patitas: 101\n",
      "Es posible comprar 101 patitas de pollo\n"
     ]
    }
   ],
   "source": [
    "# Solución\n",
    "num = int(input(\"Ingrese una cantidad de patitas: \"))\n",
    "posible = False\n",
    "for a in range(num//6+1):\n",
    "    for b in range(num//9+1):\n",
    "        for c in range(num//20+1):\n",
    "            if 6*a+9*b+20*c == num:\n",
    "                # print(a,b,c,num)\n",
    "                posible = True\n",
    "if posible:\n",
    "    print(\"Es posible comprar\",num,\"patitas de pollo\")\n",
    "else:\n",
    "    if num==1:\n",
    "        print(\"No es posible comprar\",num,\"patita de pollo\")\n",
    "    else:\n",
    "        print(\"No es posible comprar\",num,\"patitas de pollo\")"
   ]
  },
  {
   "cell_type": "markdown",
   "id": "7980bba8",
   "metadata": {},
   "source": [
    "##  **<span style=\"color:blue\">Parte 3: bucle while</span>**"
   ]
  },
  {
   "cell_type": "markdown",
   "id": "f6fc76b7",
   "metadata": {},
   "source": [
    "**<span style=\"color:blue\">Ejercicio 1</span>**. \n",
    "\n",
    "Escribir un programa que almacene la cadena de caracteres `contraseña` en una variable, pregunte al usuario por la contraseña hasta que introduzca la contraseña correcta."
   ]
  },
  {
   "cell_type": "code",
   "execution_count": 26,
   "id": "40b37c3e",
   "metadata": {},
   "outputs": [
    {
     "name": "stdout",
     "output_type": "stream",
     "text": [
      "Introduce la contraseña: hola\n",
      "Contraseña incorrecta\n",
      "Introduce la contraseña: mundo\n",
      "Contraseña incorrecta\n",
      "Introduce la contraseña: contraseña\n",
      "Contraseña correcta\n"
     ]
    }
   ],
   "source": [
    "key = \"contraseña\"\n",
    "password = input(\"Introduce la contraseña: \")\n",
    "while password != key:\n",
    "    print(\"Contraseña incorrecta\")\n",
    "    password = input(\"Introduce la contraseña: \")\n",
    "print(\"Contraseña correcta\")"
   ]
  },
  {
   "cell_type": "markdown",
   "id": "ea84f1c6",
   "metadata": {},
   "source": [
    "**<span style=\"color:blue\">Ejercicio 2</span>**. \n",
    "\n",
    "Leer números enteros de teclado, hasta que el usuario ingrese el 0. Finalmente, mostrar la sumatoria de todos los números ingresados."
   ]
  },
  {
   "cell_type": "code",
   "execution_count": 27,
   "id": "b95d8713",
   "metadata": {},
   "outputs": [
    {
     "name": "stdout",
     "output_type": "stream",
     "text": [
      "Ingrese un número (0 para terminar): 4\n",
      "Ingrese otro número (0 para terminar):  5\n",
      "Ingrese otro número (0 para terminar):  6\n",
      "Ingrese otro número (0 para terminar):  7\n",
      "Ingrese otro número (0 para terminar):  5\n",
      "Ingrese otro número (0 para terminar):  33\n",
      "Ingrese otro número (0 para terminar):  56\n",
      "Ingrese otro número (0 para terminar):  0\n",
      "La sumatoria de todos los números ingresados es: 116\n"
     ]
    }
   ],
   "source": [
    "# Solución\n",
    "total = 0\n",
    "numero = int(input(\"Ingrese un número (0 para terminar): \"))\n",
    "while numero!=0:\n",
    "    total += numero \n",
    "    numero = int(input(\"Ingrese otro número (0 para terminar):  \"))\n",
    "print(\"La sumatoria de todos los números ingresados es:\", total)"
   ]
  },
  {
   "cell_type": "markdown",
   "id": "c9876572",
   "metadata": {},
   "source": [
    "**<span style=\"color:blue\">Ejercicio 3</span>**. \n",
    "\n",
    "Leer números enteros de teclado, hasta que el usuario ingrese el 0. Finalmente, mostrar la sumatoria de todos los números positivos ingresados"
   ]
  },
  {
   "cell_type": "code",
   "execution_count": 28,
   "id": "4ed3fc66",
   "metadata": {},
   "outputs": [
    {
     "name": "stdout",
     "output_type": "stream",
     "text": [
      "Ingrese un número (0 para terminar): 3\n",
      "Ingrese otro número (0 para terminar): 5\n",
      "Ingrese otro número (0 para terminar): 7\n",
      "Ingrese otro número (0 para terminar): 8\n",
      "Ingrese otro número (0 para terminar): 0\n",
      "La sumatoria de todos los números positivos ingresados es: 23\n"
     ]
    }
   ],
   "source": [
    "# Solución\n",
    "suma = 0\n",
    "n = int(input(\"Ingrese un número (0 para terminar): \"))\n",
    "while n!=0:\n",
    "    if n>0:\n",
    "        suma += n\n",
    "    n = int(input(\"Ingrese otro número (0 para terminar): \"))\n",
    "print(\"La sumatoria de todos los números positivos ingresados es:\", suma)"
   ]
  },
  {
   "cell_type": "markdown",
   "id": "4e84eddb",
   "metadata": {},
   "source": [
    "**<span style=\"color:blue\">Ejercicio 4</span>**. \n",
    "\n",
    "Leer números enteros positivos de teclado, hasta que el usuario ingrese el 0. Informar cuál fue el mayor número ingresado."
   ]
  },
  {
   "cell_type": "code",
   "execution_count": 29,
   "id": "60e6c098",
   "metadata": {},
   "outputs": [
    {
     "name": "stdout",
     "output_type": "stream",
     "text": [
      "Ingrese un número positivo: 9\n",
      "Ingrese otro número positivo: 4\n",
      "Ingrese otro número positivo: 55\n",
      "Ingrese otro número positivo: 66\n",
      "Ingrese otro número positivo: 100\n",
      "Ingrese otro número positivo: 0\n",
      "El mayor número ingresado es: 100\n"
     ]
    }
   ],
   "source": [
    "# Solución\n",
    "mayor = 0\n",
    "n = int(input(\"Ingrese un número positivo: \"))\n",
    "while n!=0:\n",
    "   if n>mayor:\n",
    "       mayor=n\n",
    "   n=int(input(\"Ingrese otro número positivo: \"))\n",
    "print(\"El mayor número ingresado es:\", mayor)"
   ]
  },
  {
   "cell_type": "markdown",
   "id": "7e455ae7",
   "metadata": {},
   "source": [
    "**<span style=\"color:blue\">Ejercicio 5</span>**. \n",
    "\n",
    "Leer un número entero positivo desde teclado e imprimir la suma de los dígitos que lo componen."
   ]
  },
  {
   "cell_type": "code",
   "execution_count": 30,
   "id": "d26c8609",
   "metadata": {},
   "outputs": [
    {
     "name": "stdout",
     "output_type": "stream",
     "text": [
      "Número positivo:12593\n",
      "Suma de los dígitos: 20\n"
     ]
    }
   ],
   "source": [
    "# Solución\n",
    "suma = 0\n",
    "n = int(input(\"Número positivo:\"))\n",
    "while n!=0:\n",
    "    digito = n%10\n",
    "    suma += digito\n",
    "    n = n//10\n",
    "print(\"Suma de los dígitos:\", suma)"
   ]
  },
  {
   "cell_type": "markdown",
   "id": "807eb0ca",
   "metadata": {},
   "source": [
    "**<span style=\"color:blue\">Ejercicio 6</span>**. \n",
    "\n",
    "Solicitar al usuario que ingrese números enteros positivos y, por cada uno, imprimir la suma de los dígitos que lo componen. La condición de corte es que se ingrese el número -1. Al finalizar, mostrar cuántos de los números ingresados por el usuario fueron números pares."
   ]
  },
  {
   "cell_type": "code",
   "execution_count": 34,
   "id": "cee17658",
   "metadata": {},
   "outputs": [
    {
     "name": "stdout",
     "output_type": "stream",
     "text": [
      "Número (-1 para terminar el programa): 2\n",
      "Suma de sus dígitos: 2\n",
      "Número (-1 para terminar el programa): 6\n",
      "Suma de sus dígitos: 6\n",
      "Número (-1 para terminar el programa): 7\n",
      "Suma de sus dígitos: 7\n",
      "Número (-1 para terminar el programa): 7\n",
      "Suma de sus dígitos: 7\n",
      "Número (-1 para terminar el programa): 7\n",
      "Suma de sus dígitos: 7\n",
      "Número (-1 para terminar el programa): 2212\n",
      "Suma de sus dígitos: 7\n",
      "Número (-1 para terminar el programa): 5\n",
      "Suma de sus dígitos: 5\n",
      "Número (-1 para terminar el programa): -1\n",
      "Se ingresaron 3 números pares\n"
     ]
    }
   ],
   "source": [
    "# Solución\n",
    "pares = 0\n",
    "n = int(input(\"Número (-1 para terminar el programa): \"))\n",
    "while n!=-1:\n",
    "    if (n%2 == 0):\n",
    "        pares += 1\n",
    "    suma = 0\n",
    "    while n!=0:\n",
    "        digito = n%10\n",
    "        suma += digito\n",
    "        n = n//10\n",
    "    print(\"Suma de sus dígitos:\", suma)\n",
    "    n=int(input(\"Número (-1 para terminar el programa): \"))\n",
    "if pares == 1:\n",
    "    print(\"Se ingresó\", pares, \"número par\")\n",
    "else:\n",
    "    print(\"Se ingresaron\", pares, \"números pares\")"
   ]
  },
  {
   "cell_type": "markdown",
   "id": "fc25c079",
   "metadata": {},
   "source": [
    "**<span style=\"color:blue\">Ejercicio 7</span>**. \n",
    "\n",
    "Mostrar un menú con tres opciones: 1- comenzar programa, 2- imprimir listado, 3-finalizar programa. A continuación, el usuario debe poder seleccionar una opción (1, 2 ó 3). Si elige una opción incorrecta, informarle del error. El menú se debe volver a mostrar luego de ejecutada cada opción, permitiendo volver a elegir. Si elige las opciones 1 ó 2 se imprimirá un texto. Si elige la opción 3, se interrumpirá la impresión del menú y el programa finalizará."
   ]
  },
  {
   "cell_type": "code",
   "execution_count": 35,
   "id": "39126047",
   "metadata": {},
   "outputs": [
    {
     "name": "stdout",
     "output_type": "stream",
     "text": [
      "Opción 1 - comenzar programa\n",
      "Opción 2 - imprimir listado\n",
      "Opción 3 - finalizar programa\n",
      "Elija una opción: 1\n",
      "¡Comenzamos!\n",
      "Elija una opción: 2\n",
      "Listado: \n",
      "Nadia, Esteban, Mariela, Fernanda\n",
      "Elija una opción: 3\n",
      "Hasta la próxima\n"
     ]
    }
   ],
   "source": [
    "# Solución\n",
    "print(\"Opción 1 - comenzar programa\")\n",
    "print(\"Opción 2 - imprimir listado\")\n",
    "print(\"Opción 3 - finalizar programa\")\n",
    "while True:\n",
    "    opcion = int(input(\"Elija una opción: \"))\n",
    "    if opcion==1:\n",
    "        print(\"¡Comenzamos!\")\n",
    "    elif opcion==2:\n",
    "        print(\"Listado: \")\n",
    "        print(\"Nadia, Esteban, Mariela, Fernanda\")\n",
    "    elif opcion==3:\n",
    "        print(\"Hasta la próxima\")\n",
    "        break\n",
    "    else:\n",
    "        print(\"Opción incorrecta. Debe ingresar 1, 2 o 3\")"
   ]
  },
  {
   "cell_type": "markdown",
   "id": "9a88a2b7",
   "metadata": {},
   "source": [
    "**<span style=\"color:blue\">Ejercicio 8</span>**. \n",
    "\n",
    "Solicitar al usuario el ingreso de una frase y de una letra (que puede o no estar en la frase). Recorrer la frase, carácter a carácter, comparando con la letra buscada. Si el carácter no coincide, indicar que no hay coincidencia en esa posición (imprimiendo la posición) y continuar. Si se encuentra una coincidencia, indicar en qué posición se encontró y finalizar la ejecución."
   ]
  },
  {
   "cell_type": "code",
   "execution_count": 36,
   "id": "f83c8df3",
   "metadata": {},
   "outputs": [
    {
     "name": "stdout",
     "output_type": "stream",
     "text": [
      "Ingrese una frase: Hola mundo\n",
      "Letra para buscar su posición: a\n",
      "No se encontró en la posición 0\n",
      "No se encontró en la posición 1\n",
      "No se encontró en la posición 2\n",
      "Se encontró en la posición 3\n"
     ]
    }
   ],
   "source": [
    "# Solución\n",
    "frase = input(\"Ingrese una frase: \")\n",
    "l=input(\"Letra para buscar su posición: \")\n",
    "i=0\n",
    "while i!=len(frase):\n",
    "    if l!=frase[i]:\n",
    "        print(\"No se encontró en la posición\", i)\n",
    "        i+=1\n",
    "        continue\n",
    "    print(\"Se encontró en la posición\", i)\n",
    "    break"
   ]
  },
  {
   "cell_type": "markdown",
   "id": "4771e0c9",
   "metadata": {},
   "source": [
    "**<span style=\"color:blue\">Ejercicio 9</span>**. \n",
    "\n",
    "Crear un programa que permita al usuario ingresar los montos de las compras de un cliente (se desconoce la cantidad de datos que cargará, la cual puede cambiar en cada ejecución), cortando el ingreso de datos cuando el usuario ingrese el monto 0.\n",
    "Si ingresa un monto negativo, no se debe procesar y se debe pedir que ingrese un nuevo monto. Al finalizar, informar el total a pagar teniendo que cuenta que, si las ventas superan el total de $1000, se le debe aplicar un 10% de descuento."
   ]
  },
  {
   "cell_type": "code",
   "execution_count": 37,
   "id": "b9091721",
   "metadata": {
    "scrolled": true
   },
   "outputs": [
    {
     "name": "stdout",
     "output_type": "stream",
     "text": [
      "Monto de una venta: $100\n",
      "Monto de una venta: $200\n",
      "Monto de una venta: $400\n",
      "Monto de una venta: $123\n",
      "Monto de una venta: $252\n",
      "Monto de una venta: $4243\n",
      "Monto de una venta: $0\n",
      "Monto total a pagar: $ 4786.2\n"
     ]
    }
   ],
   "source": [
    "# Solución\n",
    "total = 0\n",
    "monto = float(input(\"Monto de una venta: $\"))\n",
    "while monto!=0:\n",
    "    if monto<0:\n",
    "        print(\"Monto no válido.\")\n",
    "    else:\n",
    "        total += monto\n",
    "    monto=float(input(\"Monto de una venta: $\"))\n",
    "if total>1000:\n",
    "    total -= total*0.1\n",
    "print(\"Monto total a pagar: $\", total)"
   ]
  },
  {
   "cell_type": "markdown",
   "id": "b00fa628",
   "metadata": {},
   "source": [
    "**<span style=\"color:blue\">Ejercicio 10</span>**. \n",
    "\n",
    "Crear un programa que solicite el ingreso de números enteros positivos, hasta que el usuario ingrese el 0. Por cada número, informar cuántos dígitos pares y cuántos impares tiene.\n",
    "Al finalizar, informar la cantidad de dígitos pares y de dígitos impares leídos en total."
   ]
  },
  {
   "cell_type": "code",
   "execution_count": 38,
   "id": "e8cd70a4",
   "metadata": {},
   "outputs": [
    {
     "name": "stdout",
     "output_type": "stream",
     "text": [
      "Ingrese un número entero positivo: 24225234\n",
      "El número ingresado tiene  6  digitos pares y  2  digitos impares\n",
      "Ingrese otro número entero positivo: 13213\n",
      "El número ingresado tiene  1  digitos pares y  4  digitos impares\n",
      "Ingrese otro número entero positivo: 1231\n",
      "El número ingresado tiene  1  digitos pares y  3  digitos impares\n",
      "Ingrese otro número entero positivo: 1231\n",
      "El número ingresado tiene  1  digitos pares y  3  digitos impares\n",
      "Ingrese otro número entero positivo: 25\n",
      "El número ingresado tiene  1  digitos pares y  1  digitos impares\n",
      "Ingrese otro número entero positivo: 64\n",
      "El número ingresado tiene  2  digitos pares y  0  digitos impares\n",
      "Ingrese otro número entero positivo: 0\n",
      "Total de dígitos pares: 12\n",
      "Total de dígitos impares: 13\n"
     ]
    }
   ],
   "source": [
    "numero = int(input(\"Ingrese un número entero positivo: \"))\n",
    "total_pares = 0\n",
    "total_impares = 0\n",
    "while numero!=0:\n",
    "    pares = 0\n",
    "    impares = 0\n",
    "    while numero!=0:   \n",
    "        ultimodigito = numero%10\n",
    "        if ultimodigito%2==0:\n",
    "            pares += 1\n",
    "            total_pares += 1\n",
    "        else:\n",
    "            impares += 1\n",
    "            total_impares += 1\n",
    "        numero = numero//10\n",
    "    print(\"El número ingresado tiene \",pares,\" digitos pares y \",impares,\" digitos impares\")\n",
    "    numero = int(input(\"Ingrese otro número entero positivo: \"))\n",
    "print(\"Total de dígitos pares:\", total_pares)\n",
    "print(\"Total de dígitos impares:\", total_impares)"
   ]
  },
  {
   "cell_type": "markdown",
   "id": "6321ebeb",
   "metadata": {},
   "source": [
    "**<span style=\"color:blue\">Ejercicio 11</span>**. \n",
    "\n",
    "Crear un programa que permita al usuario ingresar títulos de libros por teclado, finalizando el ingreso al leerse el string \"*\" (asterisco). \\\n",
    "Cada vez que el usuario ingrese un string de longitud 1 que contenga sólo una barra (\"/\") se considera que termina una línea. \\\n",
    "Por cada línea completa, informar cuántos dígitos numéricos (del 0 al 9) aparecieron en total (en todos los títulos de libros que componen en esa línea). \\\n",
    "Finalmente, informar cuántas líneas completas se ingresaron.\n",
    "\n",
    "**Ejemplo de ejecución:**\n",
    "\n",
    "```\n",
    "Libro: Los 3 mosqueteros\n",
    "Libro: Historia de 2 ciudades\n",
    "Libro: /\n",
    "Línea completa. Aparecen 2 dígitos numéricos.\n",
    "Libro: 20000 leguas de viaje submarino\n",
    "Libro: El señor de los anillos\n",
    "Libro: /\n",
    "Línea completa. Aparecen 5 dígitos numéricos.\n",
    "Libro: 20 años después\n",
    "Libro: *\n",
    "Fin. Se leyeron 2 líneas completas.\n",
    "```"
   ]
  },
  {
   "cell_type": "code",
   "execution_count": 40,
   "id": "f39cb91a",
   "metadata": {},
   "outputs": [
    {
     "name": "stdout",
     "output_type": "stream",
     "text": [
      "Ingrese el título de un libro: Los 3 mosqueteros\n",
      "Ingresé otro título de un libro: 100 años de soledad\n",
      "Ingresé otro título de un libro: /\n",
      "Aparecen  4  dígitos en la línea\n",
      "Ingresé otro título de un libro: 12 cuentos peregrinos\n",
      "Ingresé otro título de un libro: Historia de dos ciudades\n",
      "Ingresé otro título de un libro: /\n",
      "Aparecen  2  dígitos en la línea\n",
      "Ingresé otro título de un libro: Maze runner 1\n",
      "Ingresé otro título de un libro: Maze runner 2\n",
      "Ingresé otro título de un libro: Maze runner 3\n",
      "Ingresé otro título de un libro: /\n",
      "Aparecen  3  dígitos en la línea\n",
      "Ingresé otro título de un libro: *\n",
      "Se leyeron  3  líneas completas\n"
     ]
    }
   ],
   "source": [
    "# Solución\n",
    "lineas = 0\n",
    "digitos = \"0123456789\"\n",
    "cantidad_digitos = 0\n",
    "cadena = input(\"Ingrese el título de un libro: \")\n",
    "while cadena!=\"*\":\n",
    "    for caracter in cadena:\n",
    "        if caracter in digitos:\n",
    "            cantidad_digitos += 1\n",
    "    if cadena==\"/\":\n",
    "        lineas += 1\n",
    "        print(\"Aparecen \", cantidad_digitos, \" dígitos en la línea\")\n",
    "        cantidad_digitos=0\n",
    "    cadena = input(\"Ingresé otro título de un libro: \")\n",
    "if lineas == 1:\n",
    "    print(\"Se leyó\",lineas,\"línea completa\")\n",
    "else:\n",
    "    print(\"Se leyeron \",lineas,\" líneas completas\")"
   ]
  },
  {
   "cell_type": "markdown",
   "id": "f4bdb752",
   "metadata": {},
   "source": [
    "**<span style=\"color:blue\">Ejercicio 12</span>**. \n",
    "\n",
    "Escribir un programa que solicite el ingreso de una cantidad indeterminada de números mayores que 1, finalizando cuando se reciba un cero. Imprimir la cantidad de números primos ingresados."
   ]
  },
  {
   "cell_type": "code",
   "execution_count": 41,
   "id": "2236b7cd",
   "metadata": {},
   "outputs": [
    {
     "name": "stdout",
     "output_type": "stream",
     "text": [
      "Ingrese un número mayor que 1: 3\n",
      "Ingrese otro número mayor que 1: 53\n",
      "Ingrese otro número mayor que 1: 234\n",
      "Ingrese otro número mayor que 1: 634\n",
      "Ingrese otro número mayor que 1: 23\n",
      "Ingrese otro número mayor que 1: 456\n",
      "Ingrese otro número mayor que 1: 345\n",
      "Ingrese otro número mayor que 1: 0\n",
      "Cantidad de números primos ingresados: 3\n"
     ]
    }
   ],
   "source": [
    "# Solución\n",
    "cantidad = 0\n",
    "n = int(input(\"Ingrese un número mayor que 1: \"))\n",
    "while n!=0:\n",
    "    primo = True\n",
    "    for i in range(2,n):\n",
    "        if n%i==0:\n",
    "            primo = False\n",
    "            break\n",
    "    if primo:\n",
    "        cantidad += 1\n",
    "    n = int(input(\"Ingrese otro número mayor que 1: \"))\n",
    "print(\"Cantidad de números primos ingresados:\", cantidad)"
   ]
  }
 ],
 "metadata": {
  "kernelspec": {
   "display_name": "Python 3",
   "language": "python",
   "name": "python3"
  },
  "language_info": {
   "codemirror_mode": {
    "name": "ipython",
    "version": 3
   },
   "file_extension": ".py",
   "mimetype": "text/x-python",
   "name": "python",
   "nbconvert_exporter": "python",
   "pygments_lexer": "ipython3",
   "version": "3.8.8"
  }
 },
 "nbformat": 4,
 "nbformat_minor": 5
}

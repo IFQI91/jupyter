{
 "cells": [
  {
   "cell_type": "markdown",
   "id": "2a50f8f1",
   "metadata": {},
   "source": [
    "# **<span style=\"color:red\">Taller: Introducción a la programación en Python</span>**\n",
    "\n",
    "#  **<span style=\"color:blue\">Control de flujo. Sentencias condicionales</span>**"
   ]
  },
  {
   "cell_type": "markdown",
   "id": "bcd14389",
   "metadata": {},
   "source": [
    "Si un programa no fuera más que una lista de órdenes a ejecutar de forma secuencial, una por una, no tendría mucha utilidad. Los **condicionales** nos permiten comprobar condiciones y hacer que nuestro programa se comporte de una forma u otra, que ejecute un fragmento de código u otro, dependiendo de esta condición."
   ]
  },
  {
   "cell_type": "markdown",
   "id": "d6948861",
   "metadata": {},
   "source": [
    "Aquí es donde cobran su importancia el **tipo booleano** y los **operadores lógicos y relacionales** que aprendimos en el archivo *C03. Tipos básicos*."
   ]
  },
  {
   "cell_type": "markdown",
   "id": "6031841d",
   "metadata": {},
   "source": [
    "##  **<span style=\"color:blue\">if</span>**"
   ]
  },
  {
   "cell_type": "markdown",
   "id": "7b893794",
   "metadata": {},
   "source": [
    "La forma más simple de un estamento condicional es un **if** (*del inglés si*) seguido de la condición a evaluar, dos puntos (:) y en la siguiente línea e indentado, el código a ejecutar en caso de que se cumpla dicha condición."
   ]
  },
  {
   "cell_type": "markdown",
   "id": "520cd5bb",
   "metadata": {},
   "source": [
    "Por ejemplo, creemos un programa que pregunte al usuario por su serie favorita, la almacene en `fav`, si la serie ingresada por el usuario es \"*La casa de papel*\" que el programa imprima que \"*¡Tienes buen gusto!*\" y \"*Gracias*\"."
   ]
  },
  {
   "cell_type": "code",
   "execution_count": null,
   "id": "8fe274fe",
   "metadata": {},
   "outputs": [],
   "source": []
  },
  {
   "cell_type": "markdown",
   "id": "d370c1bf",
   "metadata": {},
   "source": [
    "Como podemos ver es **bastante sencillo**."
   ]
  },
  {
   "cell_type": "markdown",
   "id": "82b31f4d",
   "metadata": {},
   "source": [
    "Eso si, hay que asegurarnos de hacer una correcta **identación** del código tal cual se ha hecho en el ejemplo anterior, es decir, hay que asegurarnos de pulsar **Tabulación** antes de las dos órdenes **print**, dado que esta es la forma de Python de saber que nuestra intención es la de que los dos print se ejecuten sólo en el caso de que se cumpla la condición, y no la de que se imprima la primera cadena si se cumple la condición y la otra siempre, cosa que se expresaría así:"
   ]
  },
  {
   "cell_type": "code",
   "execution_count": null,
   "id": "de258fb6",
   "metadata": {},
   "outputs": [],
   "source": []
  },
  {
   "cell_type": "markdown",
   "id": "100e1834",
   "metadata": {},
   "source": [
    "En otros lenguajes de programación los bloques de código se determinan encerrándolos entre llaves, y el indentarlos no se trata más que de una buena práctica para que sea más sencillo seguir el flujo del programa con un solo golpe de vista. Por ejemplo, el código anterior expresado en R sería algo así:"
   ]
  },
  {
   "cell_type": "code",
   "execution_count": null,
   "id": "4647e353",
   "metadata": {},
   "outputs": [],
   "source": []
  },
  {
   "cell_type": "markdown",
   "id": "65443994",
   "metadata": {},
   "source": [
    "Sin embargo, como ya hemos comentado, en Python se trata de una **obligación**, y no de una elección. De esta forma se obliga a los programadores a indentar su código para que sea más sencillo de leer :)"
   ]
  },
  {
   "cell_type": "markdown",
   "id": "1bbf206c",
   "metadata": {},
   "source": [
    "Veamos otro ejemplo del uso básico del condicional *if*. Creemos un programa que pida al usuario una calificación entre 0 y 10 e imprima si aprobó o reprobó. "
   ]
  },
  {
   "cell_type": "code",
   "execution_count": null,
   "id": "8ea394a4",
   "metadata": {
    "scrolled": true
   },
   "outputs": [],
   "source": []
  },
  {
   "cell_type": "markdown",
   "id": "845ce583",
   "metadata": {},
   "source": [
    "**Nota**: Las variables sólo existen dentro de su ámbito, fuera de su ámbito las variables no son alcanzables, i.e. no se pueden manipular ni leer."
   ]
  },
  {
   "cell_type": "markdown",
   "id": "45d693e6",
   "metadata": {},
   "source": [
    "##  **<span style=\"color:blue\">if ... else</span>**"
   ]
  },
  {
   "cell_type": "markdown",
   "id": "359fe959",
   "metadata": {},
   "source": [
    "Vamos a ver ahora un condicional algo más complicado. Regresando al ejemplo de \"La casa de papel\" *¿Qué haríamos si quisiéramos que se ejecutaran unas ciertas órdenes en el caso de que la condición no se cumpliera?* Sin duda podríamos añadir otro if que tuviera como condición la negación del primero:"
   ]
  },
  {
   "cell_type": "code",
   "execution_count": null,
   "id": "dae186fd",
   "metadata": {},
   "outputs": [],
   "source": []
  },
  {
   "cell_type": "markdown",
   "id": "1fb815b2",
   "metadata": {},
   "source": [
    "pero el condicional tiene una segunda construcción mucho más útil:"
   ]
  },
  {
   "cell_type": "code",
   "execution_count": null,
   "id": "8bdf52cd",
   "metadata": {},
   "outputs": [],
   "source": []
  },
  {
   "cell_type": "markdown",
   "id": "b08a2f02",
   "metadata": {},
   "source": [
    "Vemos que la segunda condición se puede sustituir con un else (*del inglés: si no, en caso contrario*). Si leemos el código vemos que tiene bastante sentido: \"*si fav es igual a La casa de papel, imprime esto y esto, si no, imprime esto otro*\"."
   ]
  },
  {
   "cell_type": "markdown",
   "id": "584088d5",
   "metadata": {},
   "source": [
    "Veamos otro ejemplo: vamos a crear un programa que controle el acceso a un lugar, el programa le pedirá la edad al usuario y si es menor de 18 que imprima un mensaje diciéndole que no puede pasar porque es menor de edad, y si tiene 18 o más que le diga al usuario que sí puede pasar."
   ]
  },
  {
   "cell_type": "code",
   "execution_count": null,
   "id": "b2a5b3af",
   "metadata": {},
   "outputs": [],
   "source": []
  },
  {
   "cell_type": "markdown",
   "id": "3733acf7",
   "metadata": {},
   "source": [
    "##  **<span style=\"color:blue\">if ... elif ... elif ... else</span>**"
   ]
  },
  {
   "cell_type": "markdown",
   "id": "33d07956",
   "metadata": {},
   "source": [
    "Todavía queda una construcción más que ver, que es la que hace uso del **elif**."
   ]
  },
  {
   "cell_type": "markdown",
   "id": "f8980cee",
   "metadata": {},
   "source": [
    "Vamos a crear un programa que pida al usuario un número e imprima si es negativo, positivo o cero. Haciendo uso de *if* y *else* unicamente, y después haciendo uso de *if ... elif ... elif ... else*."
   ]
  },
  {
   "cell_type": "code",
   "execution_count": null,
   "id": "db0b4f5f",
   "metadata": {},
   "outputs": [],
   "source": []
  },
  {
   "cell_type": "markdown",
   "id": "3aa4364e",
   "metadata": {},
   "source": [
    "Ahora usando *if ... elif ... elif ... else*, notemos que es mucho más sencillo."
   ]
  },
  {
   "cell_type": "code",
   "execution_count": null,
   "id": "5fc61c1c",
   "metadata": {},
   "outputs": [],
   "source": []
  },
  {
   "cell_type": "markdown",
   "id": "4b6caaa8",
   "metadata": {},
   "source": [
    "**elif** es una contracción de **else if**, por lo tanto **elif** numero > 0 puede leerse como \"*si no, si numero es mayor que 0*\". \n",
    "\n",
    "Es decir, primero se evalúa la condición del *if*. Si es cierta, se ejecuta su código y se continúa ejecutando el código posterior al condicional; si no se cumple, se evalúa la condición del *elif*. Si se cumple la condición del *elif* se ejecuta su código y se continua ejecutando el código posterior al condicional; si no se cumple y hay más de un *elif* se continúa con el siguiente en orden de aparición. Si no se cumple la condición del *if* ni de ninguno de los *elif*, se ejecuta el código del *else*."
   ]
  },
  {
   "cell_type": "markdown",
   "id": "b29bd963",
   "metadata": {},
   "source": [
    "Volvamos al ejemplo en el que se pedia al usuario una calificación entre 0 y 10 e se imprimia si aprobó o reprobó. Pero ahora sin decirle al usuario que la calificación debe estar entre 0 y 10. Y en dado caso que el usuario insertara una calificación menor que 0, que el programa imprima un mensaje diciendo que la calificación debe ser mayor que 0 y si el usuario inserta una calificación mayor que 10, que el programa imprima un mensaje diciendo que la calificación deber ser menor que 10."
   ]
  },
  {
   "cell_type": "code",
   "execution_count": null,
   "id": "859c033b",
   "metadata": {},
   "outputs": [],
   "source": []
  },
  {
   "cell_type": "markdown",
   "id": "d0311c42",
   "metadata": {},
   "source": [
    "**Ejercicio:** modificar el programa anterior para que en caso de que la calificación esté entre 6.6 y 10 no diga aprobado, sino que imprima un mensaje para los siguientes rangos:\n",
    "- 6.6 <= calificacion < 8: Suficiente.\n",
    "- 8 <= calificacion < 9: Bien\n",
    "- 9 <= calificacion < 10: Notable\n",
    "- calificacion = 10: Sobresaliente"
   ]
  },
  {
   "cell_type": "code",
   "execution_count": null,
   "id": "9ba51d65",
   "metadata": {},
   "outputs": [],
   "source": []
  },
  {
   "cell_type": "markdown",
   "id": "fb9a461d",
   "metadata": {},
   "source": [
    "##  **<span style=\"color:blue\">A if C else B</span>**"
   ]
  },
  {
   "cell_type": "markdown",
   "id": "c194b29b",
   "metadata": {},
   "source": [
    "También existe la construcción **A if C else B**, que no es más que una forma compacta de expresar un *if else*. En esta construcción se evalúa el predicado *C* y se devuelve *A* si se cumple o *B* si no se cumple. "
   ]
  },
  {
   "cell_type": "markdown",
   "id": "d6adfdf8",
   "metadata": {},
   "source": [
    "Veamos un ejemplo de esta construcción. Creemos un programa que pide al usuario un número entero positivo e imprime si este número es par o impar. Resolvamos esto usando if ... else y después con la construcción **A if C else B**."
   ]
  },
  {
   "cell_type": "code",
   "execution_count": null,
   "id": "301a7bef",
   "metadata": {},
   "outputs": [],
   "source": []
  },
  {
   "cell_type": "code",
   "execution_count": null,
   "id": "aa2ea928",
   "metadata": {
    "scrolled": true
   },
   "outputs": [],
   "source": []
  },
  {
   "cell_type": "markdown",
   "id": "a64564a5",
   "metadata": {},
   "source": [
    "Hay tres cosas más por comentar en este tema de sentencias condicionales.\n",
    "+ Concatenación de operadores de comparación.\n",
    "+ Operadores lógicos and y or\n",
    "+ Operador in"
   ]
  },
  {
   "cell_type": "markdown",
   "id": "a4ad5fd1",
   "metadata": {},
   "source": [
    "**Concatenación de operadores de comparación**"
   ]
  },
  {
   "cell_type": "markdown",
   "id": "7737a990",
   "metadata": {},
   "source": [
    "Podemos concatenar operadores de comparación en una misma condición. Veamos un ejemplo."
   ]
  },
  {
   "cell_type": "markdown",
   "id": "66543847",
   "metadata": {},
   "source": [
    "Creemos un programa que pida la edad a un usuario, si la edad introducida está entre 0 y 100 que el programa diga que la edad es correcta, de otro modo que diga que la edad es incorrecta."
   ]
  },
  {
   "cell_type": "code",
   "execution_count": null,
   "id": "ec0133a0",
   "metadata": {
    "scrolled": true
   },
   "outputs": [],
   "source": []
  },
  {
   "cell_type": "markdown",
   "id": "81360bcf",
   "metadata": {},
   "source": [
    "**Ejercicio:** Cree un programa que evalúe los salarios de una serie de personas que trabajan en una empresa. El programa debe pedir al usuario cuál es el salario del presidente de la empresa, del director, el de un jefe de área y el de un administrativo. Si el sueldo del presidente es el más alto, el del director el segundo, el del jefe de área el tercero y el del administrativo el cuarto, entonces debe imprimir que todo funciona correctamente. De lo contrario debe imprimir un mensaje diciendo que algo anda mal."
   ]
  },
  {
   "cell_type": "code",
   "execution_count": null,
   "id": "f9238f77",
   "metadata": {
    "scrolled": true
   },
   "outputs": [],
   "source": []
  },
  {
   "cell_type": "markdown",
   "id": "f7bacd14",
   "metadata": {},
   "source": [
    "**Operadores lógicos and y or**"
   ]
  },
  {
   "cell_type": "markdown",
   "id": "80d03109",
   "metadata": {},
   "source": [
    "Vamos a crear un programa que evalue si un alumno tiene derecho a beca o no tiene derecho a beca. Lo primero que hará el programa será pedir al usurio la siguiente información:\n",
    "+ distancia a la que vive el alumno del colegio\n",
    "+ número de hermanos \n",
    "+ salario familiar\n",
    "justo después de que el usuario introduzca cada punto, imprimir en pantalla la información.\n",
    "\n",
    "Finalmente, si el alumno cumple con los siguientes 3 requisitos:\n",
    "+ distancia a la que vive el alumno del colegio > 40 km\n",
    "+ número de hermanos > 3\n",
    "+ salario familiar <= 10,000\n",
    "el programa debe imprimir un mensaje diciendo que el alumno tiene derecho a beca. De lo contrario, imprimir un mensaje diciendo que el alumno no tiene derecho a beca."
   ]
  },
  {
   "cell_type": "code",
   "execution_count": null,
   "id": "0c5a4042",
   "metadata": {},
   "outputs": [],
   "source": []
  },
  {
   "cell_type": "markdown",
   "id": "c4312440",
   "metadata": {},
   "source": [
    "**Ejercicio:** Modifique el programa anterior para que la beca se le de a los alumnos que cumplan los dos primeros requisitos o que cumplan el tercero."
   ]
  },
  {
   "cell_type": "code",
   "execution_count": null,
   "id": "7d453138",
   "metadata": {},
   "outputs": [],
   "source": []
  },
  {
   "cell_type": "markdown",
   "id": "5fe2c16e",
   "metadata": {},
   "source": [
    "**Operador in**"
   ]
  },
  {
   "cell_type": "markdown",
   "id": "4c0b45bf",
   "metadata": {},
   "source": [
    "Vamos a crear un programa que le pregunte a un alumno su nombre y una matería optativa que desee cursar entre un listado previamente definido, si el alumno elige una materia que esté en la lista el programa imprimirá `<nombre_alumno> elegiste <materia> como tu optativa`, si la matería elegida no está en la lista el programa imprimirá `<nombre_alumno>, <materia_elegida> no está en la lista de optativas`"
   ]
  },
  {
   "cell_type": "code",
   "execution_count": null,
   "id": "9506db28",
   "metadata": {},
   "outputs": [],
   "source": []
  },
  {
   "cell_type": "markdown",
   "id": "76fd4c9d",
   "metadata": {},
   "source": [
    "**Ejercicio:** Crea un programa que pida dos números por teclado. El programa debe imprimir el número más alto de los dos introducidos."
   ]
  },
  {
   "cell_type": "code",
   "execution_count": null,
   "id": "2effe975",
   "metadata": {},
   "outputs": [],
   "source": []
  },
  {
   "cell_type": "markdown",
   "id": "8cddc860",
   "metadata": {},
   "source": [
    "**Ejercicio:** Escriba un programa que pida al usuario un día de la semana e imprima si estamos en fin de semana o no. "
   ]
  },
  {
   "cell_type": "code",
   "execution_count": null,
   "id": "63307296",
   "metadata": {},
   "outputs": [],
   "source": []
  },
  {
   "cell_type": "markdown",
   "id": "4d540e8f",
   "metadata": {},
   "source": [
    "**Ejercicio:** Escriba un programa que resuelva ecuaciones de segundo grado. Primero debe pedir al usuario los valores de *a*, *b* y *c* y después decir si la ecuación cuadrática $$ax^2+bx+c=0$$ tiene 2, 1 o ninguna solución y que imprima las soluciones."
   ]
  },
  {
   "cell_type": "code",
   "execution_count": null,
   "id": "bc2b701d",
   "metadata": {},
   "outputs": [],
   "source": []
  },
  {
   "cell_type": "markdown",
   "id": "b7d0fb39",
   "metadata": {},
   "source": [
    "**Ejercicio:** Modifique el programa anterior para que en caso de que la ecuación no tenga solución, de las soluciones en la forma: \"a+bi\""
   ]
  },
  {
   "cell_type": "code",
   "execution_count": null,
   "id": "841fe72c",
   "metadata": {},
   "outputs": [],
   "source": []
  },
  {
   "cell_type": "markdown",
   "id": "6ad98bb2",
   "metadata": {},
   "source": [
    "Y eso es todo. Si alguno de nosotros conoce otros lenguajes de programación puede que estén esperando que se hable acerca del **switch**, pero en Python no existe esta construcción, que podría emularse con un simple diccionario, así que pasemos directamente a los bucles."
   ]
  }
 ],
 "metadata": {
  "kernelspec": {
   "display_name": "Python 3",
   "language": "python",
   "name": "python3"
  },
  "language_info": {
   "codemirror_mode": {
    "name": "ipython",
    "version": 3
   },
   "file_extension": ".py",
   "mimetype": "text/x-python",
   "name": "python",
   "nbconvert_exporter": "python",
   "pygments_lexer": "ipython3",
   "version": "3.8.8"
  }
 },
 "nbformat": 4,
 "nbformat_minor": 5
}

{
 "cells": [
  {
   "cell_type": "markdown",
   "id": "2a50f8f1",
   "metadata": {},
   "source": [
    "# **<span style=\"color:red\">Taller: Introducción a la programación en Python</span>**\n",
    "\n",
    "#  **<span style=\"color:blue\">Control de flujo. Bucle while</span>**"
   ]
  },
  {
   "cell_type": "markdown",
   "id": "dbe0f366",
   "metadata": {},
   "source": [
    "Reocordemos que existen dos tipos de bucles:\n",
    "+ **Determinados**\n",
    " - Se ejecutan un número determinado de veces.\n",
    " - Se sabe a priori cuantas veces se va a ejecutar el código al interior del bucle.\n",
    "+ **Indeterminados**\n",
    " - Se ejecutan un número indeterminado de veces.\n",
    " - No se sabe a priori cuantas veces se va a ejecutar el código del interior del bucle. \n",
    " - El número de veces que se ejecutará dependerá de las circunstancias durante la ejecución del programa."
   ]
  },
  {
   "cell_type": "markdown",
   "id": "c739f478",
   "metadata": {},
   "source": [
    "En el archivo pasado vimos el *bucle for* (bucle determinado), ahora veremos al *bucle while* (bucle indeterminado)."
   ]
  },
  {
   "cell_type": "markdown",
   "id": "6031841d",
   "metadata": {},
   "source": [
    "##  **<span style=\"color:blue\">while</span>**"
   ]
  },
  {
   "cell_type": "markdown",
   "id": "9a67ad46",
   "metadata": {},
   "source": [
    "El bucle **while** (mientras) ejecuta un fragmento de código mientras se cumpla una condición. Veamos esto en un ejemplo, donde el programa imprima un mensaje de felicitación cada que cumplamos un año. "
   ]
  },
  {
   "cell_type": "code",
   "execution_count": null,
   "id": "89dc06a8",
   "metadata": {
    "scrolled": true
   },
   "outputs": [],
   "source": []
  },
  {
   "cell_type": "markdown",
   "id": "6723d450",
   "metadata": {},
   "source": [
    "La variable *edad* comienza valiendo *0*. Como la condición de que edad es menor que *18* es cierta (*0* es menor que *18*), se entra en el bucle. Se aumenta edad en *1* y se imprime el mensaje informando de que el usuario ha cumplido un año. "
   ]
  },
  {
   "cell_type": "markdown",
   "id": "0b2b79af",
   "metadata": {},
   "source": [
    "Ahora se vuelve a evaluar la condición, y *1* sigue siendo menor que *18*, por lo que se vuelve a ejecutar el código que aumenta la *edad* en un año e imprime la edad en la pantalla. "
   ]
  },
  {
   "cell_type": "markdown",
   "id": "afce8821",
   "metadata": {},
   "source": [
    "El *bucle* continuará ejecutándose hasta que edad sea igual a *18*, momento en el cual la condición dejará de cumplirse y el programa continuaría ejecutando las instrucciones siguientes al bucle."
   ]
  },
  {
   "cell_type": "markdown",
   "id": "6915953c",
   "metadata": {},
   "source": [
    "Ahora imaginemos que se nos olvidara escribir la instrucción que aumenta la *edad*. En ese caso nunca se llegaría a la condición de que *edad* fuese igual o mayor que *18*, siempre sería *0*, y el bucle continuaría indefinidamente escribiendo en pantalla \"Felicidades, tienes 0\". "
   ]
  },
  {
   "cell_type": "code",
   "execution_count": null,
   "id": "892a52a9",
   "metadata": {},
   "outputs": [],
   "source": []
  },
  {
   "cell_type": "markdown",
   "id": "a5bf59d3",
   "metadata": {},
   "source": [
    "*Esto es lo que se conoce como un bucle infinito*."
   ]
  },
  {
   "cell_type": "markdown",
   "id": "97c1402b",
   "metadata": {},
   "source": [
    "Sin embargo hay situaciones en las que un **bucle infinito es útil**. Por ejemplo, veamos un pequeño programa que repite todo lo que el usuario diga hasta que escriba adios."
   ]
  },
  {
   "cell_type": "code",
   "execution_count": null,
   "id": "734b768f",
   "metadata": {},
   "outputs": [],
   "source": []
  },
  {
   "cell_type": "markdown",
   "id": "14f60032",
   "metadata": {},
   "source": [
    "Comprobamos entonces si lo que escribió el usuario fue \"adiós\", en cuyo caso se ejecuta la orden *break* o si era cualquier otra cosa, en cuyo caso se imprime en pantalla lo que el usuario escribió."
   ]
  },
  {
   "cell_type": "markdown",
   "id": "3c2b3e1f",
   "metadata": {},
   "source": [
    "La palabra clave **break** (romper) sale del bucle en el que estamos."
   ]
  },
  {
   "cell_type": "markdown",
   "id": "d4de9a2a",
   "metadata": {},
   "source": [
    "Este bucle se podría haber escrito también, no obstante, de la siguiente forma:"
   ]
  },
  {
   "cell_type": "code",
   "execution_count": null,
   "id": "ff56e5da",
   "metadata": {
    "scrolled": false
   },
   "outputs": [],
   "source": []
  },
  {
   "cell_type": "markdown",
   "id": "0d478273",
   "metadata": {},
   "source": [
    "pero nos ha servido para ver cómo funciona *break*."
   ]
  },
  {
   "cell_type": "markdown",
   "id": "878f39c9",
   "metadata": {},
   "source": [
    "También podemos usar la palabra clave **continue** dentro de un **ciclo while**. Regresemos al ejemplo donde se imprima un mensaje de felicitación cada que cumplamos un año, usemos *continue* para que el mensaje se imprima sólo si cumple una edad impar. "
   ]
  },
  {
   "cell_type": "code",
   "execution_count": null,
   "id": "b4804ad5",
   "metadata": {},
   "outputs": [],
   "source": []
  },
  {
   "cell_type": "markdown",
   "id": "b19c45ea",
   "metadata": {},
   "source": [
    "Como vemos esta es una pequeña modificación de nuestro programa de felicitaciones. En esta ocasión hemos añadido un *if* que comprueba *si la edad es par*, en cuyo caso saltamos a la próxima iteración en lugar de imprimir el mensaje. Es decir, con esta modificación el programa sólo imprimiría felicitaciones cuando la edad fuera impar."
   ]
  },
  {
   "cell_type": "markdown",
   "id": "cabb893f",
   "metadata": {},
   "source": [
    "Y eso es todo lo que debemos saber sobre el ciclo while. Veamos un par de ejemplos más."
   ]
  },
  {
   "cell_type": "markdown",
   "id": "935b6db3",
   "metadata": {},
   "source": [
    "**Ejemplo:** Vamos a construir un programa que nos pregunte la edad, y si introducimos una edad negativa que nos imprima un mensaje diciendo que introduzcamos una edad positiva y que nos vuelva a preguntar la edad."
   ]
  },
  {
   "cell_type": "code",
   "execution_count": null,
   "id": "f6316fb4",
   "metadata": {},
   "outputs": [],
   "source": []
  },
  {
   "cell_type": "code",
   "execution_count": null,
   "id": "baf038de",
   "metadata": {},
   "outputs": [],
   "source": []
  },
  {
   "cell_type": "markdown",
   "id": "be83fa51",
   "metadata": {},
   "source": [
    "**Ejemplo:** Modifiquemos el programa anterior para que en caso de que la edad sea menor que 5 o mayor que 100, imprima un mensaje diciendo: `Has introducido una edad incorrecta. Introduce una edad entre 5 y 100`. "
   ]
  },
  {
   "cell_type": "code",
   "execution_count": null,
   "id": "3777a51b",
   "metadata": {},
   "outputs": [],
   "source": []
  },
  {
   "cell_type": "markdown",
   "id": "7c8f45ed",
   "metadata": {},
   "source": [
    "**Ejercicio**: Modificar el programa anterior para que en caso de que el usurio se empeñe en introducir una edad que no está entre cero y cien el bucle no se vuelva infinito, i.e. si el usuario inserta 3 veces la edad de manera incorrecta imprimir los mensajes `Has agotado los intentos` y `El programa ha finalizado` y detener el programa."
   ]
  },
  {
   "cell_type": "code",
   "execution_count": null,
   "id": "a4dcac32",
   "metadata": {},
   "outputs": [],
   "source": []
  },
  {
   "cell_type": "markdown",
   "id": "8c9d41f5",
   "metadata": {},
   "source": [
    "**Ejercicio:** Crear programa que pida un número al usuario e imprima `La raiz cuadra de <numero> es <raiz_numero>`, donde *\\<raiz_numero\\>* es la raiz cuadrada de *\\<numero\\>*. En caso de que el usuario inserte un número negativo mandar el mensaje `No existen raices cuadradas de número negativos` y pedir un número nuevamente. Si el usuario inserta 3 veces un número negativo, imprimir los mensajes `Has agotado los intentos` y `El programa ha finalizado` y detener el programa."
   ]
  },
  {
   "cell_type": "code",
   "execution_count": null,
   "id": "af04c7d7",
   "metadata": {
    "scrolled": true
   },
   "outputs": [],
   "source": []
  },
  {
   "cell_type": "markdown",
   "id": "afa9cdf1",
   "metadata": {},
   "source": [
    "**Ejercicio:** Crear un programa que pida números infinitamente. Los números introducidos deben ser cada vez mayores. El programa finalizará cuando se introduce un número menor que el anterior."
   ]
  },
  {
   "cell_type": "code",
   "execution_count": null,
   "id": "8f218a7f",
   "metadata": {
    "scrolled": true
   },
   "outputs": [],
   "source": []
  },
  {
   "cell_type": "markdown",
   "id": "3a9c5511",
   "metadata": {},
   "source": [
    "**Ejercicio:** Crear un programa que pida números positivos indefinidamente. El programa termina cuando se introduce un número negativo. Finalmente el programa muestras la suma de todos los números positivos introducidos."
   ]
  },
  {
   "cell_type": "code",
   "execution_count": null,
   "id": "a11dd9a9",
   "metadata": {
    "scrolled": false
   },
   "outputs": [],
   "source": []
  }
 ],
 "metadata": {
  "kernelspec": {
   "display_name": "Python 3",
   "language": "python",
   "name": "python3"
  },
  "language_info": {
   "codemirror_mode": {
    "name": "ipython",
    "version": 3
   },
   "file_extension": ".py",
   "mimetype": "text/x-python",
   "name": "python",
   "nbconvert_exporter": "python",
   "pygments_lexer": "ipython3",
   "version": "3.8.8"
  }
 },
 "nbformat": 4,
 "nbformat_minor": 5
}

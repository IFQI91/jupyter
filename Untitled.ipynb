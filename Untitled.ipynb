{
 "cells": [
  {
   "cell_type": "code",
   "execution_count": 1,
   "id": "2afd65f6-ca79-49a3-bc42-097c7f1072c0",
   "metadata": {},
   "outputs": [
    {
     "name": "stdout",
     "output_type": "stream",
     "text": [
      "Defaulting to user installation because normal site-packages is not writeable\n",
      "Collecting jupyterlab-git\n",
      "  Downloading jupyterlab_git-0.39.3-py3-none-any.whl (1.2 MB)\n",
      "\u001b[2K     \u001b[38;2;114;156;31m━━━━━━━━━━━━━━━━━━━━━━━━━━━━━━━━━━━━━━━━\u001b[0m \u001b[32m1.2/1.2 MB\u001b[0m \u001b[31m1.3 MB/s\u001b[0m eta \u001b[36m0:00:00\u001b[0mm eta \u001b[36m0:00:01\u001b[0m[36m0:00:01\u001b[0m0m\n",
      "\u001b[?25hRequirement already satisfied: jupyter-server in /home/ifqi91/.local/lib/python3.10/site-packages (from jupyterlab-git) (1.19.1)\n",
      "Requirement already satisfied: nbformat in /home/ifqi91/.local/lib/python3.10/site-packages (from jupyterlab-git) (5.6.1)\n",
      "Collecting nbdime~=3.1\n",
      "  Downloading nbdime-3.1.1-py2.py3-none-any.whl (5.3 MB)\n",
      "\u001b[2K     \u001b[38;2;114;156;31m━━━━━━━━━━━━━━━━━━━━━━━━━━━━━━━━━━━━━━━━\u001b[0m \u001b[32m5.3/5.3 MB\u001b[0m \u001b[31m2.5 MB/s\u001b[0m eta \u001b[36m0:00:00\u001b[0mm eta \u001b[36m0:00:01\u001b[0m0:01\u001b[0m:01\u001b[0m\n",
      "\u001b[?25hRequirement already satisfied: pexpect in /usr/lib/python3/dist-packages (from jupyterlab-git) (4.8.0)\n",
      "Requirement already satisfied: traitlets~=5.0 in /home/ifqi91/.local/lib/python3.10/site-packages (from jupyterlab-git) (5.4.0)\n",
      "Requirement already satisfied: packaging in /usr/lib/python3/dist-packages (from jupyterlab-git) (21.3)\n",
      "Requirement already satisfied: jinja2>=2.9 in /usr/lib/python3/dist-packages (from nbdime~=3.1->jupyterlab-git) (3.0.3)\n",
      "Requirement already satisfied: colorama in /usr/lib/python3/dist-packages (from nbdime~=3.1->jupyterlab-git) (0.4.5)\n",
      "Collecting GitPython!=2.1.4,!=2.1.5,!=2.1.6\n",
      "  Downloading GitPython-3.1.29-py3-none-any.whl (182 kB)\n",
      "\u001b[2K     \u001b[38;2;114;156;31m━━━━━━━━━━━━━━━━━━━━━━━━━━━━━━━━━━━━━━━\u001b[0m \u001b[32m182.5/182.5 kB\u001b[0m \u001b[31m2.0 MB/s\u001b[0m eta \u001b[36m0:00:00\u001b[0m MB/s\u001b[0m eta \u001b[36m0:00:01\u001b[0m\n",
      "\u001b[?25hRequirement already satisfied: tornado in /home/ifqi91/.local/lib/python3.10/site-packages (from nbdime~=3.1->jupyterlab-git) (6.1)\n",
      "Collecting jupyter-server-mathjax>=0.2.2\n",
      "  Downloading jupyter_server_mathjax-0.2.6-py3-none-any.whl (3.1 MB)\n",
      "\u001b[2K     \u001b[38;2;114;156;31m━━━━━━━━━━━━━━━━━━━━━━━━━━━━━━━━━━━━━━━━\u001b[0m \u001b[32m3.1/3.1 MB\u001b[0m \u001b[31m2.7 MB/s\u001b[0m eta \u001b[36m0:00:00\u001b[0mm eta \u001b[36m0:00:01\u001b[0m[36m0:00:01\u001b[0m\n",
      "\u001b[?25hRequirement already satisfied: pygments in /usr/lib/python3/dist-packages (from nbdime~=3.1->jupyterlab-git) (2.12.0)\n",
      "Requirement already satisfied: requests in /usr/lib/python3/dist-packages (from nbdime~=3.1->jupyterlab-git) (2.27.1)\n",
      "Requirement already satisfied: argon2-cffi in /home/ifqi91/.local/lib/python3.10/site-packages (from jupyter-server->jupyterlab-git) (21.3.0)\n",
      "Requirement already satisfied: pyzmq>=17 in /home/ifqi91/.local/lib/python3.10/site-packages (from jupyter-server->jupyterlab-git) (24.0.1)\n",
      "Requirement already satisfied: nbconvert>=6.4.4 in /home/ifqi91/.local/lib/python3.10/site-packages (from jupyter-server->jupyterlab-git) (7.0.0)\n",
      "Requirement already satisfied: websocket-client in /home/ifqi91/.local/lib/python3.10/site-packages (from jupyter-server->jupyterlab-git) (1.4.1)\n",
      "Requirement already satisfied: prometheus-client in /home/ifqi91/.local/lib/python3.10/site-packages (from jupyter-server->jupyterlab-git) (0.14.1)\n",
      "Requirement already satisfied: jupyter-client>=6.1.12 in /home/ifqi91/.local/lib/python3.10/site-packages (from jupyter-server->jupyterlab-git) (7.4.4)\n",
      "Requirement already satisfied: anyio<4,>=3.1.0 in /home/ifqi91/.local/lib/python3.10/site-packages (from jupyter-server->jupyterlab-git) (3.6.1)\n",
      "Requirement already satisfied: Send2Trash in /home/ifqi91/.local/lib/python3.10/site-packages (from jupyter-server->jupyterlab-git) (1.8.0)\n",
      "Requirement already satisfied: terminado>=0.8.3 in /home/ifqi91/.local/lib/python3.10/site-packages (from jupyter-server->jupyterlab-git) (0.16.0)\n",
      "Requirement already satisfied: jupyter-core>=4.7.0 in /home/ifqi91/.local/lib/python3.10/site-packages (from jupyter-server->jupyterlab-git) (4.11.2)\n",
      "Requirement already satisfied: jsonschema>=2.6 in /usr/lib/python3/dist-packages (from nbformat->jupyterlab-git) (4.6.0)\n",
      "Requirement already satisfied: fastjsonschema in /home/ifqi91/.local/lib/python3.10/site-packages (from nbformat->jupyterlab-git) (2.16.2)\n",
      "Requirement already satisfied: idna>=2.8 in /usr/lib/python3/dist-packages (from anyio<4,>=3.1.0->jupyter-server->jupyterlab-git) (3.3)\n",
      "Requirement already satisfied: sniffio>=1.1 in /home/ifqi91/.local/lib/python3.10/site-packages (from anyio<4,>=3.1.0->jupyter-server->jupyterlab-git) (1.3.0)\n",
      "Collecting gitdb<5,>=4.0.1\n",
      "  Downloading gitdb-4.0.9-py3-none-any.whl (63 kB)\n",
      "\u001b[2K     \u001b[38;2;114;156;31m━━━━━━━━━━━━━━━━━━━━━━━━━━━━━━━━━━━━━━━\u001b[0m \u001b[32m63.1/63.1 kB\u001b[0m \u001b[31m748.7 kB/s\u001b[0m eta \u001b[36m0:00:00\u001b[0m31m3.6 MB/s\u001b[0m eta \u001b[36m0:00:01\u001b[0m\n",
      "\u001b[?25hRequirement already satisfied: attrs>=17.4.0 in /usr/lib/python3/dist-packages (from jsonschema>=2.6->nbformat->jupyterlab-git) (22.1.0)\n",
      "Requirement already satisfied: pyrsistent!=0.17.0,!=0.17.1,!=0.17.2,>=0.14.0 in /usr/lib/python3/dist-packages (from jsonschema>=2.6->nbformat->jupyterlab-git) (0.18.1)\n",
      "Requirement already satisfied: nest-asyncio>=1.5.4 in /home/ifqi91/.local/lib/python3.10/site-packages (from jupyter-client>=6.1.12->jupyter-server->jupyterlab-git) (1.5.6)\n",
      "Requirement already satisfied: entrypoints in /home/ifqi91/.local/lib/python3.10/site-packages (from jupyter-client>=6.1.12->jupyter-server->jupyterlab-git) (0.4)\n",
      "Requirement already satisfied: python-dateutil>=2.8.2 in /home/ifqi91/.local/lib/python3.10/site-packages (from jupyter-client>=6.1.12->jupyter-server->jupyterlab-git) (2.8.2)\n",
      "Collecting tornado\n",
      "  Downloading tornado-6.2-cp37-abi3-manylinux_2_5_x86_64.manylinux1_x86_64.manylinux_2_17_x86_64.manylinux2014_x86_64.whl (423 kB)\n",
      "\u001b[2K     \u001b[38;2;114;156;31m━━━━━━━━━━━━━━━━━━━━━━━━━━━━━━━━━━━━━━━\u001b[0m \u001b[32m424.0/424.0 kB\u001b[0m \u001b[31m2.8 MB/s\u001b[0m eta \u001b[36m0:00:00\u001b[0mm eta \u001b[36m0:00:01\u001b[0m0:01\u001b[0m:01\u001b[0m\n",
      "\u001b[?25hRequirement already satisfied: jupyterlab-pygments in /home/ifqi91/.local/lib/python3.10/site-packages (from nbconvert>=6.4.4->jupyter-server->jupyterlab-git) (0.2.2)\n",
      "Requirement already satisfied: defusedxml in /home/ifqi91/.local/lib/python3.10/site-packages (from nbconvert>=6.4.4->jupyter-server->jupyterlab-git) (0.7.1)\n",
      "Requirement already satisfied: markupsafe>=2.0 in /usr/lib/python3/dist-packages (from nbconvert>=6.4.4->jupyter-server->jupyterlab-git) (2.0.1)\n",
      "Requirement already satisfied: bleach in /home/ifqi91/.local/lib/python3.10/site-packages (from nbconvert>=6.4.4->jupyter-server->jupyterlab-git) (5.0.1)\n",
      "Requirement already satisfied: pandocfilters>=1.4.1 in /home/ifqi91/.local/lib/python3.10/site-packages (from nbconvert>=6.4.4->jupyter-server->jupyterlab-git) (1.5.0)\n",
      "Requirement already satisfied: lxml in /usr/lib/python3/dist-packages (from nbconvert>=6.4.4->jupyter-server->jupyterlab-git) (4.9.1)\n",
      "Requirement already satisfied: nbclient>=0.5.0 in /home/ifqi91/.local/lib/python3.10/site-packages (from nbconvert>=6.4.4->jupyter-server->jupyterlab-git) (0.6.8)\n",
      "Requirement already satisfied: mistune<3,>=2.0.3 in /home/ifqi91/.local/lib/python3.10/site-packages (from nbconvert>=6.4.4->jupyter-server->jupyterlab-git) (2.0.4)\n",
      "Requirement already satisfied: tinycss2 in /home/ifqi91/.local/lib/python3.10/site-packages (from nbconvert>=6.4.4->jupyter-server->jupyterlab-git) (1.1.1)\n",
      "Requirement already satisfied: beautifulsoup4 in /usr/lib/python3/dist-packages (from nbconvert>=6.4.4->jupyter-server->jupyterlab-git) (4.11.1)\n",
      "Requirement already satisfied: ptyprocess in /usr/lib/python3/dist-packages (from terminado>=0.8.3->jupyter-server->jupyterlab-git) (0.7.0)\n",
      "Requirement already satisfied: argon2-cffi-bindings in /home/ifqi91/.local/lib/python3.10/site-packages (from argon2-cffi->jupyter-server->jupyterlab-git) (21.2.0)\n",
      "Collecting smmap<6,>=3.0.1\n",
      "  Downloading smmap-5.0.0-py3-none-any.whl (24 kB)\n",
      "Requirement already satisfied: six>=1.5 in /usr/lib/python3/dist-packages (from python-dateutil>=2.8.2->jupyter-client>=6.1.12->jupyter-server->jupyterlab-git) (1.16.0)\n",
      "Requirement already satisfied: cffi>=1.0.1 in /home/ifqi91/.local/lib/python3.10/site-packages (from argon2-cffi-bindings->argon2-cffi->jupyter-server->jupyterlab-git) (1.15.1)\n",
      "Requirement already satisfied: webencodings in /usr/lib/python3/dist-packages (from bleach->nbconvert>=6.4.4->jupyter-server->jupyterlab-git) (0.5.1)\n",
      "Requirement already satisfied: pycparser in /home/ifqi91/.local/lib/python3.10/site-packages (from cffi>=1.0.1->argon2-cffi-bindings->argon2-cffi->jupyter-server->jupyterlab-git) (2.21)\n",
      "Installing collected packages: tornado, smmap, gitdb, GitPython, jupyter-server-mathjax, nbdime, jupyterlab-git\n",
      "  Attempting uninstall: tornado\n",
      "    Found existing installation: tornado 6.1\n",
      "    Uninstalling tornado-6.1:\n",
      "      Successfully uninstalled tornado-6.1\n",
      "\u001b[31mERROR: pip's dependency resolver does not currently take into account all the packages that are installed. This behaviour is the source of the following dependency conflicts.\n",
      "distributed 2022.10.2 requires tornado<6.2,>=6.0.3, but you have tornado 6.2 which is incompatible.\u001b[0m\u001b[31m\n",
      "\u001b[0mSuccessfully installed GitPython-3.1.29 gitdb-4.0.9 jupyter-server-mathjax-0.2.6 jupyterlab-git-0.39.3 nbdime-3.1.1 smmap-5.0.0 tornado-6.2\n",
      "\n",
      "\u001b[1m[\u001b[0m\u001b[34;49mnotice\u001b[0m\u001b[1;39;49m]\u001b[0m\u001b[39;49m A new release of pip available: \u001b[0m\u001b[31;49m22.3\u001b[0m\u001b[39;49m -> \u001b[0m\u001b[32;49m22.3.1\u001b[0m\n",
      "\u001b[1m[\u001b[0m\u001b[34;49mnotice\u001b[0m\u001b[1;39;49m]\u001b[0m\u001b[39;49m To update, run: \u001b[0m\u001b[32;49mpython3 -m pip install --upgrade pip\u001b[0m\n",
      "Note: you may need to restart the kernel to use updated packages.\n"
     ]
    }
   ],
   "source": [
    "%pip install jupyterlab-git"
   ]
  },
  {
   "cell_type": "code",
   "execution_count": 2,
   "id": "97425776-47a5-419f-a211-5a7511832bbf",
   "metadata": {},
   "outputs": [
    {
     "ename": "SyntaxError",
     "evalue": "invalid syntax (3917727154.py, line 1)",
     "output_type": "error",
     "traceback": [
      "\u001b[0;36m  Cell \u001b[0;32mIn [2], line 1\u001b[0;36m\u001b[0m\n\u001b[0;31m    python3 -m pip install --upgrade pip\u001b[0m\n\u001b[0m               ^\u001b[0m\n\u001b[0;31mSyntaxError\u001b[0m\u001b[0;31m:\u001b[0m invalid syntax\n"
     ]
    }
   ],
   "source": [
    "python3 -m pip install --upgrade pip"
   ]
  }
 ],
 "metadata": {
  "kernelspec": {
   "display_name": "Python 3 (ipykernel)",
   "language": "python",
   "name": "python3"
  },
  "language_info": {
   "codemirror_mode": {
    "name": "ipython",
    "version": 3
   },
   "file_extension": ".py",
   "mimetype": "text/x-python",
   "name": "python",
   "nbconvert_exporter": "python",
   "pygments_lexer": "ipython3",
   "version": "3.10.7"
  }
 },
 "nbformat": 4,
 "nbformat_minor": 5
}

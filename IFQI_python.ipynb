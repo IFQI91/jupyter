{
 "cells": [
  {
   "cell_type": "code",
   "execution_count": null,
   "id": "cce3a32d",
   "metadata": {},
   "outputs": [],
   "source": [
    "#Instalacion de paquetes necesarios\n",
    "#%pip install pdf2docx\n",
    "#%pip install jupyterlab (cargar desde consola) jupyternotebook o jupyterlab\n",
    "#%pip install sas_kernel (kernel sas)\n",
    "#%pip install saspy (kernel sas para python)\n",
    "#para importar sas (revisar procedimiento pagina de SAS OnDemand for Academics y saspy)\n",
    "import saspy\n",
    "sas_session=saspy.SASsession()\n",
    "sas_session"
   ]
  },
  {
   "cell_type": "code",
   "execution_count": null,
   "id": "1ab0da9c",
   "metadata": {},
   "outputs": [],
   "source": [
    "\n",
    "#convertidor de pdf a word\n",
    "from pdf2docx import Converter\n",
    "pdf_file= 'T1_COA501O22.pdf'\n",
    "docx_file='T1_COA501O22.docx'\n",
    "cv=Converter (pdf_file)\n",
    "cv.convert(docx_file)\n",
    "cv.close()"
   ]
  },
  {
   "cell_type": "code",
   "execution_count": null,
   "id": "55128344",
   "metadata": {
    "scrolled": true
   },
   "outputs": [],
   "source": [
    "#librerias\n",
    "from matplotlib import pyplot as plt\n",
    "import pandas as pd\n",
    "import numpy as np\n",
    "import seaborn as sb\n",
    "\n",
    "%matplotlib inline\n",
    "from mpl_toolkits.mplot3d import Axes3D\n",
    "from matplotlib import cm\n",
    "plt.rcParams['figure.figsize'] = (16, 9)\n",
    "plt.style.use('ggplot')\n",
    "from sklearn import linear_model\n",
    "from sklearn.metrics import mean_squared_error, r2_score\n",
    "\n",
    "\n",
    "\n",
    "#lectura de base de datos\n",
    "base=pd.read_csv('data_GBIF_Dfrontalis.csv')\n",
    "type(base)\n",
    "base\n",
    "\n",
    "#TAB para opciones de autocompletado\n"
   ]
  },
  {
   "cell_type": "code",
   "execution_count": null,
   "id": "07d9c14a",
   "metadata": {},
   "outputs": [],
   "source": [
    "#base.plot(x=\"name\", y=[\"key\", \"ID_ntb\"])\n",
    "base.plot(x=\"longitude\", y=\"latitude\", kind=\"scatter\",color=\"y\",marker=r'$\\clubsuit$',alpha=0.5,label=\"D.frontalis\")\n",
    "\n",
    "#etiquetas ejes\n",
    "plt.xlabel(\"Longitud\")\n",
    "plt.ylabel(\"Latitud\")\n",
    "plt.legend(loc='upper left')\n",
    "\n",
    "plt.show()"
   ]
  },
  {
   "cell_type": "code",
   "execution_count": null,
   "id": "93d61b4a",
   "metadata": {},
   "outputs": [],
   "source": [
    "base.hist(\"longitude\",color=\"red\")\n",
    "plt.show()"
   ]
  },
  {
   "cell_type": "markdown",
   "id": "0b3ae3ed",
   "metadata": {},
   "source": [
    "## Instalacion"
   ]
  },
  {
   "cell_type": "code",
   "execution_count": null,
   "id": "4224f276",
   "metadata": {},
   "outputs": [],
   "source": [
    "x=[\"A\",\"B\",\"C\"]\n",
    "y=[10,20,30]\n",
    "plt.bar(x,y)\n",
    "plt.show()\n",
    "\n",
    "x1=[1,2,3]\n",
    "plt.scatter(x1,y)\n",
    "plt.show()"
   ]
  },
  {
   "cell_type": "code",
   "execution_count": null,
   "id": "8f1a2cf5",
   "metadata": {},
   "outputs": [],
   "source": [
    "plt.figure()"
   ]
  },
  {
   "cell_type": "code",
   "execution_count": null,
   "id": "52150402",
   "metadata": {},
   "outputs": [],
   "source": []
  }
 ],
 "metadata": {
  "kernelspec": {
   "display_name": "Python 3 (ipykernel)",
   "language": "python",
   "name": "python3"
  },
  "language_info": {
   "codemirror_mode": {
    "name": "ipython",
    "version": 3
   },
   "file_extension": ".py",
   "mimetype": "text/x-python",
   "name": "python",
   "nbconvert_exporter": "python",
   "pygments_lexer": "ipython3",
   "version": "3.10.7"
  }
 },
 "nbformat": 4,
 "nbformat_minor": 5
}

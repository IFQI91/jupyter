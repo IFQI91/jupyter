{
 "cells": [
  {
   "cell_type": "markdown",
   "id": "dc240c35",
   "metadata": {},
   "source": [
    "## SAS en JUPYTER con saspy, sas_kernel y SAS OnDemand for Academics\n",
    "#### %pip install sas_kernel (kernel sas)\n",
    "#### %pip install saspy (kernel sas para python)\n",
    "#### para importar sas (revisar procedimiento pagina de SAS OnDemand for Academics y saspy)\n",
    "#### import saspy\n",
    "#### sas_session=saspy.SASsession()\n",
    "#### sas_session"
   ]
  },
  {
   "cell_type": "markdown",
   "id": "5af8a79d",
   "metadata": {
    "scrolled": false
   },
   "source": [
    "### Mi primera base de datos"
   ]
  },
  {
   "cell_type": "code",
   "execution_count": null,
   "id": "fc70927f",
   "metadata": {},
   "outputs": [],
   "source": [
    "DATA uno;\n",
    "input x y nombre $;\n",
    "datalines;\n",
    "1.87 75 juan\n",
    "2.0 85 luis\n",
    "1.5 60 alex\n",
    "1.67 68 fer\n",
    ";\n",
    "run;\n",
    "proc print data=uno;\n",
    "run;"
   ]
  },
  {
   "cell_type": "code",
   "execution_count": null,
   "id": "a84d6301",
   "metadata": {},
   "outputs": [],
   "source": [
    "proc means; run;"
   ]
  },
  {
   "cell_type": "code",
   "execution_count": null,
   "id": "8aa271d3",
   "metadata": {},
   "outputs": [],
   "source": [
    "proc sgscatter data=uno;\n",
    "plot y*x\n",
    "/datalabel= nombre group= nombre;\n",
    "run;"
   ]
  },
  {
   "cell_type": "code",
   "execution_count": null,
   "id": "0f20a222",
   "metadata": {},
   "outputs": [],
   "source": []
  }
 ],
 "metadata": {
  "kernelspec": {
   "display_name": "SAS",
   "language": "sas",
   "name": "sas"
  },
  "language_info": {
   "codemirror_mode": "sas",
   "file_extension": ".sas",
   "mimetype": "text/x-sas",
   "name": "sas"
  }
 },
 "nbformat": 4,
 "nbformat_minor": 5
}

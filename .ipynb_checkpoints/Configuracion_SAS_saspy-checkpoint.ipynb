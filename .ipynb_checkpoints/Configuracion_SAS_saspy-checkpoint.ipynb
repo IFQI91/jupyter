{
 "cells": [
  {
   "cell_type": "code",
   "execution_count": null,
   "id": "efeb4f1c",
   "metadata": {},
   "outputs": [],
   "source": [
    "#Instalacion de temas oscuros y otros\n",
    "#!pip install jupyterthemes\n",
    "#cambiar temas en consola con jt -t tema; ver temas con jt -l (todo en carpeta de instalacion de jupyter)\n",
    "#version normal jt -r"
   ]
  },
  {
   "cell_type": "code",
   "execution_count": null,
   "id": "005686ad",
   "metadata": {
    "scrolled": true,
    "tags": []
   },
   "outputs": [],
   "source": [
    "#%pip install sas_kernel #(kernel sas)\n",
    "#%pip install saspy #(kernel sas para python)\n",
    "#para importar sas (revisar procedimiento pagina de SAS OnDemand for Academics y saspy)\n",
    "import saspy\n",
    "sas_session=saspy.SASsession()\n",
    "sas_session"
   ]
  },
  {
   "cell_type": "code",
   "execution_count": null,
   "id": "324beecd",
   "metadata": {},
   "outputs": [],
   "source": [
    "#Configuracion adicional\n",
    "ssh      = {'saspath' : '/opt/sasinside/SASHome/SASFoundation/9.4/bin/sas_u8',\n",
    "            'ssh'     : '/usr/bin/ssh',\n",
    "            'host'    : 'remote.linux.host',\n",
    "            'options' : [\"-fullstimer\"]\n",
    "           }\n",
    "\n",
    "\n",
    "sas = saspy.SASsession(cfgname='ssh',\n",
    "                       options=[\"-fullstimer\", \"-autoexec\", \"/home/my.autoexec.sas\"],\n",
    "                       host=\"'other.host.with.sas\")"
   ]
  },
  {
   "cell_type": "code",
   "execution_count": null,
   "id": "979aeaab",
   "metadata": {
    "scrolled": false
   },
   "outputs": [],
   "source": [
    "#codigo de python\n",
    "import pandas as pd\n",
    "base = pd.read_csv(\"./data_GBIF_Dfrontalis.csv\")\n",
    "base.head()\n"
   ]
  },
  {
   "cell_type": "code",
   "execution_count": null,
   "id": "1aa22d20",
   "metadata": {
    "scrolled": true
   },
   "outputs": [],
   "source": [
    "base2=sas.df2sd(base,\"base2\")\n",
    "base2.head(10)"
   ]
  },
  {
   "cell_type": "code",
   "execution_count": null,
   "id": "cc6d1151",
   "metadata": {},
   "outputs": [],
   "source": [
    "base2.means()"
   ]
  },
  {
   "cell_type": "code",
   "execution_count": null,
   "id": "8332f905",
   "metadata": {
    "scrolled": true
   },
   "outputs": [],
   "source": [
    "sas.submitLST(\"proc print data=work.base2 (obs=5);run;\",method=\"listorlog\")"
   ]
  },
  {
   "cell_type": "code",
   "execution_count": null,
   "id": "1c8c092f",
   "metadata": {},
   "outputs": [],
   "source": [
    "%%SAS\n",
    "\n",
    "DATA uno;\n",
    "input x y nombre $;\n",
    "datalines;\n",
    "1.87 75 juan\n",
    "2.0 85 juan\n",
    "1.90 79 juan\n",
    "1.5 60 alex\n",
    "1.67 68 alex\n",
    "1.69 70 alex\n",
    ";\n",
    "run;\n",
    "\n",
    "proc print data=uno;\n",
    "run;"
   ]
  },
  {
   "cell_type": "code",
   "execution_count": null,
   "id": "358691b3",
   "metadata": {},
   "outputs": [],
   "source": [
    "%%SAS\n",
    "proc anova data=uno;\n",
    "class nombre;\n",
    "model y=nombre;\n",
    "run;"
   ]
  }
 ],
 "metadata": {
  "kernelspec": {
   "display_name": "Python 3 (ipykernel)",
   "language": "python",
   "name": "python3"
  },
  "language_info": {
   "codemirror_mode": {
    "name": "ipython",
    "version": 3
   },
   "file_extension": ".py",
   "mimetype": "text/x-python",
   "name": "python",
   "nbconvert_exporter": "python",
   "pygments_lexer": "ipython3",
   "version": "3.10.7"
  }
 },
 "nbformat": 4,
 "nbformat_minor": 5
}

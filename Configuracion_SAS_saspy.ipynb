{
 "cells": [
  {
   "cell_type": "code",
   "execution_count": null,
   "id": "005686ad",
   "metadata": {},
   "outputs": [],
   "source": [
    "#%pip install sas_kernel (kernel sas)\n",
    "#%pip install saspy (kernel sas para python)\n",
    "#para importar sas (revisar procedimiento pagina de SAS OnDemand for Academics y saspy)\n",
    "import saspy\n",
    "sas_session=saspy.SASsession()\n",
    "sas_session"
   ]
  }
 ],
 "metadata": {
  "kernelspec": {
   "display_name": "Python 3 (ipykernel)",
   "language": "python",
   "name": "python3"
  },
  "language_info": {
   "codemirror_mode": {
    "name": "ipython",
    "version": 3
   },
   "file_extension": ".py",
   "mimetype": "text/x-python",
   "name": "python",
   "nbconvert_exporter": "python",
   "pygments_lexer": "ipython3",
   "version": "3.10.6"
  }
 },
 "nbformat": 4,
 "nbformat_minor": 5
}
